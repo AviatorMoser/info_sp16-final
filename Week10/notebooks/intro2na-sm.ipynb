{
 "cells": [
  {
   "cell_type": "markdown",
   "metadata": {},
   "source": [
    "<DIV ALIGN=CENTER>\n",
    "\n",
    "# Introduction to Network Analysis: Social Media\n",
    "## Professor Robert J. Brunner\n",
    "  \n",
    "</DIV>  \n",
    "-----\n",
    "-----"
   ]
  },
  {
   "cell_type": "markdown",
   "metadata": {},
   "source": [
    "## Introduction\n",
    "\n",
    "In this IPython Notebook, we build on \n",
    "\n",
    "-----\n",
    "\n"
   ]
  },
  {
   "cell_type": "code",
   "execution_count": 1,
   "metadata": {
    "collapsed": false
   },
   "outputs": [],
   "source": [
    "# Set up Notebook\n",
    "\n",
    "% matplotlib inline\n",
    "\n",
    "# Standard imports\n",
    "import numpy as np\n",
    "import pandas as pd\n",
    "import matplotlib.pyplot as plt\n",
    "import seaborn as sns\n",
    "\n",
    "# We do this to ignore several specific Pandas warnings\n",
    "import warnings\n",
    "warnings.filterwarnings(\"ignore\")"
   ]
  },
  {
   "cell_type": "markdown",
   "metadata": {
    "collapsed": false
   },
   "source": [
    "-----\n",
    "\n",
    "## Build co-occurance graph\n",
    "\n",
    "\n",
    "-----"
   ]
  },
  {
   "cell_type": "code",
   "execution_count": null,
   "metadata": {
    "collapsed": false
   },
   "outputs": [
    {
     "name": "stdout",
     "output_type": "stream",
     "text": [
      "Twitter Screen Name:  ProfBrunner\n",
      "Twitter Follower Count:  149\n"
     ]
    }
   ],
   "source": [
    "# Inspired by Fernando Perez's demo code:\n",
    "# https://gist.github.com/fperez/5681541\n",
    "import tweepy as tw\n",
    "\n",
    "# Order: Access Token, Access Token Secret, \n",
    "# Consumer Key, Consumer SecretAccess\n",
    "cred_file = '../../Week8/notebooks/twitter.cred'\n",
    "\n",
    "tokens = []\n",
    "\n",
    "with open(cred_file, 'r') as fin:\n",
    "    for line in fin:\n",
    "        if line[0] != '#': # Not a comment line\n",
    "            tokens.append(line.rstrip('\\n'))\n",
    "\n",
    "auth = tw.OAuthHandler(tokens[2], tokens[3])\n",
    "auth.set_access_token(tokens[0], tokens[1])\n",
    "\n",
    "api = tw.API(auth, \n",
    "             wait_on_rate_limit=True, \n",
    "             wait_on_rate_limit_notify=True)\n",
    "\n",
    "user = api.me()\n",
    "\n",
    "print(\"Twitter Screen Name: \", user.screen_name)\n",
    "print(\"Twitter Follower Count: \", user.followers_count)"
   ]
  },
  {
   "cell_type": "code",
   "execution_count": null,
   "metadata": {
    "collapsed": false
   },
   "outputs": [],
   "source": [
    "# Number of tweets to get\n",
    "# Note we will wait until we get them all, so keep small\n",
    "num_tweets = 2500\n",
    "\n",
    "# Search term: for us this is hashtag of interest\n",
    "s_term = '#datascience'\n",
    "\n",
    "# Lists we use throughout the notebook\n",
    "users = []\n",
    "tweets = []\n",
    "\n",
    "# Get the tweets\n",
    "results = tw.Cursor(api.search, q=s_term).items(num_tweets)\n",
    "\n",
    "# Build lists from twitter search results\n",
    "for result in results:\n",
    "    users.append(result.user.screen_name)\n",
    "    tweets.append(result.text)"
   ]
  },
  {
   "cell_type": "code",
   "execution_count": null,
   "metadata": {
    "collapsed": false
   },
   "outputs": [],
   "source": [
    "print('Total number of tweets = {0}'.format(len(tweets)))"
   ]
  },
  {
   "cell_type": "code",
   "execution_count": null,
   "metadata": {
    "collapsed": false
   },
   "outputs": [],
   "source": [
    "# Print tweet with most hashtags\n",
    "\n",
    "cnts = [tweet.count('#') for tweet in tweets]\n",
    "\n",
    "max_cnt = max(cnts)\n",
    "max_idx = cnts.index(max_cnt)\n",
    "\n",
    "print('Max hashtags in tweet (count = {0})'.format(cnts[max_idx]))\n",
    "print(60*'-')\n",
    "print(tweets[max_idx])"
   ]
  },
  {
   "cell_type": "code",
   "execution_count": null,
   "metadata": {
    "collapsed": false
   },
   "outputs": [],
   "source": [
    "# https://docs.python.org/dev/library/collections.html#collections.Counter\n",
    "# https://docs.python.org/2/library/itertools.html#itertools.combinations\n",
    "# https://docs.python.org/3/library/string.html#string.punctuation\n",
    "\n",
    "from collections import Counter\n",
    "from itertools import combinations\n",
    "import string\n",
    "\n",
    "tkns = set()\n",
    "cnt = Counter()\n",
    "\n",
    "# Iterate over all tweets\n",
    "for tweet in tweets:\n",
    "    \n",
    "    # First, we use a list comprehension that extract hashtags\n",
    "    # We strip off leading '#', then remove trailing punctuation.\n",
    "    # And turn all characters to lowercase.\n",
    "    # Note this is not Unicode clean.\n",
    "    # Finally, we sort the list of tags (which will ensure the\n",
    "    # Counter works correctly)\n",
    "    \n",
    "    tags = sorted([tag.lstrip(\"#\").rstrip(string.punctuation).lower() \n",
    "            for tag in tweet.split() if tag.startswith(\"#\")])\n",
    "    \n",
    "    # We now build our set of tokens\n",
    "    \n",
    "    for tag in tags:\n",
    "        tkns.add(tag)\n",
    "            \n",
    "    # Next we use combinations from the itertools library \n",
    "    # to make a list of tag pairs. \n",
    "    # We then increment the counter for each paried tag\n",
    "\n",
    "    for paired_tags in combinations(tags, 2):\n",
    "        cnt[paired_tags] += 1\n",
    "\n",
    "# How many hashtags did we extract?\n",
    "print('Total number of unique hashtags = {0}'.format(len(tkns)))\n",
    "\n",
    "# Extract the top pair, list of tuples (pair, count)\n",
    "mc = cnt.most_common(1)[0]\n",
    "print('Total number of paired tags = {0}'.format(len(cnt)))\n",
    "print('Most common pair = {0}, occurs {1} times.'.format(mc[0], mc[1]))"
   ]
  },
  {
   "cell_type": "code",
   "execution_count": null,
   "metadata": {
    "collapsed": false
   },
   "outputs": [],
   "source": [
    "# Now we go through pair counter for top pairs to build network.\n",
    "\n",
    "tkns = set()\n",
    "num_top_pairs = 25\n",
    "\n",
    "top_pairs = cnt.most_common(num_top_pairs)\n",
    "\n",
    "for pair, count in top_pairs:\n",
    "    tkns.add(pair[0])\n",
    "    tkns.add(pair[1])\n",
    "\n",
    "print('Total number of unique hashtags = {0}\\n'.format(len(tkns)))\n",
    "print('Hashtags to graph:')\n",
    "print(40*'-')\n",
    "print(tkns)"
   ]
  },
  {
   "cell_type": "code",
   "execution_count": null,
   "metadata": {
    "collapsed": false
   },
   "outputs": [],
   "source": [
    "# First setup the current figure. \n",
    "# No axes, no Axes labels, white background\n",
    "\n",
    "fig, axes = plt.subplots(figsize=(12, 12))\n",
    "\n",
    "clrs = sns.color_palette(\"Paired\")\n",
    "\n",
    "sns.set(style='white', font_scale=1.5)\n",
    "\n",
    "sns.despine(top = True, bottom = True, \n",
    "            left = True, right = True)\n",
    "\n",
    "axes.set_xticklabels([])\n",
    "axes.set_yticklabels([])\n",
    "\n",
    "# Build graph\n",
    "\n",
    "import networkx as nx\n",
    "\n",
    "g = nx.Graph()\n",
    "\n",
    "g.add_nodes_from(list(tkns))\n",
    "\n",
    "for pair, count in top_pairs:\n",
    "    g.add_edge(pair[0], pair[1], weight=count)\n",
    "\n",
    "# Now draw graph, use circular layout\n",
    "\n",
    "pos = nx.circular_layout(g)\n",
    "\n",
    "nx.draw_networkx_nodes(g, pos, with_labels=True,\n",
    "                       node_size = 3000,\n",
    "                       node_color=clrs[2],\n",
    "                       node_shape='H',\n",
    "                       alpha = 0.4)\n",
    "\n",
    "# Build up list of edges and weights for controlled plotting\n",
    "edges = []\n",
    "weights = []\n",
    "\n",
    "for n1, n2, dct in g.edges(data=True):\n",
    "    edges.append((n1, n2))\n",
    "    weights.append(dct['weight'])\n",
    "\n",
    "# Make normalized weights (scale to minimum weight)\n",
    "min_weight = min(weights)\n",
    "norm_weights = [int(weight/min_weight) for weight in weights]\n",
    "\n",
    "# Draw weighted edges, we pass in the edgelist so we can \n",
    "# also pass in the edge weights individually\n",
    "nx.draw_networkx_edges(g, pos, edgelist=edges, \n",
    "                       width = norm_weights, \n",
    "                       edge_color=clrs.as_hex()[4],\n",
    "                       alpha = 0.6)\n",
    "\n",
    "# Now label nodes, since we don't provide lables, it uses the \n",
    "# default labels (which is what we want)\n",
    "nx.draw_networkx_labels(g, pos, font_size = 18,\n",
    "                        font_color = clrs[1],\n",
    "                        alpha = 1.0)\n",
    "\n",
    "plt.title('Hashtag Co-Occurance Plot for #DataScience')\n",
    "plt.show()"
   ]
  },
  {
   "cell_type": "markdown",
   "metadata": {
    "collapsed": true
   },
   "source": [
    "-----\n",
    "\n",
    "### Student Activity\n",
    "\n",
    "In the preceding cells, we introduced ... . Now\n",
    "that you have run the Notebook, go back and make the following changes\n",
    "to see how the results change.\n",
    "\n",
    "1. Change \n",
    "2. Replace \n",
    "3. Try using \n",
    "\n",
    "-----\n",
    "\n",
    "## Social Graph\n",
    "\n",
    "-----"
   ]
  },
  {
   "cell_type": "code",
   "execution_count": null,
   "metadata": {
    "collapsed": false
   },
   "outputs": [],
   "source": [
    "#user = api.me()\n",
    "\n",
    "# Explicitly get instructor, can change.\n",
    "user = api.get_user('ProfBrunner')\n",
    "\n",
    "# We accumulate a list of ids for our friends\n",
    "my_friends = []\n",
    "\n",
    "# We map id to screen names to minimize twitter calls\n",
    "id2name = {}\n",
    "id2name[user.id] = user.screen_name\n",
    "\n",
    "# Note: I remove extra users to reduce chance of rate limits later.\n",
    "# The '*Fact' accounts don't follow peopel (in general)\n",
    "\n",
    "print('\\n{0} follows:\\n--------------'.format(user.screen_name))\n",
    "for friend in user.friends():\n",
    "    if 'Fact' not in friend.screen_name:\n",
    "        print(friend.screen_name)\n",
    "        my_friends.append(friend.id)\n",
    "        id2name[friend.id] = friend.screen_name"
   ]
  },
  {
   "cell_type": "code",
   "execution_count": null,
   "metadata": {
    "collapsed": false
   },
   "outputs": [],
   "source": [
    "# To minimize twitter API calls, we grab the friend ids for all of the\n",
    "# current user's friends. This needs to be less than 15 or we can it\n",
    "# rate limits. Also, don't rerun frequently, or you hit rate limits.\n",
    "\n",
    "ids2ids = {}\n",
    "ids2ids[user.id] = my_friends\n",
    "\n",
    "# We loop over our friends. We could limit this to first n (n < 15) to\n",
    "# minimize rate limits\n",
    "\n",
    "for friend in my_friends:\n",
    "    \n",
    "    print('Finding friends for {0}'.format(id2name[friend]))\n",
    "    \n",
    "    ids2ids[friend] = api.friends_ids(friend)\n",
    "    \n",
    "    print('Found {0} friends.'.format(len(ids2ids[friend])))"
   ]
  },
  {
   "cell_type": "code",
   "execution_count": null,
   "metadata": {
    "collapsed": false
   },
   "outputs": [],
   "source": [
    "# Now we use the cached friends ids and the \n",
    "# dictionary mapping between ids and names\n",
    "# to build edges in the directed graph.\n",
    "\n",
    "# Make a copy of the ids, and add the current user id\n",
    "# Doing this means we can find bi-directional edges\n",
    "ids = my_friends.copy()\n",
    "ids.append(user.id)\n",
    "\n",
    "# Create directed graph and add first node\n",
    "dg = nx.DiGraph()\n",
    "dg.add_node(user.screen_name)\n",
    "\n",
    "# Find edges in social graph and add to the graph.\n",
    "# We find friends of friends (fof) in the retreived ids\n",
    "for id in ids:\n",
    "    for fof in ids2ids[id]:\n",
    "        if fof in ids:\n",
    "            dg.add_edge(id2name[id], id2name[fof])"
   ]
  },
  {
   "cell_type": "code",
   "execution_count": null,
   "metadata": {
    "collapsed": false
   },
   "outputs": [],
   "source": [
    "# First setup the current figure. \n",
    "# No axes, no Axes labels, white background\n",
    "\n",
    "fig, axes = plt.subplots(figsize=(12, 12))\n",
    "\n",
    "clrs = sns.color_palette(\"Paired\")\n",
    "\n",
    "sns.set(style='white', font_scale=1.5)\n",
    "\n",
    "sns.despine(top = True, bottom = True, \n",
    "            left = True, right = True)\n",
    "\n",
    "axes.set_xticklabels([])\n",
    "axes.set_yticklabels([])\n",
    "\n",
    "# Now draw graph, use circular layout\n",
    "\n",
    "#pos = nx.spring_layout(dg)\n",
    "pos = nx.circular_layout(dg)\n",
    "\n",
    "nx.draw_networkx_nodes(dg, pos, with_labels=True,\n",
    "                       node_size = 2000,\n",
    "                       node_color=clrs[2],\n",
    "                       node_shape='H',\n",
    "                       alpha = 0.4)\n",
    "\n",
    "nx.draw_networkx_edges(dg, pos,\n",
    "                       width = 1,\n",
    "                       edge_color=clrs.as_hex()[4],\n",
    "                       alpha = 0.6)\n",
    "\n",
    "nx.draw_networkx_labels(dg, pos, font_size = 18,\n",
    "                        font_color = clrs[1],\n",
    "                        alpha = 1.0)\n",
    "\n",
    "plt.title('Social connections for {0}'.format(user.screen_name))\n",
    "plt.show()"
   ]
  },
  {
   "cell_type": "markdown",
   "metadata": {},
   "source": [
    "-----\n",
    "\n",
    "### Student Activity\n",
    "\n",
    "In the preceding cells, we introduced ... . Now\n",
    "that you have run the Notebook, go back and make the following changes\n",
    "to see how the results change.\n",
    "\n",
    "1. Change \n",
    "2. Replace \n",
    "3. Try using \n",
    "\n",
    "-----"
   ]
  },
  {
   "cell_type": "code",
   "execution_count": null,
   "metadata": {
    "collapsed": false
   },
   "outputs": [],
   "source": [
    "nx.draw(dg, with_labels=True)"
   ]
  },
  {
   "cell_type": "code",
   "execution_count": null,
   "metadata": {
    "collapsed": true
   },
   "outputs": [],
   "source": [
    "# First setup the current figure. \n",
    "# No axes, no Axes labels, white background\n",
    "\n",
    "fig, axes = plt.subplots(figsize=(12, 12))\n",
    "\n",
    "clrs = sns.color_palette(\"Paired\")\n",
    "\n",
    "sns.set(style='white', font_scale=1.5)\n",
    "\n",
    "sns.despine(top = True, bottom = True, \n",
    "            left = True, right = True)\n",
    "\n",
    "axes.set_xticklabels([])\n",
    "axes.set_yticklabels([])\n",
    "\n",
    "# Now draw graph, use circular layout\n",
    "\n",
    "pos = nx.spectral_layout(dg)\n",
    "\n",
    "nx.draw_networkx_nodes(dg, pos, with_labels=True,\n",
    "                       node_size = 2000,\n",
    "                       node_color=clrs[2],\n",
    "                       node_shape='H',\n",
    "                       alpha = 0.4)\n",
    "\n",
    "nx.draw_networkx_edges(dg, pos,\n",
    "                       width = 1,\n",
    "                       edge_color=clrs.as_hex()[4],\n",
    "                       alpha = 0.6)\n",
    "\n",
    "nx.draw_networkx_labels(dg, pos, font_size = 18,\n",
    "                        font_color = clrs[1],\n",
    "                        alpha = 1.0)\n",
    "\n",
    "plt.title('Social connections for {0}'.format(user.screen_name))\n",
    "plt.show()"
   ]
  },
  {
   "cell_type": "code",
   "execution_count": null,
   "metadata": {
    "collapsed": true
   },
   "outputs": [],
   "source": [
    "# First setup the current figure. \n",
    "# No axes, no Axes labels, white background\n",
    "\n",
    "fig, axes = plt.subplots(figsize=(12, 12))\n",
    "\n",
    "clrs = sns.color_palette(\"Paired\")\n",
    "\n",
    "sns.set(style='white', font_scale=1.5)\n",
    "\n",
    "sns.despine(top = True, bottom = True, \n",
    "            left = True, right = True)\n",
    "\n",
    "axes.set_xticklabels([])\n",
    "axes.set_yticklabels([])\n",
    "\n",
    "# Now draw graph, use circular layout\n",
    "\n",
    "pos = nx.spring_layout(dg)\n",
    "\n",
    "nx.draw_networkx_nodes(dg, pos, with_labels=True,\n",
    "                       node_size = 2000,\n",
    "                       node_color=clrs[2],\n",
    "                       node_shape='H',\n",
    "                       alpha = 0.4)\n",
    "\n",
    "nx.draw_networkx_edges(dg, pos,\n",
    "                       width = 1,\n",
    "                       edge_color=clrs.as_hex()[4],\n",
    "                       alpha = 0.6)\n",
    "\n",
    "nx.draw_networkx_labels(dg, pos, font_size = 18,\n",
    "                        font_color = clrs[1],\n",
    "                        alpha = 1.0)\n",
    "\n",
    "plt.title('Social connections for {0}'.format(user.screen_name))\n",
    "plt.show()"
   ]
  },
  {
   "cell_type": "code",
   "execution_count": null,
   "metadata": {
    "collapsed": true
   },
   "outputs": [],
   "source": []
  }
 ],
 "metadata": {
  "kernelspec": {
   "display_name": "Python 3",
   "language": "python",
   "name": "python3"
  },
  "language_info": {
   "codemirror_mode": {
    "name": "ipython",
    "version": 3
   },
   "file_extension": ".py",
   "mimetype": "text/x-python",
   "name": "python",
   "nbconvert_exporter": "python",
   "pygments_lexer": "ipython3",
   "version": "3.5.1"
  }
 },
 "nbformat": 4,
 "nbformat_minor": 0
}
