{
 "cells": [
  {
   "cell_type": "markdown",
   "metadata": {},
   "source": [
    "\n",
    "<DIV ALIGN=CENTER>\n",
    "\n",
    "# Advanced Data Science\n",
    "## University of Illinois\n",
    "### Professor: Robert J. Brunner  \n",
    "### Spring 2016\n",
    "\n",
    "</DIV>  \n",
    "-----\n",
    "-----"
   ]
  },
  {
   "cell_type": "markdown",
   "metadata": {},
   "source": [
    "## Week 14: Introduction to Cloud Computing\n",
    "\n",
    "### Lecture 1: [Introduction to Spark][l1]\n",
    "\n",
    "Learn about \n",
    "\n",
    "### Lecture 2: [Introduction to Spark MLib][l2]\n",
    "\n",
    "Learn \n",
    "\n",
    "### Lecture 3: [Introduction to Spark GraphX][l3]\n",
    "\n",
    "Learn \n",
    "\n",
    "-----\n",
    "\n",
    "[l1]: ./notebooks/intro2spark.ipynb\n",
    "[l2]: ./notebooks/intro2sparkmllib.ipynb\n",
    "[l3]: ./notebooks/intro2sparkgraphx.ipynb"
   ]
  },
  {
   "cell_type": "code",
   "execution_count": null,
   "metadata": {
    "collapsed": false
   },
   "outputs": [],
   "source": [
    "from IPython.display import Markdown\n",
    "\n",
    "Markdown(filename='README.md')"
   ]
  }
 ],
 "metadata": {
  "kernelspec": {
   "display_name": "Python 3",
   "language": "python",
   "name": "python3"
  },
  "language_info": {
   "codemirror_mode": {
    "name": "ipython",
    "version": 3
   },
   "file_extension": ".py",
   "mimetype": "text/x-python",
   "name": "python",
   "nbconvert_exporter": "python",
   "pygments_lexer": "ipython3",
   "version": "3.5.1"
  }
 },
 "nbformat": 4,
 "nbformat_minor": 0
}
