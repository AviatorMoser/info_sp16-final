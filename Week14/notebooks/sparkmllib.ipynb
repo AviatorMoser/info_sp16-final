{
 "cells": [
  {
   "cell_type": "markdown",
   "metadata": {},
   "source": [
    "<DIV ALIGN=CENTER>\n",
    "\n",
    "# Introduction to Spark\n",
    "## Professor Robert J. Brunner\n",
    "  \n",
    "</DIV>  \n",
    "-----\n",
    "-----"
   ]
  },
  {
   "cell_type": "markdown",
   "metadata": {},
   "source": [
    "## Introduction\n",
    "\n",
    "Previously in this course, we have discussed doing data science at the\n",
    "Unix command line, and with Python, primarily by using Pandas. We also\n",
    "have discussed other Python libraries that bring new functionalities to\n",
    "the Python data science stack. Other _big data_ technologies, however,\n",
    "also exist and can be relevant to particular data science\n",
    "investigations, depending on the scale of data. Of these other\n",
    "technologies, one of the most promising is [**Spark**][sp].\n",
    "\n",
    "Spark is a cluster computing system that leverages [Hadoop][sh]\n",
    "technologies like [HDFS][shdfs] for high performance storage and\n",
    "[Yarn][sy] for cluster management. While some may see Spark as a\n",
    "replacement for Hadoop, an alternative argument can be made that [Spark\n",
    "is simply another compute engine][sce] for Hadoop, in addition to\n",
    "Map-Reduce.\n",
    "\n",
    "In this IPython Notebook, we explore using Spark to perform data\n",
    "processing in a similar maner to our previous efforts with Pandas. For\n",
    "this we will use the airline data, which has been stored in an HDFS\n",
    "system that is accesible from within our Spark cluster. [Other][dw]\n",
    "tutorials exist, although they often focus on Scala examples since Spark\n",
    "is written for that language.\n",
    "\n",
    "-----\n",
    "[sp]: http://spark.apache.org\n",
    "[sh]: http://hadoop.apache.org\n",
    "[sy]: https://hadoop.apache.org/docs/current/hadoop-yarn/hadoop-yarn-site/YARN.html\n",
    "[shdfs]: https://hadoop.apache.org/docs/current/hadoop-project-dist/hadoop-hdfs/HdfsUserGuide.html\n",
    "[sce]: http://techcrunch.com/2015/07/12/spark-and-hadoop-are-friends-not-foes/\n",
    "[dw]: https://github.com/deanwampler/spark-workshop/tree/master/tutorial"
   ]
  },
  {
   "cell_type": "markdown",
   "metadata": {},
   "source": [
    "### Initialization\n",
    "\n",
    "In this class, we have a dedicated Spark cluster running to allow\n",
    "students to explore Spark from within our IPython Notebook environment.\n",
    "Since our Spark cluster has limited resources, we need to carefully\n",
    "manage them, in particular we need to ensure that any SparkContext\n",
    "previously used by this Jupyter Server is properly released before\n",
    "starting a new one. After this, we will initialize a new SparkContext to\n",
    "properly interact from this dockerized IPython Notebook to the Spark\n",
    "cluster.\n",
    "\n",
    "----- "
   ]
  },
  {
   "cell_type": "code",
   "execution_count": 3,
   "metadata": {
    "collapsed": false
   },
   "outputs": [
    {
     "name": "stdout",
     "output_type": "stream",
     "text": [
      "\n",
      "Spark version: 1.6.0\n"
     ]
    }
   ],
   "source": [
    "# We release the SparkContext if it exists.\n",
    "try:\n",
    "    sc\n",
    "except:\n",
    "    pass ;\n",
    "else:\n",
    "    sc.stop()\n",
    "\n",
    "# Now handle initial import statements\n",
    "from pyspark import SparkConf, SparkContext\n",
    "\n",
    "# Create new Spark Configuration (port numbers might need to be adjusted from defaults.)\n",
    "myconf = SparkConf()\n",
    "myconf.setMaster('local[*]')\n",
    "myconf.setAppName(\"INFO490 SP16 W14-NB3: Professor Brunner\")\n",
    "myconf.set('spark.executor.memory', '1g')\n",
    "\n",
    "# Create and initialize a new Spark Context\n",
    "sc = SparkContext(conf=myconf)\n",
    "\n",
    "# Display Spark version information, which also verifies SparkContext is active\n",
    "print(\"\\nSpark version: {0}\".format(sc.version))"
   ]
  },
  {
   "cell_type": "markdown",
   "metadata": {},
   "source": [
    "-----\n",
    "\n",
    "### Data Processing\n",
    "\n",
    "Previously in this Notebook, we have used Spark to create simple RDDs\n",
    "that demonstrated Spark transformations and actions on small data. Now\n",
    "we will change approaches and analyze the airline data, first starting\n",
    "with the single 2001 flight data file. We can create a new RDD by\n",
    "reading in the data as a textfile, after which we execute the RDD\n",
    "creation by counting the number of lines in the RDD. We subsequently\n",
    "apply several other RDD methods to display the first few rows of data by\n",
    "using the `take` method. Finally, we use the built-in `help` to se the\n",
    "list of supported RDD methods.\n",
    "\n",
    "-----\n",
    "\n"
   ]
  },
  {
   "cell_type": "code",
   "execution_count": 4,
   "metadata": {
    "collapsed": false
   },
   "outputs": [],
   "source": [
    "filename = '/home/data_scientist/data/2001/2001-1.csv'\n",
    "\n",
    "text_file = sc.textFile(filename)\n",
    "\n",
    "col_data = text_file.map(lambda l: l.split(\",\")) \\\n",
    "            .map(lambda p: (p[0], p[1], p[2], p[4], p[14], p[15], p[16], p[17], p[18])) \\\n",
    "            .filter(lambda line: 'Year' not in line)\n",
    "\n",
    "cols = col_data.filter(lambda line: 'NA' not in line)\n",
    "\n",
    "fields = cols.map(lambda p: (int(p[0]), int(p[1]), int(p[2]), int(p[3]),\n",
    "                          int(p[4]), int(p[5]), p[6], p[7], int(p[8])))"
   ]
  },
  {
   "cell_type": "code",
   "execution_count": 5,
   "metadata": {
    "collapsed": false
   },
   "outputs": [
    {
     "data": {
      "text/plain": [
       "480106"
      ]
     },
     "execution_count": 5,
     "metadata": {},
     "output_type": "execute_result"
    }
   ],
   "source": [
    "# Should be 480106 if everything works correctly\n",
    "fields.count()"
   ]
  },
  {
   "cell_type": "code",
   "execution_count": 6,
   "metadata": {
    "collapsed": false
   },
   "outputs": [
    {
     "data": {
      "text/plain": [
       "[(2001, 1, 17, 1806, -3, -4, 'BWI', 'CLT', 361),\n",
       " (2001, 1, 18, 1805, 4, -5, 'BWI', 'CLT', 361),\n",
       " (2001, 1, 19, 1821, 23, 11, 'BWI', 'CLT', 361),\n",
       " (2001, 1, 20, 1807, 10, -3, 'BWI', 'CLT', 361),\n",
       " (2001, 1, 21, 1810, 20, 0, 'BWI', 'CLT', 361)]"
      ]
     },
     "execution_count": 6,
     "metadata": {},
     "output_type": "execute_result"
    }
   ],
   "source": [
    "fields.take(5)"
   ]
  },
  {
   "cell_type": "markdown",
   "metadata": {},
   "source": [
    "-----\n",
    "### Student Activity\n",
    "\n",
    "In the preceding cells, we introduced Spark DataFrames, Spark SQL, and Basic Statistics with Spark. Now that you have run the Notebook, go back and make the\n",
    "following changes to see how the results change.\n",
    "\n",
    "1. Change the DataFrame to ...\n",
    "\n",
    "2. New SQL query\n",
    "\n",
    "3. Compute Statistics for Poisson. Now swithc to lognormal and calculate statistics.\n",
    "`Numbers`.\n",
    "\n",
    "4. Add an index column to this Spark DataFrame, which sequentially\n",
    "increases.\n",
    "\n",
    "Additional, more advanced problems:\n",
    "\n",
    "1. Create a DataFrame containing the 'Year', 'Month', 'DayofMonth', 'dDelay',\n",
    "and 'Origin' columns for the airline data.\n",
    "\n",
    "2. Filter this DataFrame to contain only flight data for flights leaving Willard airport.\n",
    "\n",
    "-----"
   ]
  },
  {
   "cell_type": "markdown",
   "metadata": {},
   "source": [
    "-----\n",
    "\n",
    "### Ending the Spark Session\n",
    "\n",
    "We must stop the `SparkContext` in order to release resources on the\n",
    "instructional cluster before existing this Notebook.\n",
    "\n",
    "-----"
   ]
  },
  {
   "cell_type": "code",
   "execution_count": null,
   "metadata": {
    "collapsed": false
   },
   "outputs": [],
   "source": [
    "sc.stop()"
   ]
  },
  {
   "cell_type": "markdown",
   "metadata": {},
   "source": [
    "-----\n",
    "\n",
    "## Spark Statistics\n",
    "\n",
    "\n",
    "-----"
   ]
  },
  {
   "cell_type": "code",
   "execution_count": 7,
   "metadata": {
    "collapsed": false
   },
   "outputs": [],
   "source": [
    "from pyspark.mllib.stat import Statistics\n",
    "\n",
    "sdt = fields.map(lambda p: (p[2], p[3], p[4], p[5], p[8]))\n",
    "\n",
    "summary = Statistics.colStats(sdt)\n",
    "\n",
    "mus = summary.mean()\n",
    "mns = summary.min()\n",
    "mxs = summary.max()\n",
    "\n",
    "vrs = summary.variance()\n",
    "nnzs = summary.numNonzeros()"
   ]
  },
  {
   "cell_type": "code",
   "execution_count": 8,
   "metadata": {
    "collapsed": false
   },
   "outputs": [
    {
     "name": "stdout",
     "output_type": "stream",
     "text": [
      "                Mean    Variance     Min       Max  Non Zeroes\n",
      "-----------------------------------------------------------------\n",
      "Day            16.01       79.87    1.00     31.00      480106\n",
      "Dep. Time    1359.66   237399.85    1.00   2400.00      480106\n",
      "Arr. Delay      6.38      964.02  -80.00   1688.00      461157\n",
      "Dep. Delay      8.78      782.11  -59.00   1692.00      393503\n",
      "Distance      716.99   323369.33   21.00   4962.00      480106\n"
     ]
    }
   ],
   "source": [
    "cols = ['Day', 'Dep. Time', 'Arr. Delay', 'Dep. Delay', 'Distance']\n",
    "\n",
    "# Print out Header\n",
    "print('{0:>20s}{1:>12s}{2:>8s}{3:>10s}{4:>12s}'\\\n",
    "      .format('Mean', 'Variance', 'Min', 'Max', 'Non Zeroes'))\n",
    "print(65*'-')\n",
    "\n",
    "# Printout summary statistics\n",
    "for idx, (m, v, mn, mx, n) in enumerate(zip(mus, vrs, mns, mxs, nnzs)):\n",
    "    print('{5:10s}{0:10.2f}{1:12.2f}{2:8.2f}{3:10.2f}{4:12d}'\\\n",
    "          .format(m, v, mn, mx, int(n), cols[idx]))"
   ]
  },
  {
   "cell_type": "markdown",
   "metadata": {},
   "source": [
    "-----\n",
    "\n",
    "### Correlations\n",
    "\n",
    "\n",
    "-----"
   ]
  },
  {
   "cell_type": "code",
   "execution_count": 9,
   "metadata": {
    "collapsed": false
   },
   "outputs": [
    {
     "name": "stdout",
     "output_type": "stream",
     "text": [
      "x =  [0, 1, 2]\n",
      "y =  [1, 2, 4]\n",
      "z =  [2, 1, 0]\n",
      "\n",
      "Pearson Correlation Tests\n",
      "-------------------------\n",
      "x corr x = +1.000\n",
      "x corr y = +0.982\n",
      "x corr z = -1.000\n"
     ]
    }
   ],
   "source": [
    "# Demonstrate Correlation Measurements\n",
    "\n",
    "# Sample Data\n",
    "x = sc.parallelize([0, 1, 2])\n",
    "y = sc.parallelize([1, 2, 4])\n",
    "z = sc.parallelize([2, 1, 0])\n",
    "\n",
    "print('x = ', x.collect())\n",
    "print('y = ', y.collect())\n",
    "print('z = ', z.collect())\n",
    "\n",
    "print('\\nPearson Correlation Tests')\n",
    "print(25*'-')\n",
    "print('x corr x = {0:+5.3f}'\\\n",
    "      .format(Statistics.corr(x, x, method='pearson')))\n",
    "\n",
    "print('x corr y = {0:+5.3f}'\\\n",
    "      .format(Statistics.corr(x, y, method='pearson')))\n",
    "\n",
    "print('x corr z = {0:+5.3f}'\\\n",
    "      .format(Statistics.corr(x, z, method='pearson')))"
   ]
  },
  {
   "cell_type": "code",
   "execution_count": 10,
   "metadata": {
    "collapsed": false
   },
   "outputs": [
    {
     "name": "stdout",
     "output_type": "stream",
     "text": [
      "Dearture Time, Arrival Delay, Departure Delay\n",
      "\n",
      "Pearson Correlation Matrix:\n",
      "[[ 1.     0.134  0.167]\n",
      " [ 0.134  1.     0.904]\n",
      " [ 0.167  0.904  1.   ]]\n",
      "\n",
      "Spearman Correlation Matrix:\n",
      "[[ 1.     0.109  0.173]\n",
      " [ 0.109  1.     0.616]\n",
      " [ 0.173  0.616  1.   ]]\n"
     ]
    }
   ],
   "source": [
    "# Set print precision of matrices\n",
    "import numpy as np\n",
    "np.set_printoptions(precision=3)\n",
    "\n",
    "# Compute correlation of three columns in RDD\n",
    "cd = sdt.map(lambda p: (p[1], p[2], p[3]))\n",
    "\n",
    "print('Dearture Time, Arrival Delay, Departure Delay')\n",
    "\n",
    "print('\\nPearson Correlation Matrix:')\n",
    "print(Statistics.corr(cd, method='pearson'))\n",
    "\n",
    "print('\\nSpearman Correlation Matrix:')\n",
    "print(Statistics.corr(cd, method='spearman'))"
   ]
  },
  {
   "cell_type": "markdown",
   "metadata": {},
   "source": [
    "-----\n",
    "\n",
    "### Random Data and Sampling\n",
    "\n",
    "-----"
   ]
  },
  {
   "cell_type": "code",
   "execution_count": 11,
   "metadata": {
    "collapsed": true
   },
   "outputs": [],
   "source": [
    "from pyspark.mllib.random import RandomRDDs\n",
    "\n",
    "ud = RandomRDDs.uniformRDD(sc, 1000, seed=23)\n",
    "\n",
    "nd = RandomRDDs.normalRDD(sc, 1000, seed=23)\n",
    "\n",
    "pd = RandomRDDs.poissonRDD(sc, mean=2.0, size=1000, seed=23)"
   ]
  },
  {
   "cell_type": "code",
   "execution_count": 12,
   "metadata": {
    "collapsed": false
   },
   "outputs": [
    {
     "name": "stdout",
     "output_type": "stream",
     "text": [
      "Uniform Distribution Statistics\n",
      " (count: 1000, mean: 0.495907509202282, stdev: 0.298581265498, max: 0.99957542053, min: 0.000220626980565)\n"
     ]
    }
   ],
   "source": [
    "print('Uniform Distribution Statistics\\n', ud.stats())"
   ]
  },
  {
   "cell_type": "code",
   "execution_count": 13,
   "metadata": {
    "collapsed": false
   },
   "outputs": [
    {
     "name": "stdout",
     "output_type": "stream",
     "text": [
      "Normal Distribution Statistics\n",
      " (count: 1000, mean: -0.01951879687296531, stdev: 0.936332160006, max: 2.76048478382, min: -3.10768336984)\n"
     ]
    }
   ],
   "source": [
    "print('Normal Distribution Statistics\\n', nd.stats())"
   ]
  },
  {
   "cell_type": "code",
   "execution_count": 14,
   "metadata": {
    "collapsed": false
   },
   "outputs": [
    {
     "name": "stdout",
     "output_type": "stream",
     "text": [
      "Poisson Distribution Statistics\n",
      " (count: 1000, mean: 2.0089999999999995, stdev: 1.45771019068, max: 9.0, min: 0.0)\n"
     ]
    }
   ],
   "source": [
    "print('Poisson Distribution Statistics\\n', pd.stats())"
   ]
  },
  {
   "cell_type": "code",
   "execution_count": 15,
   "metadata": {
    "collapsed": false
   },
   "outputs": [
    {
     "name": "stdout",
     "output_type": "stream",
     "text": [
      "(count: 262, mean: -0.07762383584203582, stdev: 0.953321948519, max: 2.10552321418, min: -2.4877326251)\n"
     ]
    }
   ],
   "source": [
    "# Sample without replacement\n",
    "\n",
    "frac = 0.25\n",
    "\n",
    "ds = nd.sample(False, frac)\n",
    "print(ds.stats())"
   ]
  },
  {
   "cell_type": "code",
   "execution_count": 16,
   "metadata": {
    "collapsed": false
   },
   "outputs": [
    {
     "name": "stdout",
     "output_type": "stream",
     "text": [
      "(count: 272, mean: -0.017971298189434968, stdev: 1.01272571273, max: 2.70606620358, min: -2.98699042684)\n"
     ]
    }
   ],
   "source": [
    "# Sample with replacement\n",
    "ds = nd.sample(True, frac)\n",
    "print(ds.stats())"
   ]
  },
  {
   "cell_type": "code",
   "execution_count": null,
   "metadata": {
    "collapsed": true
   },
   "outputs": [],
   "source": []
  }
 ],
 "metadata": {
  "kernelspec": {
   "display_name": "Python 3",
   "language": "python",
   "name": "python3"
  },
  "language_info": {
   "codemirror_mode": {
    "name": "ipython",
    "version": 3
   },
   "file_extension": ".py",
   "mimetype": "text/x-python",
   "name": "python",
   "nbconvert_exporter": "python",
   "pygments_lexer": "ipython3",
   "version": "3.5.1"
  }
 },
 "nbformat": 4,
 "nbformat_minor": 0
}
