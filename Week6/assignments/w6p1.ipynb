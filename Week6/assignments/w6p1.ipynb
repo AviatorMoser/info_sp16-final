{
 "cells": [
  {
   "cell_type": "markdown",
   "metadata": {
    "deletable": false,
    "nbgrader": {
     "checksum": "1b4d575245740d11397e7543e8d597d8",
     "grade": false,
     "grade_id": "header",
     "locked": true,
     "solution": false
    }
   },
   "source": [
    "This notebook will be collected automatically at **6pm on Monday** from `/home/data_scientist/assignments/Week6` directory on the course JupyterHub server. If you work on this assignment on the course Jupyterhub server, just make sure that you save your work and instructors will pull your notebooks automatically after the deadline. If you work on this assignment locally, the only way to submit assignments is via Jupyterhub, and you have to place the notebook file in the correct directory with the correct file name before the deadline.\n",
    "\n",
    "1. Make sure everything runs as expected. First, restart the kernel (in the menubar, select `Kernel` → `Restart`) and then run all cells (in the menubar, select `Cell` → `Run All`).\n",
    "2. Make sure you fill in any place that says `YOUR CODE HERE`. Do not write your answer in anywhere else other than where it says `YOUR CODE HERE`. Anything you write anywhere else will be removed by the autograder.\n",
    "3. Do not change the file path or the file name of this notebook.\n",
    "4. Make sure that you save your work (in the menubar, select `File` → `Save and CheckPoint`)"
   ]
  },
  {
   "cell_type": "markdown",
   "metadata": {},
   "source": [
    "# Problem 6.1. Anomaly Detection.\n",
    "\n",
    "In this problem, we will use the airline data set to explore the concept of anomaly detection."
   ]
  },
  {
   "cell_type": "code",
   "execution_count": 22,
   "metadata": {
    "collapsed": false,
    "deletable": false,
    "nbgrader": {
     "checksum": "309b87e99a3235b7c36850905ee63606",
     "grade": false,
     "grade_id": "import",
     "locked": true,
     "solution": false
    }
   },
   "outputs": [],
   "source": [
    "%matplotlib inline\n",
    "import numpy as np\n",
    "import pandas as pd\n",
    "import seaborn as sns\n",
    "import matplotlib as mpl\n",
    "import matplotlib.pyplot as plt\n",
    "from scipy import stats\n",
    "\n",
    "from sklearn.preprocessing import StandardScaler\n",
    "from sklearn.cluster import DBSCAN\n",
    "from sklearn.utils import check_random_state\n",
    "\n",
    "from nose.tools import assert_equal, assert_is_instance, assert_false\n",
    "from numpy.testing import assert_array_equal, assert_almost_equal\n",
    "from pandas.util.testing import assert_frame_equal"
   ]
  },
  {
   "cell_type": "markdown",
   "metadata": {},
   "source": [
    "We use the following columns:\n",
    "\n",
    "- Column 1: Month, 1-12\n",
    "- Column 2: DayofMonth, 1-31\n",
    "- Column 21: Cancelled, was the flight cancelled?"
   ]
  },
  {
   "cell_type": "code",
   "execution_count": 23,
   "metadata": {
    "collapsed": false,
    "deletable": false,
    "nbgrader": {
     "checksum": "16cbe0c6c3bc9885df043d63b8a9461c",
     "grade": false,
     "grade_id": "read_csv",
     "locked": true,
     "solution": false
    }
   },
   "outputs": [],
   "source": [
    "df = pd.read_csv(\n",
    "    '/home/data_scientist/data/2001.csv',\n",
    "    encoding='latin-1',\n",
    "    usecols=(1, 2, 21)\n",
    "    )"
   ]
  },
  {
   "cell_type": "markdown",
   "metadata": {},
   "source": [
    "## The daily number of flights\n",
    "\n",
    "- Find the total number of flights on each day of 2001. The `get_number_of_flights()` function should return a data frame with a [MultiIndex](http://pandas.pydata.org/pandas-docs/stable/advanced.html) (`Month` and `DayofMonth`). Name the output column `Flights`.\n",
    "\n",
    "Example output:\n",
    "\n",
    "```python\n",
    ">>> flights = get_number_of_flights(df)\n",
    ">>> print(flights.head())\n",
    "```\n",
    "```\n",
    "                  Flights\n",
    "Month DayofMonth         \n",
    "1     1             16081\n",
    "      2             17612\n",
    "      3             17573\n",
    "      4             17570\n",
    "      5             17576\n",
    "```"
   ]
  },
  {
   "cell_type": "code",
   "execution_count": 24,
   "metadata": {
    "collapsed": false,
    "deletable": false,
    "nbgrader": {
     "checksum": "c6c3a7398451212ba60d141fed992949",
     "grade": false,
     "grade_id": "get_number_of_flights_answer",
     "locked": false,
     "solution": true
    }
   },
   "outputs": [],
   "source": [
    "def get_number_of_flights(df):\n",
    "    '''\n",
    "    Computes the total number of flights on each day.\n",
    "    \n",
    "    Parameters\n",
    "    ----------\n",
    "    df: A pandas.DataFrame\n",
    "    \n",
    "    Returns\n",
    "    -------\n",
    "    A pandas.DataFrame.\n",
    "    Each day is grouped, and the number of flights is in a column named \"Flights\".\n",
    "    '''\n",
    "    \n",
    "    cols = ['Month','DayofMonth']\n",
    "    result = df.groupby(cols).count() #groupby two columns for multi-index\n",
    "    result.columns = ['Flights']\n",
    "        \n",
    "    return result"
   ]
  },
  {
   "cell_type": "code",
   "execution_count": 25,
   "metadata": {
    "collapsed": false,
    "deletable": false,
    "nbgrader": {
     "checksum": "891009da4306d30a752d433bb0527099",
     "grade": false,
     "grade_id": "get_number_of_flights_run",
     "locked": true,
     "solution": false
    }
   },
   "outputs": [
    {
     "name": "stdout",
     "output_type": "stream",
     "text": [
      "                  Flights\n",
      "Month DayofMonth         \n",
      "1     1             16081\n",
      "      2             17612\n",
      "      3             17573\n",
      "      4             17570\n",
      "      5             17576\n"
     ]
    }
   ],
   "source": [
    "flights = get_number_of_flights(df)\n",
    "print(flights.head())"
   ]
  },
  {
   "cell_type": "code",
   "execution_count": 26,
   "metadata": {
    "collapsed": false,
    "deletable": false,
    "nbgrader": {
     "checksum": "45a48baff5074d7a5c59e9a331a3559b",
     "grade": true,
     "grade_id": "get_number_of_flights_test",
     "locked": true,
     "points": 8,
     "solution": false
    }
   },
   "outputs": [],
   "source": [
    "assert_is_instance(flights, pd.DataFrame)\n",
    "assert_is_instance(flights.index, pd.MultiIndex)\n",
    "\n",
    "assert_equal(len(flights), 365)\n",
    "assert_equal(flights.index.names, ['Month', 'DayofMonth'])\n",
    "assert_equal(flights.columns, 'Flights')\n",
    "\n",
    "assert_array_equal(flights.Flights.values[:5], [16081, 17612, 17573, 17570, 17576])\n",
    "assert_array_equal(flights.Flights.values[-5:], [14622, 14547, 12821, 13319, 13014])"
   ]
  },
  {
   "cell_type": "markdown",
   "metadata": {
    "collapsed": true
   },
   "source": [
    "## Daily cancellations\n",
    "\n",
    "- Find the total number of cancellations on each day of 2001. The `get_cancellations()` function should return a data frame with a [MultiIndex](http://pandas.pydata.org/pandas-docs/stable/advanced.html) (`Month` and `DayofMonth`). The name of the output column should be `Cancelled`.\n",
    "\n",
    "Example output:\n",
    "\n",
    "```python\n",
    ">>> cancelled = get_cancellations(df)\n",
    ">>> print(cancelled.head())\n",
    "```\n",
    "```\n",
    "                  Cancelled\n",
    "Month DayofMonth           \n",
    "1     1                1190\n",
    "      2                 706\n",
    "      3                 575\n",
    "      4                 474\n",
    "      5                 877\n",
    "```"
   ]
  },
  {
   "cell_type": "code",
   "execution_count": 27,
   "metadata": {
    "collapsed": false,
    "deletable": false,
    "nbgrader": {
     "checksum": "e289125a311b559d3543da2f2c5ed4bf",
     "grade": false,
     "grade_id": "get_cancellations_answer",
     "locked": false,
     "solution": true
    }
   },
   "outputs": [],
   "source": [
    "def get_cancellations(df):\n",
    "    '''\n",
    "    Computes the total number of cancellations on each day.\n",
    "    \n",
    "    Parameters\n",
    "    ----------\n",
    "    df: A pandas.DataFrame\n",
    "    \n",
    "    Returns\n",
    "    -------\n",
    "    A pandas.DataFrame.\n",
    "    Each day is grouped, and the number of cancellations is in a column named \"Cancelled\".\n",
    "    '''\n",
    "    \n",
    "    cols = ['Month','DayofMonth']\n",
    "    group_sums = df.groupby(cols)['Cancelled'].sum()\n",
    "    result = pd.DataFrame(group_sums)\n",
    "    \n",
    "    return result"
   ]
  },
  {
   "cell_type": "code",
   "execution_count": 28,
   "metadata": {
    "collapsed": false,
    "deletable": false,
    "nbgrader": {
     "checksum": "6557c42cae7fbe299212415489706fdd",
     "grade": false,
     "grade_id": "get_cancellations_run",
     "locked": true,
     "solution": false
    }
   },
   "outputs": [
    {
     "name": "stdout",
     "output_type": "stream",
     "text": [
      "                  Cancelled\n",
      "Month DayofMonth           \n",
      "1     1                1190\n",
      "      2                 706\n",
      "      3                 575\n",
      "      4                 474\n",
      "      5                 877\n"
     ]
    }
   ],
   "source": [
    "cancelled = get_cancellations(df)\n",
    "print(cancelled.head())"
   ]
  },
  {
   "cell_type": "code",
   "execution_count": 29,
   "metadata": {
    "collapsed": false,
    "deletable": false,
    "nbgrader": {
     "checksum": "19a83cf418e98e01096b7df800e4c8c6",
     "grade": true,
     "grade_id": "get_cancellations_test",
     "locked": true,
     "points": 8,
     "solution": false
    }
   },
   "outputs": [],
   "source": [
    "assert_is_instance(cancelled, pd.DataFrame)\n",
    "assert_is_instance(cancelled.index, pd.MultiIndex)\n",
    "\n",
    "assert_equal(len(cancelled), 365)\n",
    "assert_equal(cancelled.index.names, ['Month', 'DayofMonth'])\n",
    "assert_equal(cancelled.columns, 'Cancelled')\n",
    "\n",
    "assert_array_equal(cancelled.Cancelled.values[:5], [1190, 706, 575, 474, 877])\n",
    "assert_array_equal(cancelled.Cancelled.values[-5:], [193, 203, 41, 76, 75])"
   ]
  },
  {
   "cell_type": "markdown",
   "metadata": {},
   "source": [
    "## Find and visualize outliers\n",
    "\n",
    "- Find and visualize outliers. For our purposes, we define a data point $x$ to be an outlier if $x > \\mu + 3\\sigma$ or $x < \\mu - 3\\sigma$, where $\\mu$ and $\\sigma$ are mean and standard deviation, respectively. Plot the histogram of **all** data points (inliers pluts outliers) first, and then plot the histogram of **outliers** with a different color.\n",
    "\n",
    "![](https://raw.githubusercontent.com/UI-DataScience/info490-sp16/master/Week6/assignments/images/flights_outliers.png)\n",
    "![](https://raw.githubusercontent.com/UI-DataScience/info490-sp16/master/Week6/assignments/images/cancelled_outliers.png)"
   ]
  },
  {
   "cell_type": "code",
   "execution_count": 30,
   "metadata": {
    "collapsed": false,
    "deletable": false,
    "nbgrader": {
     "checksum": "1a99af444b04c1e8d4c97db9c4c587c5",
     "grade": false,
     "grade_id": "plot_outliers_answer",
     "locked": false,
     "solution": true
    }
   },
   "outputs": [],
   "source": [
    "def plot_outliers(df, column, bins):\n",
    "    '''\n",
    "    Finds and visualizes outliers.\n",
    "    \n",
    "    Parameters\n",
    "    ----------\n",
    "    df: A pandas DataFrame.\n",
    "    column: A string.\n",
    "    bins: A numpy array. Histogram bins.\n",
    "    \n",
    "    Returns\n",
    "    -------\n",
    "    A Matplotlib Axes instance.\n",
    "    '''\n",
    "    \n",
    "    sns.set(style=\"white\", font_scale=1.0)  \n",
    "    fig, ax = plt.subplots(figsize=(10,6))     \n",
    "    \n",
    "    mean = df[column].mean()\n",
    "    stdev = df[column].std()\n",
    "    outliers = df[(df[column] < mean-3*stdev) | (df[column] > mean+3*stdev)] #mask for outliers\n",
    "    \n",
    "    #plot histograms of outliers and inliers\n",
    "    ax.hist(df[column], bins=bins, alpha=0.5, color=sns.xkcd_rgb[\"denim blue\"], label = 'Inliers') \n",
    "    ax.hist(outliers[column], bins=bins, alpha=1.0, color=sns.xkcd_rgb[\"orange\"], label = 'Outliers')\n",
    "    \n",
    "    ax.legend()    \n",
    "    ax.set_xlabel(column, fontsize=14)\n",
    "    ax.set_ylabel('Days', fontsize=14)   \n",
    "    \n",
    "    sns.despine(ax=ax, offset=0, trim=False)    \n",
    "    \n",
    "    return ax"
   ]
  },
  {
   "cell_type": "code",
   "execution_count": 31,
   "metadata": {
    "collapsed": false,
    "deletable": false,
    "nbgrader": {
     "checksum": "8dea78268cfac54af940c76fa31a1dc1",
     "grade": false,
     "grade_id": "ax_flights_run",
     "locked": true,
     "solution": false
    },
    "scrolled": true
   },
   "outputs": [
    {
     "data": {
      "image/png": "[encoded data removed]",
      "text/plain": [
       "<matplotlib.figure.Figure at 0x7fefd5ff7d68>"
      ]
     },
     "metadata": {},
     "output_type": "display_data"
    }
   ],
   "source": [
    "ax_flights = plot_outliers(flights, 'Flights', bins=np.linspace(10000, 19000, 20))"
   ]
  },
  {
   "cell_type": "code",
   "execution_count": 32,
   "metadata": {
    "collapsed": false,
    "deletable": false,
    "nbgrader": {
     "checksum": "2420ed04b0768c988a32d2663760e11a",
     "grade": true,
     "grade_id": "ax_flights_test",
     "locked": true,
     "points": 4,
     "solution": false
    }
   },
   "outputs": [],
   "source": [
    "assert_is_instance(ax_flights, mpl.axes.Axes)\n",
    "\n",
    "# np.linspace(?, ?, 20) produces 19 bars\n",
    "# 19 * 2 patches for inliers and outliers\n",
    "patches = ax_flights.patches\n",
    "assert_equal(len(patches), 38)\n",
    "\n",
    "bins_a = np.linspace(10000, 19000, 20)\n",
    "\n",
    "# test first 19 patches (inliers)\n",
    "freq_i = [0, 0, 2, 0, 2, 9, 6, 6, 8, 61, 8, 23, 6, 16, 22, 73, 123, 0, 0]\n",
    "\n",
    "for i in range(19):\n",
    "    assert_almost_equal(patches[i].get_x(), bins_a[i])\n",
    "    assert_almost_equal(patches[i].get_height(), freq_i[i])\n",
    "\n",
    "# test next 19 patches (outliers)\n",
    "freq_o = [0, 0, 2, 0, 0, 0, 0, 0, 0, 0, 0, 0, 0, 0, 0, 0, 0, 0, 0]\n",
    "\n",
    "for i in range(19):\n",
    "    assert_almost_equal(patches[i + 19].get_x(), bins_a[i])\n",
    "    assert_almost_equal(patches[i + 19].get_height(), freq_o[i])"
   ]
  },
  {
   "cell_type": "code",
   "execution_count": 33,
   "metadata": {
    "collapsed": false,
    "deletable": false,
    "nbgrader": {
     "checksum": "81fd549d64134eb6f4e47b35baa69fb4",
     "grade": false,
     "grade_id": "ax_cancelled_run",
     "locked": true,
     "solution": false
    }
   },
   "outputs": [
    {
     "data": {
      "image/png": "[encoded data removed]",
      "text/plain": [
       "<matplotlib.figure.Figure at 0x7fefd5ded7f0>"
      ]
     },
     "metadata": {},
     "output_type": "display_data"
    }
   ],
   "source": [
    "ax_cancelled = plot_outliers(cancelled, 'Cancelled', bins=np.linspace(0, 18000, 20))"
   ]
  },
  {
   "cell_type": "code",
   "execution_count": 34,
   "metadata": {
    "collapsed": false,
    "deletable": false,
    "nbgrader": {
     "checksum": "382f3ed52004d899fbc680d88f8ed36a",
     "grade": true,
     "grade_id": "ax_cancelled_test",
     "locked": true,
     "points": 4,
     "solution": false
    }
   },
   "outputs": [],
   "source": [
    "assert_is_instance(ax_cancelled, mpl.axes.Axes)\n",
    "\n",
    "# np.linspace(?, ?, 20) produces 19 bars\n",
    "# 19 * 2 patches for inliers and outliers\n",
    "patches = ax_cancelled.patches\n",
    "assert_equal(len(patches), 38)\n",
    "\n",
    "bins_a = np.linspace(0, 18000, 20)\n",
    "\n",
    "# test first 19 patches (inliers)\n",
    "freq_i = [332, 18, 4, 5, 1, 1, 0, 0, 0, 0, 1, 0, 0, 0, 0, 1, 0, 1, 1]\n",
    "\n",
    "for i in range(19):\n",
    "    assert_almost_equal(patches[i].get_x(), bins_a[i])\n",
    "    assert_almost_equal(patches[i].get_height(), freq_i[i])\n",
    "\n",
    "# test next 19 patches (outliers)\n",
    "freq_o = [0, 0, 0, 0, 0, 1, 0, 0, 0, 0, 1, 0, 0, 0, 0, 1, 0, 1, 1]\n",
    "\n",
    "for i in range(19):\n",
    "    assert_almost_equal(patches[i + 19].get_x(), bins_a[i])\n",
    "    assert_almost_equal(patches[i + 19].get_height(), freq_o[i])"
   ]
  },
  {
   "cell_type": "markdown",
   "metadata": {},
   "source": [
    "## Two-dimensioanl plot\n",
    "\n",
    "- Create a scatter plot of bivariate distribution.\n",
    "\n",
    "Create a scatter plot of **inliers** first, and then create a scatter plot of **outliers**. We define a data point $(x, y)$ to be an outlier if *any* of the following conditions are true:\n",
    "\n",
    " - $x > \\mu + 3\\sigma$,\n",
    " - $x < \\mu - 3\\sigma$,\n",
    " - $y > \\mu + 3\\sigma$, or\n",
    " - $y < \\mu - 3\\sigma$.\n",
    "\n",
    "where $\\mu$ and $\\sigma$ are mean and standard deviation, respectively.\n",
    "\n",
    "![](https://raw.githubusercontent.com/UI-DataScience/info490-sp16/master/Week6/assignments/images/two_dim_outliers.png)"
   ]
  },
  {
   "cell_type": "code",
   "execution_count": 35,
   "metadata": {
    "collapsed": false,
    "deletable": false,
    "nbgrader": {
     "checksum": "01354ce07a49508914106f0d6aa57b78",
     "grade": false,
     "grade_id": "plot_2d_answer",
     "locked": false,
     "solution": true
    }
   },
   "outputs": [],
   "source": [
    "def plot_2d(df_x, df_y, col_x, col_y):\n",
    "    '''\n",
    "    Creates a two-diemnsional plot of bivariate distribution.\n",
    "    \n",
    "    Parameters\n",
    "    ----------\n",
    "    df_x: A pandas.DataFrame.\n",
    "    df_y: A pandas.DataFrame.\n",
    "    col_x: A string. The column in \"df_x\" that will be used as the x variable.\n",
    "    col_y: A string. The column in \"df_y\" that will be used as the x variable.\n",
    "    \n",
    "    Returns\n",
    "    -------\n",
    "    A matplotlib.Axes instance.\n",
    "    '''\n",
    "    \n",
    "    #make local copies\n",
    "    df_x = df_x.copy()\n",
    "    df_y = df_y.copy()\n",
    "        \n",
    "    sns.set(style=\"white\", font_scale=1.0) \n",
    "    fig, ax = plt.subplots(figsize=(10,6))     \n",
    "    \n",
    "    #calculate mean and spread for both df_x and df_y\n",
    "    mean_x = df_x[col_x].mean()\n",
    "    mean_y = df_y[col_y].mean()    \n",
    "    stdev_x = df_x[col_x].std()\n",
    "    stdev_y = df_y[col_y].std()\n",
    "    \n",
    "    #find outliers (each have x and y coordinates)\n",
    "    outliers_x1 = df_x[(df_y[col_y] < mean_y-3*stdev_y) | (df_y[col_y] > mean_y+3*stdev_y)]\n",
    "    outliers_y1 = df_y[(df_y[col_y] < mean_y-3*stdev_y) | (df_y[col_y] > mean_y+3*stdev_y)]    \n",
    "    \n",
    "    outliers_x2 = df_x[(df_x[col_x] < mean_x-3*stdev_x) | (df_x[col_x] > mean_x+3*stdev_x)]\n",
    "    outliers_y2 = df_y[(df_x[col_x] < mean_x-3*stdev_x) | (df_x[col_x] > mean_x+3*stdev_x)]  \n",
    "    \n",
    "    #combine outliers into one dataframe\n",
    "    outliers_x = pd.concat([outliers_x1, outliers_x2])\n",
    "    outliers_y = pd.concat([outliers_y1, outliers_y2])\n",
    "\n",
    "    #drop outliers from the inliers dataframe\n",
    "    df_x.drop(outliers_x.index, inplace = True)\n",
    "    df_y.drop(outliers_y.index, inplace = True)\n",
    "    \n",
    "    #plot scatter plots\n",
    "    ax.scatter(df_x, df_y, marker = 'o', color=sns.xkcd_rgb[\"denim blue\"], label = 'Inliers')\n",
    "    ax.scatter(outliers_x, outliers_y, marker = '*', color=sns.xkcd_rgb[\"orange\"], label = 'Outliers')\n",
    "    \n",
    "    ax.set_xlabel(col_x, fontsize=14)\n",
    "    ax.set_ylabel(col_y, fontsize=14) \n",
    "    ax.legend()\n",
    "    \n",
    "    sns.despine(ax=ax, offset=0, trim=False)    \n",
    "    \n",
    "    return ax"
   ]
  },
  {
   "cell_type": "code",
   "execution_count": 36,
   "metadata": {
    "collapsed": false,
    "deletable": false,
    "nbgrader": {
     "checksum": "2f75f7ab98bb2aa2d7d9716d0b27553c",
     "grade": false,
     "grade_id": "plot_2d_run",
     "locked": true,
     "solution": false
    }
   },
   "outputs": [
    {
     "data": {
      "image/png": "[encoded data removed]",
      "text/plain": [
       "<matplotlib.figure.Figure at 0x7fefd5d24a90>"
      ]
     },
     "metadata": {},
     "output_type": "display_data"
    }
   ],
   "source": [
    "ax_2d = plot_2d(flights, cancelled, 'Flights', 'Cancelled')"
   ]
  },
  {
   "cell_type": "code",
   "execution_count": 37,
   "metadata": {
    "collapsed": false,
    "deletable": false,
    "nbgrader": {
     "checksum": "e04adf6c05b63ddaf5041d34fc3ff2c7",
     "grade": true,
     "grade_id": "plot_2d_test",
     "locked": true,
     "points": 8,
     "solution": false
    }
   },
   "outputs": [],
   "source": [
    "assert_is_instance(ax_2d, mpl.axes.Axes)\n",
    "\n",
    "x_i, y_i = ax_2d.collections[0].get_offsets().T # inliers\n",
    "x_o, y_o = ax_2d.collections[1].get_offsets().T # outliers\n",
    "\n",
    "idx_o = [253, 254, 255, 256, 257, 325, 326]\n",
    "idx_i = [i for i in range(365) if i not in idx_o]\n",
    "\n",
    "assert_array_equal(x_i, flights.ix[idx_i, 'Flights'])\n",
    "assert_array_equal(y_i, cancelled.ix[idx_i, 'Cancelled'])\n",
    "\n",
    "assert_array_equal(x_o, flights.ix[idx_o, 'Flights'])\n",
    "assert_array_equal(y_o, cancelled.ix[idx_o, 'Cancelled'])\n",
    "\n",
    "c_i = ax_2d.collections[0].get_facecolor()[0]\n",
    "c_o = ax_2d.collections[1].get_facecolor()[0]\n",
    "assert_false((c_i == c_o).all(), msg='Use different colors.')"
   ]
  },
  {
   "cell_type": "markdown",
   "metadata": {},
   "source": [
    "## Cluster Analysis\n",
    "\n",
    "- Scale the data set by using `StandardScaler()`, and then apply the DBSCAN algorithm on our data set to find noise points.\n",
    "\n",
    "Use `eps=0.5` (default) and `min_samples=5` (default). Use default values for all paramters."
   ]
  },
  {
   "cell_type": "code",
   "execution_count": 38,
   "metadata": {
    "collapsed": false,
    "deletable": false,
    "nbgrader": {
     "checksum": "dad18e7e10493061842a3fede6670aae",
     "grade": false,
     "grade_id": "dbscan_outliers_answer",
     "locked": false,
     "solution": true
    }
   },
   "outputs": [],
   "source": [
    "def dbscan_outliers(df):\n",
    "    '''\n",
    "    Find outliers (noise points) using DBSCAN.\n",
    "    \n",
    "    Parameters\n",
    "    ----------\n",
    "    df: A pandas.DataFrame\n",
    "    \n",
    "    Returns\n",
    "    -------\n",
    "    A tuple of (a sklearn.DBSCAN instance, a pandas.DataFrame)\n",
    "    '''\n",
    "    \n",
    "    #scale data\n",
    "    scaled = StandardScaler().fit_transform(df)\n",
    "    \n",
    "    \n",
    "    db = DBSCAN()\n",
    "    labels = pd.DataFrame(data=db.fit_predict(scaled), index=df.index) #\n",
    "    \n",
    "    #outliers when they are classed as -1\n",
    "    outliers = df[labels[0] == -1]\n",
    "    \n",
    "    return db, outliers"
   ]
  },
  {
   "cell_type": "markdown",
   "metadata": {},
   "source": [
    "DBSCAN finds two outliers, which are the same three-sigma outliers we found eariler.\n",
    "\n",
    "```python\n",
    ">>> db_flights, db_flights_outliers = dbscan_outliers(flights)\n",
    ">>> print(db_flights_outliers)\n",
    "```\n",
    "```\n",
    "                  Flights\n",
    "Month DayofMonth         \n",
    "11    22            11001\n",
    "      23            11098\n",
    "```\n",
    "\n",
    "These were of course Thanksgiving Day of 2001 and the day after Thanksgiving."
   ]
  },
  {
   "cell_type": "code",
   "execution_count": 39,
   "metadata": {
    "collapsed": false,
    "deletable": false,
    "nbgrader": {
     "checksum": "0ccf0be5738d1530b8d884b2ff3987ac",
     "grade": false,
     "grade_id": "db_flights_run",
     "locked": true,
     "solution": false
    }
   },
   "outputs": [
    {
     "name": "stdout",
     "output_type": "stream",
     "text": [
      "                  Flights\n",
      "Month DayofMonth         \n",
      "11    22            11001\n",
      "      23            11098\n"
     ]
    }
   ],
   "source": [
    "db_flights, db_flights_outliers = dbscan_outliers(flights)\n",
    "print(db_flights_outliers)"
   ]
  },
  {
   "cell_type": "code",
   "execution_count": 40,
   "metadata": {
    "collapsed": false,
    "deletable": false,
    "nbgrader": {
     "checksum": "8b6efab0d8c1aaaeebb58e3dfe95ca6e",
     "grade": true,
     "grade_id": "db_flights_test",
     "locked": true,
     "points": 4,
     "solution": false
    }
   },
   "outputs": [],
   "source": [
    "assert_is_instance(db_flights, DBSCAN)\n",
    "assert_is_instance(db_flights_outliers, pd.DataFrame)\n",
    "assert_equal(db_flights.eps, 0.5)\n",
    "assert_equal(db_flights.min_samples, 5)\n",
    "assert_frame_equal(\n",
    "    db_flights_outliers,\n",
    "    pd.DataFrame({'Flights': [11001, 11098]},\n",
    "        index=pd.MultiIndex.from_product([[11], [22, 23]], names=['Month', 'DayofMonth']))\n",
    "    )"
   ]
  },
  {
   "cell_type": "markdown",
   "metadata": {},
   "source": [
    "It is not difficult to guess which days will be outliers when it comes to cancellations.\n",
    "\n",
    "```python\n",
    ">>> db_cancelled, db_cancelled_outliers = dbscan_outliers(cancelled)\n",
    ">>> print(db_cancelled_outliers)\n",
    "```\n",
    "```\n",
    "                  Cancelled\n",
    "Month DayofMonth           \n",
    "9     11              14962\n",
    "      12              17535\n",
    "      13              16109\n",
    "      14               9611\n",
    "      15               5573\n",
    "```"
   ]
  },
  {
   "cell_type": "code",
   "execution_count": 41,
   "metadata": {
    "collapsed": false,
    "deletable": false,
    "nbgrader": {
     "checksum": "0e9f02c2db0f9ee5f329f0e29c878fc9",
     "grade": false,
     "grade_id": "db_cancelled_run",
     "locked": true,
     "solution": false
    }
   },
   "outputs": [
    {
     "name": "stdout",
     "output_type": "stream",
     "text": [
      "                  Cancelled\n",
      "Month DayofMonth           \n",
      "9     11              14962\n",
      "      12              17535\n",
      "      13              16109\n",
      "      14               9611\n",
      "      15               5573\n"
     ]
    }
   ],
   "source": [
    "db_cancelled, db_cancelled_outliers = dbscan_outliers(cancelled)\n",
    "print(db_cancelled_outliers)"
   ]
  },
  {
   "cell_type": "code",
   "execution_count": 42,
   "metadata": {
    "collapsed": false,
    "deletable": false,
    "nbgrader": {
     "checksum": "fa9d0d11e1bcc31ee65f664b917f83a0",
     "grade": true,
     "grade_id": "db_cancelled_test",
     "locked": true,
     "points": 4,
     "solution": false
    }
   },
   "outputs": [],
   "source": [
    "assert_is_instance(db_cancelled, DBSCAN)\n",
    "assert_is_instance(db_cancelled_outliers, pd.DataFrame)\n",
    "assert_equal(db_cancelled.eps, 0.5)\n",
    "assert_equal(db_cancelled.min_samples, 5)\n",
    "assert_frame_equal(\n",
    "    db_cancelled_outliers,\n",
    "    pd.DataFrame({'Cancelled': [14962, 17535, 16109, 9611, 5573]},\n",
    "        index=pd.MultiIndex.from_product([[9], [11, 12, 13, 14, 15]], names=['Month', 'DayofMonth']))\n",
    "    )"
   ]
  }
 ],
 "metadata": {
  "kernelspec": {
   "display_name": "Python 3",
   "language": "python",
   "name": "python3"
  },
  "language_info": {
   "codemirror_mode": {
    "name": "ipython",
    "version": 3
   },
   "file_extension": ".py",
   "mimetype": "text/x-python",
   "name": "python",
   "nbconvert_exporter": "python",
   "pygments_lexer": "ipython3",
   "version": "3.5.1"
  }
 },
 "nbformat": 4,
 "nbformat_minor": 0
}
