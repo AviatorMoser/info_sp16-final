{
 "cells": [
  {
   "cell_type": "markdown",
   "metadata": {},
   "source": [
    "\n",
    "<DIV ALIGN=CENTER>\n",
    "\n",
    "# Advanced Data Science\n",
    "## University of Illinois\n",
    "### Professor: Robert J. Brunner  \n",
    "### Spring 2016\n",
    "\n",
    "</DIV>  \n",
    "-----\n",
    "-----"
   ]
  },
  {
   "cell_type": "markdown",
   "metadata": {},
   "source": [
    "## Week 6: Machine Learning\n",
    "\n",
    "### Lecture 1: [Recommender Systems][l1]\n",
    "\n",
    "Learn how recommender systems are built by using a simple example built\n",
    "using Pandas and Numpy in this Notebook.\n",
    "\n",
    "### Lecture 2: [Anomaly Detection][l2]\n",
    "\n",
    "Learn about anomalies and detecting them in this Notebook.\n",
    "\n",
    "### Lecture 3: [Practical Concepts][l3]\n",
    "\n",
    "Learn about several practical concepts in machine learning including\n",
    "feature selection, pipelines, scaling, and validation/learning curves in\n",
    "this Notebook.\n",
    "\n",
    "-----\n",
    "\n",
    "[l1]: ./notebooks/intro2rs.ipynb\n",
    "[l2]: ./notebooks/intro2ad.ipynb\n",
    "[l3]: ./notebooks/intro2pc.ipynb"
   ]
  },
  {
   "cell_type": "code",
   "execution_count": 1,
   "metadata": {
    "collapsed": false
   },
   "outputs": [
    {
     "data": {
      "text/markdown": [
       "#Week 6 Overview#\n",
       "\n",
       "## Machine Learning ##\n",
       "\n",
       "This week you will learn about \n",
       "\n",
       "### Objectives ###\n",
       "\n",
       "#####By the end of this lesson, you should be able to:######\n",
       "\n",
       "- Understand the basic concepts of \n",
       "- Understand the basic principles\n",
       "- Understand \n",
       "\n",
       "### Activities and Assignments ###\n",
       "\n",
       "|Activities and Assignments | Time Estimate | Deadline* | Points|\n",
       "|:------| -----|-------|----------:|\n",
       "|**[Week 6 Introduction Video][wv]** |10 Minutes|Tuesday|20|\n",
       "|**[Week 6 Lesson 1: Introduction to recommender systems](lesson1.md)**| 2 Hours |Thursday| 20|\n",
       "|**[Week 6 Lesson 2: Introduction to outlier detection](lesson2.md)**| 2 Hours | Thursday | 20 |\n",
       "|**[Week 6 Lesson 3: Practical Concepts](lesson3.md)**| 2 Hours | Thursday| 20 |\n",
       "|**[Week 6 Quiz][wq]**| 45 Minutes | Friday | 70|\n",
       "|**Week 6 Assignment Submission**| 4 Hours | *The following* Monday | 80 Instructor, 40 Peer | \n",
       "|**Week 6 Completion of Peer Review**| 2 Hours | *The following* Saturday | 30 | \n",
       "\n",
       "*Please note that unless otherwise noted, the due time is 6pm Central time!*\n",
       "\n",
       "----------\n",
       "[wv]: https://mediaspace.illinois.edu/media/\n",
       "[wq]: https://learn.illinois.edu/mod/quiz/\n"
      ],
      "text/plain": [
       "<IPython.core.display.Markdown object>"
      ]
     },
     "execution_count": 1,
     "metadata": {},
     "output_type": "execute_result"
    }
   ],
   "source": [
    "from IPython.display import Markdown\n",
    "\n",
    "Markdown(filename='README.md')"
   ]
  }
 ],
 "metadata": {
  "kernelspec": {
   "display_name": "Python 3",
   "language": "python",
   "name": "python3"
  },
  "language_info": {
   "codemirror_mode": {
    "name": "ipython",
    "version": 3
   },
   "file_extension": ".py",
   "mimetype": "text/x-python",
   "name": "python",
   "nbconvert_exporter": "python",
   "pygments_lexer": "ipython3",
   "version": "3.4.4"
  }
 },
 "nbformat": 4,
 "nbformat_minor": 0
}
