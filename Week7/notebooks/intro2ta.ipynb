{
 "cells": [
  {
   "cell_type": "markdown",
   "metadata": {},
   "source": [
    "<DIV ALIGN=CENTER>\n",
    "\n",
    "# Introduction to Text Analysis\n",
    "## Professor Robert J. Brunner\n",
    "  \n",
    "</DIV>  \n",
    "-----\n",
    "-----"
   ]
  },
  {
   "cell_type": "markdown",
   "metadata": {},
   "source": [
    "\n",
    "## Introduction\n",
    "\n",
    "In this IPython Notebook, we introduce text analysis.\n",
    "\n",
    "1. fetch news group\n",
    "2. explore data\n",
    "3. one article.\n",
    "4. tokenize with python\n",
    "5. count.\n",
    "6. parse, header/footer\n",
    "7. lower case\n",
    "8. remove odd things\n",
    "9. Counts\n",
    "10. Bag of Words.\n",
    "11. NLTK.\n",
    "\n",
    "-----"
   ]
  },
  {
   "cell_type": "code",
   "execution_count": 1,
   "metadata": {
    "collapsed": false
   },
   "outputs": [],
   "source": [
    "# Set up Notebook\n",
    "\n",
    "% matplotlib inline\n",
    "\n",
    "# Standard imports\n",
    "import numpy as np\n",
    "import pandas as pd\n",
    "import matplotlib.pyplot as plt\n",
    "import seaborn as sns\n",
    "\n",
    "# We do this to ignore several specific Pandas warnings\n",
    "import warnings\n",
    "warnings.filterwarnings(\"ignore\")"
   ]
  },
  {
   "cell_type": "markdown",
   "metadata": {},
   "source": [
    "### Data\n",
    "\n",
    "To get started with text analysis, we need **texts to analyze**. To get\n",
    "started, we will analyze the [twenty newsgroup][tng] data set. We first\n",
    "download this data (scikit learn has built in methods for doing this,\n",
    "however, we have cached a copy locally on our server). The data are made\n",
    "available via a custom object, but we can access the data of interest by\n",
    "using dictionary keys. Before delving into text analysis, we first\n",
    "explore this data over several code cells to understand more about the\n",
    "task at hand.\n",
    "\n",
    "-----\n",
    "\n",
    "[tng]: http://kdd.ics.uci.edu/databases/20newsgroups/20newsgroups.data.html"
   ]
  },
  {
   "cell_type": "code",
   "execution_count": 2,
   "metadata": {
    "collapsed": false
   },
   "outputs": [
    {
     "name": "stdout",
     "output_type": "stream",
     "text": [
      "dict_keys(['filenames', 'target', 'target_names', 'data', 'DESCR'])\n"
     ]
    }
   ],
   "source": [
    "# load dataset\n",
    "from sklearn.datasets import fetch_20newsgroups\n",
    "\n",
    "text = fetch_20newsgroups(data_home='/home/data_scientist/data/textdm')\n",
    "\n",
    "# To learn more about these data, either browse the relevant \n",
    "# scikit learn documentation, or enter help(text) in an IPython code cell\n",
    "\n",
    "# The data can be accessed via Dictionary keys\n",
    "\n",
    "print(text.keys())"
   ]
  },
  {
   "cell_type": "code",
   "execution_count": 3,
   "metadata": {
    "collapsed": false
   },
   "outputs": [
    {
     "name": "stdout",
     "output_type": "stream",
     "text": [
      "Class  0 = alt.atheism\n",
      "Class  1 = comp.graphics\n",
      "Class  2 = comp.os.ms-windows.misc\n",
      "Class  3 = comp.sys.ibm.pc.hardware\n",
      "Class  4 = comp.sys.mac.hardware\n",
      "Class  5 = comp.windows.x\n",
      "Class  6 = misc.forsale\n",
      "Class  7 = rec.autos\n",
      "Class  8 = rec.motorcycles\n",
      "Class  9 = rec.sport.baseball\n",
      "Class 10 = rec.sport.hockey\n",
      "Class 11 = sci.crypt\n",
      "Class 12 = sci.electronics\n",
      "Class 13 = sci.med\n",
      "Class 14 = sci.space\n",
      "Class 15 = soc.religion.christian\n",
      "Class 16 = talk.politics.guns\n",
      "Class 17 = talk.politics.mideast\n",
      "Class 18 = talk.politics.misc\n",
      "Class 19 = talk.religion.misc\n"
     ]
    }
   ],
   "source": [
    "# Display target names, i.e., the names of the twenty news groups\n",
    "\n",
    "for idx, label in enumerate(text['target_names']):\n",
    "    print('Class {0:2d} = {1}'.format(idx, label))"
   ]
  },
  {
   "cell_type": "code",
   "execution_count": 4,
   "metadata": {
    "collapsed": false
   },
   "outputs": [
    {
     "name": "stdout",
     "output_type": "stream",
     "text": [
      "Target Newsgroup: comp.sys.ibm.pc.hardware\n",
      "----------------------------------------------------------------------\n",
      "From: rnichols@cbnewsg.cb.att.com (robert.k.nichols)\n",
      "Subject: Re: how to search for bad memory chips.\n",
      "Organization: AT&T\n",
      "Distribution: na\n",
      "Lines: 29\n",
      "\n",
      "In article <N5s42B8w165w@c-cat.UUCP> david@c-cat.UUCP (Dave) writes:\n",
      ">i came upon this idea i would like to share with everyone.\n",
      ">\n",
      ">to check for bad memory chips\n",
      ">\n",
      ">1. create a boot disk with emm386 himem.sys and ramdrive.sys in the\n",
      ">   config/autoexec.bat.\n",
      ">\n",
      ">2. boot the PC to create a RAM drive as large as possible.\n",
      ">\n",
      ">3. use a disk repair utility ( I use NDD ). Run it on the RAM\n",
      ">        drive, yes it will run, its only a device driver\n",
      ">\n",
      ">4. run 1000 or so passes, they go very quick\n",
      ">\n",
      ">5. if your machine fails, there is a definate bad memory chip\n",
      ">\n",
      ">6. if your machine passes, there is a conflict with programs you\n",
      ">        are loading in memory.\n",
      "...\n",
      "\n",
      "It's an interesting idea, but the worst-case data patterns developed to\n",
      "test magnetic media are totally different than the patterns used to detect\n",
      "common faults in memory chips.\n",
      "\n",
      "--\n",
      "Bob Nichols\n",
      "AT&T Bell Laboratories\n",
      "rnichols@ihlpm.ih.att.com\n",
      "\n"
     ]
    }
   ],
   "source": [
    "# Display single message\n",
    "messageID = 250\n",
    "\n",
    "print('Target Newsgroup: {0}'.format(text['target_names'][text['target'][messageID]]))\n",
    "print(70*'-')\n",
    "\n",
    "message = text['data'][messageID]\n",
    "print(message)"
   ]
  },
  {
   "cell_type": "code",
   "execution_count": 5,
   "metadata": {
    "collapsed": false
   },
   "outputs": [
    {
     "name": "stdout",
     "output_type": "stream",
     "text": [
      "Expression Count: 8\n",
      "Isolated Token Count: 4\n"
     ]
    }
   ],
   "source": [
    "print('Expression Count: {0}'.format(message.count('the')))\n",
    "print('Isolated Token Count: {0}'.format(message.count(' the ')))"
   ]
  },
  {
   "cell_type": "code",
   "execution_count": 6,
   "metadata": {
    "collapsed": false
   },
   "outputs": [
    {
     "name": "stdout",
     "output_type": "stream",
     "text": [
      "[ ('>', 10), ('a', 6), ('the', 5), ('to', 5), ('memory', 4), ('bad', 3),\n",
      "  ('in', 3), ('with', 3), ('there', 2), ('are', 2), ('passes,', 2), ('it', 2),\n",
      "  ('if', 2), ('create', 2), ('your', 2), ('is', 2), ('chips.', 2), ('use', 2),\n",
      "  ('as', 2), ('patterns', 2), ('disk', 2), ('for', 2), ('AT&T', 2),\n",
      "  ('machine', 2), ('boot', 2), ('RAM', 2), ('david@c-cat.UUCP', 1),\n",
      "  ('ramdrive.sys', 1), ('worst-case', 1), ('totally', 1), ('article', 1),\n",
      "  ('I', 1), ('i', 1), ('check', 1), ('>i', 1), ('this', 1), ('drive,', 1),\n",
      "  ('interesting', 1), ('chip', 1), ('Nichols', 1)]\n"
     ]
    }
   ],
   "source": [
    "import collections as cl\n",
    "import pprint\n",
    "pp = pprint.PrettyPrinter(indent=2, depth=2, width=80, compact=True)\n",
    "\n",
    "words = message.split()\n",
    "wc = cl.Counter(words)\n",
    "\n",
    "# Number of tokens to display from message\n",
    "wc_display = 40\n",
    "\n",
    "pp.pprint(wc.most_common(wc_display))"
   ]
  },
  {
   "cell_type": "code",
   "execution_count": 7,
   "metadata": {
    "collapsed": false
   },
   "outputs": [
    {
     "name": "stdout",
     "output_type": "stream",
     "text": [
      "[ ('to', 6), ('a', 6), ('the', 5), ('memory', 5), ('bad', 3), ('in', 3),\n",
      "  ('chips', 3), ('with', 3), ('T', 2), ('there', 2), ('i', 2), ('att', 2),\n",
      "  ('sys', 2), ('it', 2), ('if', 2), ('create', 2), ('your', 2), ('run', 2),\n",
      "  ('are', 2), ('is', 2), ('RAM', 2), ('UUCP', 2), ('as', 2), ('patterns', 2),\n",
      "  ('disk', 2), ('c', 2), ('for', 2), ('AT', 2), ('use', 2), ('drive', 2),\n",
      "  ('machine', 2), ('boot', 2), ('cat', 2), ('passes', 2), ('com', 2),\n",
      "  ('rnichols', 2), ('idea', 2), ('interesting', 1), ('totally', 1),\n",
      "  ('article', 1)]\n"
     ]
    }
   ],
   "source": [
    "import re\n",
    "\n",
    "pattern = re.compile(r'[^\\w\\s]')\n",
    "  \n",
    "words = re.sub(pattern, ' ', message).split()\n",
    "wc = cl.Counter(words)\n",
    "\n",
    "pp.pprint(wc.most_common(wc_display))"
   ]
  },
  {
   "cell_type": "code",
   "execution_count": 8,
   "metadata": {
    "collapsed": false
   },
   "outputs": [
    {
     "name": "stdout",
     "output_type": "stream",
     "text": [
      "[ ('to', 6), ('a', 6), ('the', 5), ('memory', 5), ('in', 4), ('i', 3),\n",
      "  ('it', 3), ('run', 3), ('bad', 3), ('chips', 3), ('with', 3), ('there', 2),\n",
      "  ('ram', 2), ('t', 2), ('att', 2), ('sys', 2), ('if', 2), ('create', 2),\n",
      "  ('your', 2), ('is', 2), ('use', 2), ('com', 2), ('as', 2), ('patterns', 2),\n",
      "  ('disk', 2), ('c', 2), ('for', 2), ('are', 2), ('drive', 2), ('machine', 2),\n",
      "  ('boot', 2), ('cat', 2), ('uucp', 2), ('passes', 2), ('at', 2),\n",
      "  ('rnichols', 2), ('idea', 2), ('nichols', 2), ('ramdrive', 1),\n",
      "  ('interesting', 1)]\n"
     ]
    }
   ],
   "source": [
    "words = re.sub(pattern, ' ', message.lower()).split()\n",
    "\n",
    "wc = cl.Counter(words)\n",
    "\n",
    "pp.pprint(wc.most_common(wc_display))"
   ]
  },
  {
   "cell_type": "code",
   "execution_count": 9,
   "metadata": {
    "collapsed": false
   },
   "outputs": [
    {
     "name": "stdout",
     "output_type": "stream",
     "text": [
      "Term        : Frequency\n",
      "-------------------------\n",
      "to          : 0.032\n",
      "a           : 0.032\n",
      "the         : 0.027\n",
      "memory      : 0.027\n",
      "in          : 0.021\n",
      "i           : 0.016\n",
      "it          : 0.016\n",
      "run         : 0.016\n",
      "bad         : 0.016\n",
      "chips       : 0.016\n"
     ]
    }
   ],
   "source": [
    "print('{0:12s}: {1}'.format('Term', 'Frequency'))\n",
    "print(25*'-')\n",
    "\n",
    "t_wc = sum(wc.values())\n",
    "for wt in wc.most_common(10):\n",
    "    print('{0:12s}: {1:4.3f}'.format(wt[0], wt[1]/t_wc))"
   ]
  },
  {
   "cell_type": "markdown",
   "metadata": {},
   "source": [
    "-----\n",
    "\n",
    "## Student Activity\n",
    "\n",
    "In the preceding cells, we used XXX. Now that you\n",
    "have run the Notebook, go back and make the following changes to see how\n",
    "the results change.\n",
    "\n",
    "1. Change \n",
    "2. Change \n",
    "3. Try making \n",
    "\n",
    "Finally, try applying \n",
    "\n",
    "-----"
   ]
  },
  {
   "cell_type": "markdown",
   "metadata": {},
   "source": [
    "-----\n",
    "### Bag of Words\n",
    "\n",
    "A simple question about text data mining that you might have is _How\n",
    "does one classify documents made up of words when machine learning\n",
    "algorithms work on numerical data?_ The simple answer is we need to\n",
    "build a numerical summary of a data set that our algorithms can\n",
    "manipulate. A conceptually easy approach  to implement this idea is to\n",
    "identify all possible words in the documents of interest and to track the\n",
    "number of times each words occurs in specific documents. This produces a\n",
    "(very) sparse matrix for our sample of documents, where the columns are\n",
    "the possible words (or tokens) and the rows are different documents. \n",
    "\n",
    "This concept, where one tokenizes documents to build these sparse\n",
    "matrices is more formally known as _bag of words_, because we effectively\n",
    "create the [bag of words][bwd] out of which are documents are\n",
    "constructed. In the bag of words model, each document can be mapped into\n",
    "a vector, where the individual elements correspond to the number of\n",
    "times the words (associated with the particular column) appears in the\n",
    "document.\n",
    "\n",
    "With scikit learn, we can use the [`CountVectorizer`][skcv] to break our\n",
    "document into tokens (in this case words), which are used to construct\n",
    "our _bag of words_ for the given set of documents. Given this tokenizer,\n",
    "we first need to construct the list of tokens, which we do with the\n",
    "`fit` method. Second, we need to transform our documents into this\n",
    "sparse matrix, which we do with the `transform` method. Since both steps\n",
    "use the same input dta, there is a convenience method to perform both\n",
    "operations at the same time, called `fit_transform`.\n",
    "\n",
    "-----\n",
    "[bwd]: https://en.wikipedia.org/wiki/Bag-of-words_model\n",
    "[skcv]: http://scikit-learn.org/stable/modules/generated/sklearn.feature_extraction.text.CountVectorizer.html"
   ]
  },
  {
   "cell_type": "code",
   "execution_count": 10,
   "metadata": {
    "collapsed": false
   },
   "outputs": [],
   "source": [
    "from sklearn.feature_extraction.text import CountVectorizer\n",
    "cv = CountVectorizer(analyzer='word', lowercase=True)"
   ]
  },
  {
   "cell_type": "markdown",
   "metadata": {
    "collapsed": false
   },
   "source": [
    "-----\n",
    "\n",
    "Given the `CountVectorizer` we can see the number of words in our _bag_\n",
    "as well as the number of documents on which we train, which in this case\n",
    "agrees with the values we obtained when we read in the data.\n",
    "\n",
    "-----"
   ]
  },
  {
   "cell_type": "code",
   "execution_count": 11,
   "metadata": {
    "collapsed": false
   },
   "outputs": [
    {
     "data": {
      "text/plain": [
       "CountVectorizer(analyzer='word', binary=False, decode_error='strict',\n",
       "        dtype=<class 'numpy.int64'>, encoding='utf-8', input='content',\n",
       "        lowercase=True, max_df=1.0, max_features=None, min_df=1,\n",
       "        ngram_range=(1, 1), preprocessor=None, stop_words=None,\n",
       "        strip_accents=None, token_pattern='(?u)\\\\b\\\\w\\\\w+\\\\b',\n",
       "        tokenizer=None, vocabulary=None)"
      ]
     },
     "execution_count": 11,
     "metadata": {},
     "output_type": "execute_result"
    }
   ],
   "source": [
    "cv.fit(text['data'])"
   ]
  },
  {
   "cell_type": "code",
   "execution_count": 12,
   "metadata": {
    "collapsed": false
   },
   "outputs": [
    {
     "name": "stdout",
     "output_type": "stream",
     "text": [
      "Number of Samples = 1\n",
      "Number of Tokens = 130107\n",
      "---------------------------------------------------------------------------\n",
      "[[0 0 1 0 0 0 0 0 0 0 0 0 0 0 0 0 0 0 0 0 0 0 0 0 0 0 0 0 0 0 0 0 0 0 0 0 0\n",
      "  0 0 0 0 0 0 0 0 0 0 0 0 0 0 0 0 0 0 0 0 0 0 0 0 0 0 0 0 0 0 0 0 0 0 0 0 0\n",
      "  1 0 0 0 0 0 0 0 0 0 0 0 0 0 0 0 0 0 0 0 0 0 0 0 0]]\n",
      "---------------------------------------------------------------------------\n",
      "Tuples from Document-Term Matrix[i, j] and c (Count)\n",
      "---------------------------------------------------------------------------\n",
      "[ (0, 2338, 1), (0, 10368, 1), (0, 28012, 1), (0, 28146, 1), (0, 29241, 2),\n",
      "  (0, 29573, 1), (0, 29620, 2), (0, 30044, 2), (0, 30193, 2), (0, 30526, 1),\n",
      "  (0, 31495, 3), (0, 32036, 1), (0, 32669, 1), (0, 34128, 1), (0, 34404, 2),\n",
      "  (0, 35805, 1), (0, 37509, 1), (0, 38019, 1), (0, 38082, 2), (0, 38243, 1),\n",
      "  (0, 38314, 1), (0, 39169, 1), (0, 39415, 1), (0, 39426, 3), (0, 41105, 2),\n",
      "  (0, 41288, 1), (0, 41850, 1), (0, 41880, 1), (0, 43311, 2), (0, 45143, 1),\n",
      "  (0, 45215, 1), (0, 45240, 1), (0, 45917, 1), (0, 46708, 1), (0, 46815, 1),\n",
      "  (0, 46838, 1), (0, 47201, 1), (0, 47721, 2), (0, 47982, 1), (0, 49047, 2),\n",
      "  (0, 49055, 1), (0, 51399, 1), (0, 52954, 1), (0, 54202, 1), (0, 54532, 1),\n",
      "  (0, 56283, 2), (0, 56979, 1), (0, 59590, 1), (0, 63250, 1), (0, 64186, 1),\n",
      "  (0, 65677, 2), (0, 65798, 2), (0, 65912, 1), (0, 65935, 1), (0, 66608, 4),\n",
      "  (0, 67798, 1), (0, 68532, 2), (0, 68766, 3), (0, 68857, 1), (0, 74314, 1),\n",
      "  (0, 74619, 1), (0, 75901, 1), (0, 76032, 1), (0, 76511, 1), (0, 78644, 2),\n",
      "  (0, 78878, 1), (0, 80798, 1), (0, 81066, 5), (0, 85739, 1), (0, 85884, 1),\n",
      "  (0, 86377, 1), (0, 87186, 2), (0, 89860, 1), (0, 89919, 1), (0, 90252, 1),\n",
      "  (0, 90379, 1), (0, 92260, 2), (0, 92408, 2), (0, 92544, 1), (0, 95130, 1),\n",
      "  (0, 96222, 1), (0, 98379, 1), (0, 99176, 2), (0, 99202, 1), (0, 99721, 1),\n",
      "  (0, 100949, 1), (0, 102566, 2), (0, 102656, 1), (0, 103506, 3),\n",
      "  (0, 105683, 1), (0, 106610, 1), (0, 108558, 1), (0, 111322, 1),\n",
      "  (0, 112650, 2), (0, 114239, 1), (0, 114418, 1), (0, 114455, 5),\n",
      "  (0, 114579, 2), (0, 114646, 1), (0, 114731, 1), (0, 115475, 6),\n",
      "  (0, 115825, 1), (0, 119519, 1), (0, 119737, 2), (0, 119740, 1),\n",
      "  (0, 119899, 1), (0, 119977, 2), (0, 121265, 1), (0, 124332, 1),\n",
      "  (0, 124616, 3), (0, 125094, 1), (0, 125110, 1), (0, 125271, 1),\n",
      "  (0, 128084, 1), (0, 128402, 1), (0, 128420, 2)]\n"
     ]
    }
   ],
   "source": [
    "# We needd an iteratable to appply cv.transform()\n",
    "msg = []\n",
    "msg.append(message)\n",
    "\n",
    "dtm = cv.transform(msg)\n",
    "\n",
    "print('Number of Samples = {0}'.format(dtm.shape[0]))\n",
    "print('Number of Tokens = {0}'.format(dtm.shape[1]))\n",
    "print(75*'-')\n",
    "\n",
    "# We can convert from sparse to dense to explore the document-term matrix\n",
    "print(dtm.todense()[:,45141:45240])\n",
    "print(75*'-')\n",
    "\n",
    "# We can also find the \n",
    "import scipy.sparse as sp\n",
    "\n",
    "print('Tuples from Document-Term Matrix[i, j] and c (Count)')\n",
    "print(75*'-')\n",
    "\n",
    "i, j, c = sp.find(dtm)\n",
    "dtm_list = list(zip(i, j, c))\n",
    "pp.pprint(dtm_list)"
   ]
  },
  {
   "cell_type": "markdown",
   "metadata": {},
   "source": [
    "-----\n",
    "\n",
    "We can grab the words in our _bag of words_ by extracting the _vocubulary_. This allows us to see if words are present in the documents.\n",
    "\n",
    "-----"
   ]
  },
  {
   "cell_type": "code",
   "execution_count": 13,
   "metadata": {
    "collapsed": false
   },
   "outputs": [
    {
     "name": "stdout",
     "output_type": "stream",
     "text": [
      "Arbitrary Word = the: Column = 114455\n",
      "Max Word = to : Column = 115475\n",
      "Min Word = 1000 : Column = 2338\n"
     ]
    }
   ],
   "source": [
    "terms = cv.vocabulary_\n",
    "\n",
    "my_word = 'the'\n",
    "print(\"Arbitrary Word = {0}: Column = {1}\".format(my_word, terms[my_word]))\n",
    "\n",
    "from operator import itemgetter\n",
    "max_key = max(dtm_list, key=itemgetter(2))[1]\n",
    "min_key = min(dtm_list, key=itemgetter(2))[1]\n",
    "\n",
    "x_max = [key for key in terms.keys() if terms[key] == max_key]\n",
    "x_min = [key for key in terms.keys() if terms[key] == min_key]\n",
    "\n",
    "print(\"Max Word = {0} : Column = {1}\".format(x_max[0], max_key))\n",
    "print(\"Min Word = {0} : Column = {1}\".format(x_min[0], min_key))"
   ]
  },
  {
   "cell_type": "code",
   "execution_count": 14,
   "metadata": {
    "collapsed": false
   },
   "outputs": [
    {
     "name": "stdout",
     "output_type": "stream",
     "text": [
      "Count = 6: terms[115475] = to\n",
      "Count = 5: terms[114455] = the\n",
      "Count = 5: terms[81066] = memory\n",
      "Count = 4: terms[66608] = in\n",
      "Count = 3: terms[124616] = with\n",
      "Count = 3: terms[103506] = run\n",
      "Count = 3: terms[68766] = it\n",
      "Count = 3: terms[39426] = chips\n",
      "Count = 3: terms[31495] = bad\n",
      "Count = 2: terms[29241] = are\n"
     ]
    }
   ],
   "source": [
    "# Number of terms to display\n",
    "top_display = 10\n",
    "\n",
    "# Sort our document term list, and unzip\n",
    "dtm_list.sort(key=itemgetter(2), reverse=True)\n",
    "i, j, c = zip(*dtm_list)\n",
    "\n",
    "# Grab out the keys and values for top terms\n",
    "x_keys = [(k, v) for k, v in terms.items() if terms[k] in j[:top_display]]\n",
    "x_keys.sort(key=itemgetter(1), reverse=True)\n",
    "\n",
    "# Grab the data, including counts from DTM list\n",
    "x_counts = dtm_list[:top_display]\n",
    "x_counts.sort(key=itemgetter(1), reverse=True)\n",
    "\n",
    "# Now we merge the two lists so we can sort to display terms in order\n",
    "x_merged = []\n",
    "for idx in range(len(x_keys)):\n",
    "    if x_keys[idx][1] != x_counts[idx][1]:\n",
    "        print('Error: column mismatch!')\n",
    "\n",
    "    x_merged.append((x_keys[idx][0], x_keys[idx][1], x_counts[idx][2]))\n",
    "\n",
    "x_merged.sort(key=itemgetter(2), reverse=True)\n",
    "\n",
    "# Print results\n",
    "for x in x_merged:\n",
    "    print(\"Count = {2}: terms[{0}] = {1}\".format(x[1], x[0], x[2]))"
   ]
  },
  {
   "cell_type": "markdown",
   "metadata": {},
   "source": [
    "-----\n",
    "\n",
    "## Student Activity\n",
    "\n",
    "In the preceding cells, we used scikit learn to ....\n",
    "\n",
    "Note how we do not have the single charctaer word `a` in the list of most common items. The reason is the default tokenizer for `CountVectorizer` removes single character words (as they are assumed to be uninformative). You can fix this by assigning the string `'(?u)\\\\b\\\\w+\\\\b'` as a value to the `token_pattern` parameter when creating the `CountVectorizer`.\n",
    "\n",
    "\n",
    "Rerun with this change and verify that the `a` token now appears.\n",
    "\n",
    "PCA to transform the combined digit data\n",
    "and to explore the distribution of the real data and outliers in\n",
    "two-dimensional plots by using different PCA components. Now that you\n",
    "have run the Notebook, go back and make the following changes to see how\n",
    "the results change.\n",
    "\n",
    "1. Change the number of PCA components lower and higher. How does this\n",
    "affect the separation of the outliers?\n",
    "2. Change the PCA components used to make these plots, for example\n",
    "to the third and fourth component. How does this affect the separation\n",
    "of the outliers?\n",
    "3. Try making a new fake data point that combines the 'bar' image from\n",
    "the helper code with an existing number, such as a six. Using a\n",
    "different color ini the plots for this data point, where does this new,\n",
    "more realistic _fake_ data point lie in the previous plots?\n",
    "\n",
    "Finally, try applying a classifier on the new digit data. Can you\n",
    "explain (feel free to use the class forums) why the classification\n",
    "algorithm performed in the  manner it did for the new _fake_ digits?\n",
    "\n",
    "-----"
   ]
  },
  {
   "cell_type": "markdown",
   "metadata": {},
   "source": [
    "## NLTK\n",
    "\n",
    "-----\n"
   ]
  },
  {
   "cell_type": "code",
   "execution_count": 15,
   "metadata": {
    "collapsed": true
   },
   "outputs": [],
   "source": [
    "import nltk"
   ]
  },
  {
   "cell_type": "code",
   "execution_count": 16,
   "metadata": {
    "collapsed": false
   },
   "outputs": [
    {
     "name": "stdout",
     "output_type": "stream",
     "text": [
      "[ ('>', 19), ('.', 13), (':', 7), (',', 6), ('a', 6), ('to', 6), ('the', 5),\n",
      "  ('memory', 5), ('in', 4), ('@', 4)]\n"
     ]
    }
   ],
   "source": [
    "words = [word.lower() for word in nltk.word_tokenize(message)]\n",
    "counts = nltk.FreqDist(words)\n",
    "pp.pprint(counts.most_common(top_display))"
   ]
  },
  {
   "cell_type": "code",
   "execution_count": 17,
   "metadata": {
    "collapsed": false
   },
   "outputs": [
    {
     "name": "stdout",
     "output_type": "stream",
     "text": [
      "[ ('to', 6), ('a', 6), ('the', 5), ('memory', 5), ('in', 4), ('i', 3),\n",
      "  ('it', 3), ('run', 3), ('bad', 3), ('chips', 3)]\n"
     ]
    }
   ],
   "source": [
    "words = [word.lower() for word in nltk.word_tokenize(re.sub(pattern, ' ', message))]\n",
    "counts = nltk.FreqDist(words)\n",
    "pp.pprint(counts.most_common(top_display))"
   ]
  },
  {
   "cell_type": "code",
   "execution_count": 18,
   "metadata": {
    "collapsed": false
   },
   "outputs": [
    {
     "name": "stdout",
     "output_type": "stream",
     "text": [
      "Message has 128 tokens and 188 words for a lexical diversity of 1.469\n"
     ]
    }
   ],
   "source": [
    "# https://en.wikipedia.org/wiki/Lexical_diversity\n",
    "\n",
    "num_words = len(words)\n",
    "num_tokens = len(counts)\n",
    "lexdiv  =  num_words / num_tokens\n",
    "print(\"Message has %i tokens and %i words for a lexical diversity of %0.3f\" % (num_tokens, num_words, lexdiv))"
   ]
  },
  {
   "cell_type": "code",
   "execution_count": 19,
   "metadata": {
    "collapsed": false
   },
   "outputs": [
    {
     "name": "stdout",
     "output_type": "stream",
     "text": [
      "Number of unique bins(tokens) = 128\n",
      "\n",
      "Number of sample outcomes = 188\n",
      "\n",
      "Maximum occuring token = to\n",
      "\n",
      "to           has frequency 0.032\n",
      "to           has frequency 0.032\n",
      "to           has frequency 0.032\n",
      "a            has frequency 0.032\n",
      "to           has frequency 0.032\n",
      "a            has frequency 0.032\n",
      "a            has frequency 0.032\n",
      "a            has frequency 0.032\n",
      "a            has frequency 0.032\n",
      "a            has frequency 0.032\n"
     ]
    }
   ],
   "source": [
    "# Display number of unique tokens (or bins)\n",
    "print('Number of unique bins(tokens) = {0}\\n'.format(counts.B()))\n",
    "print('Number of sample outcomes = {0}\\n'.format(counts.N()))\n",
    "print('Maximum occuring token = {0}\\n'.format(counts.max()))\n",
    "\n",
    "tokens = [(word, counts.freq(word)) for word in words]\n",
    "tokens.sort(key=itemgetter(1), reverse=True)\n",
    "\n",
    "for token, freq in tokens[:top_display]:\n",
    "    print('{0:12s} has frequency {1:4.3f}'.format(token, freq))\n"
   ]
  },
  {
   "cell_type": "code",
   "execution_count": 20,
   "metadata": {
    "collapsed": false
   },
   "outputs": [
    {
     "name": "stdout",
     "output_type": "stream",
     "text": [
      "[ 'ramdrive', 'interesting', 'media', 'totally', 'article', 'config', 'robert',\n",
      "  'check', 'case', 'this']\n"
     ]
    }
   ],
   "source": [
    "# Hapaxes: https://en.wikipedia.org/wiki/Hapax_legomenon\n",
    "pp.pprint(counts.hapaxes()[:10])"
   ]
  },
  {
   "cell_type": "code",
   "execution_count": 21,
   "metadata": {
    "collapsed": false
   },
   "outputs": [
    {
     "name": "stdout",
     "output_type": "stream",
     "text": [
      "  to    a  the memory   in    i   it  run  bad chips \n",
      "   6    6    5    5    4    3    3    3    3    3 \n"
     ]
    }
   ],
   "source": [
    "counts.tabulate(top_display)"
   ]
  },
  {
   "cell_type": "code",
   "execution_count": 22,
   "metadata": {
    "collapsed": false
   },
   "outputs": [
    {
     "data": {
      "image/png": "[encoded data removed]",
      "text/plain": [
       "<matplotlib.figure.Figure at 0x7f77ae6b3b38>"
      ]
     },
     "metadata": {},
     "output_type": "display_data"
    }
   ],
   "source": [
    "counts.plot(top_display, cumulative=False)"
   ]
  },
  {
   "cell_type": "markdown",
   "metadata": {},
   "source": [
    "-----\n",
    "## NLTK Corpus\n",
    "\n",
    "-----"
   ]
  },
  {
   "cell_type": "code",
   "execution_count": 23,
   "metadata": {
    "collapsed": false
   },
   "outputs": [],
   "source": [
    "# Access an NLTK data set. \n",
    "#Reuter articles\n",
    "\n",
    "reuters = nltk.corpus.reuters"
   ]
  },
  {
   "cell_type": "code",
   "execution_count": 24,
   "metadata": {
    "collapsed": false
   },
   "outputs": [
    {
     "name": "stdout",
     "output_type": "stream",
     "text": [
      "\n",
      "      The Reuters-21578 benchmark corpus, ApteMod version\n",
      "\n",
      "This is a publically available version of the well-known Reuters-21578\n",
      "\"ApteMod\" corpus for text categorization. \n"
     ]
    }
   ],
   "source": [
    "# Print the data set README,  remove array bounds to see entire file\n",
    "print(reuters.readme()[:173])"
   ]
  },
  {
   "cell_type": "code",
   "execution_count": 25,
   "metadata": {
    "collapsed": false
   },
   "outputs": [
    {
     "name": "stdout",
     "output_type": "stream",
     "text": [
      "Reuters has 41600 tokens and 1720901 words for a lexical diversity of 41.368\n"
     ]
    }
   ],
   "source": [
    "r_words = reuters.words()\n",
    "counts  = nltk.FreqDist(r_words)\n",
    "num_words = len(r_words)\n",
    "num_tokens = len(counts)\n",
    "lexdiv  =  num_words / num_tokens\n",
    "print(\"Reuters has %i tokens and %i words for a lexical diversity of %0.3f\" % (num_tokens, num_words, lexdiv))"
   ]
  },
  {
   "cell_type": "code",
   "execution_count": 26,
   "metadata": {
    "collapsed": false
   },
   "outputs": [
    {
     "name": "stdout",
     "output_type": "stream",
     "text": [
      "[ 'ASIAN', 'EXPORTERS', 'FEAR', 'DAMAGE', 'FROM', 'U', '.', 'S', '.-', 'JAPAN',\n",
      "  'RIFT', 'Mounting', 'trade', 'friction', 'between', 'the', 'U', '.', 'S', '.',\n",
      "  'And', 'Japan', 'has', 'raised', 'fears', 'among', 'many', 'of', 'Asia', \"'\",\n",
      "  's', 'exporting', 'nations', 'that', 'the', 'row', 'could', 'inflict', 'far',\n",
      "  '-', 'reaching', 'economic', 'damage', ',', 'businessmen', 'and', 'officials',\n",
      "  'said', '.', 'They']\n"
     ]
    }
   ],
   "source": [
    "pp.pprint(reuters.words()[:50])"
   ]
  },
  {
   "cell_type": "code",
   "execution_count": 27,
   "metadata": {
    "collapsed": false
   },
   "outputs": [
    {
     "name": "stdout",
     "output_type": "stream",
     "text": [
      "Total Number of articles = 10788\n"
     ]
    }
   ],
   "source": [
    "# Each article is in a separate file\n",
    "\n",
    "print('Total Number of articles = {0}'.format(len(reuters.fileids())))"
   ]
  },
  {
   "cell_type": "code",
   "execution_count": 28,
   "metadata": {
    "collapsed": false
   },
   "outputs": [
    {
     "name": "stdout",
     "output_type": "stream",
     "text": [
      "Example File: test/14826\n"
     ]
    }
   ],
   "source": [
    "a_filename = reuters.fileids()[0]\n",
    "print('Example File: {0}'.format(a_filename))"
   ]
  },
  {
   "cell_type": "code",
   "execution_count": 29,
   "metadata": {
    "collapsed": false
   },
   "outputs": [
    {
     "name": "stdout",
     "output_type": "stream",
     "text": [
      "('ASIAN EXPORTERS FEAR DAMAGE FROM U.S.-JAPAN RIFT\\n'\n",
      " '  Mounting trade friction between the\\n'\n",
      " \"  U.S. And Japan has raised fears among many of Asia's exporting\\n\"\n",
      " '  nations that the row could inflict far-reaching economic\\n')\n"
     ]
    }
   ],
   "source": [
    "# Print part of the file\n",
    "pp.pprint(reuters.raw(a_filename)[:211])"
   ]
  },
  {
   "cell_type": "code",
   "execution_count": 30,
   "metadata": {
    "collapsed": false
   },
   "outputs": [
    {
     "name": "stdout",
     "output_type": "stream",
     "text": [
      "[ 'acq', 'alum', 'barley', 'bop', 'carcass', 'castor-oil', 'cocoa', 'coconut',\n",
      "  'coconut-oil', 'coffee', 'copper', 'copra-cake', 'corn', 'cotton',\n",
      "  'cotton-oil', 'cpi', 'cpu', 'crude', 'dfl', 'dlr', 'dmk', 'earn', 'fuel',\n",
      "  'gas', 'gnp', 'gold', 'grain', 'groundnut', 'groundnut-oil', 'heat', 'hog',\n",
      "  'housing', 'income', 'instal-debt', 'interest', 'ipi', 'iron-steel', 'jet',\n",
      "  'jobs', 'l-cattle', 'lead', 'lei', 'lin-oil', 'livestock', 'lumber',\n",
      "  'meal-feed', 'money-fx', 'money-supply', 'naphtha', 'nat-gas', 'nickel',\n",
      "  'nkr', 'nzdlr', 'oat', 'oilseed', 'orange', 'palladium', 'palm-oil',\n",
      "  'palmkernel', 'pet-chem', 'platinum', 'potato', 'propane', 'rand', 'rape-oil',\n",
      "  'rapeseed', 'reserves', 'retail', 'rice', 'rubber', 'rye', 'ship', 'silver',\n",
      "  'sorghum', 'soy-meal', 'soy-oil', 'soybean', 'strategic-metal', 'sugar',\n",
      "  'sun-meal', 'sun-oil', 'sunseed', 'tea', 'tin', 'trade', 'veg-oil', 'wheat',\n",
      "  'wpi', 'yen', 'zinc']\n"
     ]
    }
   ],
   "source": [
    "# Display article assigned categories\n",
    "pp.pprint(reuters.categories())"
   ]
  },
  {
   "cell_type": "code",
   "execution_count": 31,
   "metadata": {
    "collapsed": false
   },
   "outputs": [
    {
     "name": "stdout",
     "output_type": "stream",
     "text": [
      "[ 'test/14882', 'test/16194', 'test/17480', 'test/17486', 'test/17783',\n",
      "  'test/17805', 'test/18337', 'test/18943', 'test/18945', 'test/19431',\n",
      "  'test/19477', 'test/19692', 'test/19764', 'training/10485', 'training/1077',\n",
      "  'training/11190', 'training/12484', 'training/13877', 'training/14572',\n",
      "  'training/2186', 'training/3104', 'training/3163', 'training/3183',\n",
      "  'training/3207', 'training/3454', 'training/3862', 'training/5153',\n",
      "  'training/6451', 'training/6995', 'training/7775', 'training/7842',\n",
      "  'training/8308', 'training/8854', 'training/8877']\n"
     ]
    }
   ],
   "source": [
    "# Find articles that have specific category\n",
    "pp.pprint(reuters.fileids('zinc'))"
   ]
  },
  {
   "cell_type": "code",
   "execution_count": 32,
   "metadata": {
    "collapsed": false
   },
   "outputs": [
    {
     "name": "stdout",
     "output_type": "stream",
     "text": [
      "[ 'GOLDEN', 'NORTH', 'HAS', 'ENCOURAGING', 'DRILL', 'RESULTS', 'Golden',\n",
      "  'North', 'Resource', 'Corp', 'said', 'said', 'surface', 'and', 'underground',\n",
      "  'drilling', 'on', 'the', 'Canty', 'project', 'and', 'Mascot', 'fraction',\n",
      "  'at', 'its', 'Nickel', 'Plate', 'Mountain', 'property', 'in', 'British',\n",
      "  'Columbia', 'returned', 'encouraging', 'gold', 'assays', '.']\n",
      "[ 'It', 'said', 'one', 'Canty', 'hole', 'encountered', 'several', 'mineralized',\n",
      "  'intervals', 'including', '11', 'feet', 'grading', '0', '.', '342', 'ounce',\n",
      "  'gold', 'a', 'short', 'ton', 'from', '86', 'to', '97', 'feet', 'and', '17',\n",
      "  'feet', 'grading', '0', '.', '756', 'ounce', 'gold', 'ton', 'from', '170',\n",
      "  '.', '5', 'feet', 'to', '187', '.', '5', 'feet', '.']\n",
      "[ 'A', 'Mascot', 'fraction', 'hole', 'returned', 'assays', 'including', '0',\n",
      "  '.', '190', 'ounce', 'gold', 'ton', 'over', 'seven', 'feet', 'between', '57',\n",
      "  'and', '64', 'feet', ',', 'it', 'said', '.']\n"
     ]
    }
   ],
   "source": [
    "# Display sentances from an article\n",
    "\n",
    "a_filename = 'training/9104'\n",
    "for sent in reuters.sents(a_filename):\n",
    "    pp.pprint(sent)"
   ]
  },
  {
   "cell_type": "markdown",
   "metadata": {},
   "source": [
    "-----\n",
    "\n",
    "## Student Activity\n",
    "\n",
    "In the preceding cells, we used NLTK to ....\n",
    "\n",
    "Now that you\n",
    "have run the Notebook, go back and make the following changes to see how\n",
    "the results change.\n",
    "\n",
    "1. Change the \n",
    "2. Change the \n",
    "3. Try making \n",
    "\n",
    "\n",
    "\n",
    "-----"
   ]
  }
 ],
 "metadata": {
  "kernelspec": {
   "display_name": "Python 3",
   "language": "python",
   "name": "python3"
  },
  "language_info": {
   "codemirror_mode": {
    "name": "ipython",
    "version": 3
   },
   "file_extension": ".py",
   "mimetype": "text/x-python",
   "name": "python",
   "nbconvert_exporter": "python",
   "pygments_lexer": "ipython3",
   "version": "3.4.4"
  }
 },
 "nbformat": 4,
 "nbformat_minor": 0
}
