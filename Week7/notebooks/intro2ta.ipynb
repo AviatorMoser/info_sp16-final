{
 "cells": [
  {
   "cell_type": "markdown",
   "metadata": {},
   "source": [
    "<DIV ALIGN=CENTER>\n",
    "\n",
    "# Introduction to Text Analysis\n",
    "## Professor Robert J. Brunner\n",
    "  \n",
    "</DIV>  \n",
    "-----\n",
    "-----"
   ]
  },
  {
   "cell_type": "markdown",
   "metadata": {},
   "source": [
    "\n",
    "## Introduction\n",
    "\n",
    "In this IPython Notebook, we introduce text analysis, which is one of\n",
    "the most exciting application areas for machine learning. Text analysis\n",
    "forms the basis for [natural language processing][nlp, and is explicitly\n",
    "used for [sentiment analysis][sa], for [language identification][lc],\n",
    "[spelling correction][sc], as well as mining text data from forms, such\n",
    "as [medical informatics][mi]. Before moving into text classification and\n",
    "text mining, in this notenook we focus on basic text analysis tasks such\n",
    "as accessing data, tokenizing a corpus, and computing token frequencies.\n",
    "We demonstrate these tasks by using basic Python concepts and by using\n",
    "functionaility from within the scikit learn library, Finally, we\n",
    "introduce the NLTK library, and use methods within this library to\n",
    "perform these tasks.\n",
    "\n",
    "-----\n",
    "[nlp]: https://en.wikipedia.org/wiki/Natural_language_processing\n",
    "[sa]: https://en.wikipedia.org/wiki/Sentiment_analysis\n",
    "[lc]: https://en.wikipedia.org/wiki/Language_identification\n",
    "[sc]: http://norvig.com/spell-correct.html\n",
    "[mi]: https://en.wikipedia.org/wiki/Health_informatics"
   ]
  },
  {
   "cell_type": "code",
   "execution_count": 1,
   "metadata": {
    "collapsed": false
   },
   "outputs": [],
   "source": [
    "# Display all plots inline\n",
    "% matplotlib inline"
   ]
  },
  {
   "cell_type": "markdown",
   "metadata": {},
   "source": [
    "### Data\n",
    "\n",
    "To get started with text analysis, we need **texts to analyze**. To get\n",
    "started, we will analyze the [twenty newsgroup][tng] data set. We first\n",
    "download this data (scikit learn has built in methods for doing this,\n",
    "however, we have cached a copy locally on our server). The data are made\n",
    "available via a custom object, but we can access the data of interest by\n",
    "using dictionary keys. Before delving into text analysis, we first\n",
    "explore this data over several code cells to understand more about the\n",
    "task at hand.\n",
    "\n",
    "In case you are unaware, one primary use of the early Internet (i.e.,\n",
    "pre-Web) was to share information among interested groups via\n",
    "newsgroups, or bulletin boards. Users could subscribe to these groups to\n",
    "send and receive postings of interest. This text classification problem\n",
    "uses postings to twenty newsgroups, thus the newsgroup is the\n",
    "classification target and the text in the posting is used to make the\n",
    "features. These postings were similar to emails, thus each posting will\n",
    "have a header, the article body, which might quote all or part of a\n",
    "previous message, and  possibly a footer (like an email signature).\n",
    "While we use the entire posting in these Notebooks, you can have the\n",
    "header, quoted text, and the footer removed by scikit learn by including\n",
    "the `remove` attribute, and indicating whether these sections should be\n",
    "removed. This attribute can take one or all of the values: `header`,\n",
    "`footer`, and `quotes`. For example, the following attribute would be \n",
    "used to remove both headers and footers.\n",
    "\n",
    "`remove =('headers', 'footers')`\n",
    "\n",
    "-----\n",
    "\n",
    "[tng]: http://kdd.ics.uci.edu/databases/20newsgroups/20newsgroups.data.html"
   ]
  },
  {
   "cell_type": "code",
   "execution_count": 36,
   "metadata": {
    "collapsed": false
   },
   "outputs": [
    {
     "name": "stdout",
     "output_type": "stream",
     "text": [
      "dict_keys(['description', 'filenames', 'target_names', 'DESCR', 'target', 'data'])\n"
     ]
    }
   ],
   "source": [
    "# load dataset\n",
    "from sklearn.datasets import fetch_20newsgroups\n",
    "\n",
    "text = fetch_20newsgroups(data_home='/home/data_scientist/data/textdm', remove =('headers', 'footers'))\n",
    "\n",
    "# To learn more about these data, either browse the relevant \n",
    "# scikit learn documentation, or enter help(text) in an IPython code cell\n",
    "\n",
    "# The data can be accessed via Dictionary keys\n",
    "\n",
    "print(text.keys())"
   ]
  },
  {
   "cell_type": "code",
   "execution_count": 37,
   "metadata": {
    "collapsed": false
   },
   "outputs": [
    {
     "name": "stdout",
     "output_type": "stream",
     "text": [
      "Class  0 = alt.atheism\n",
      "Class  1 = comp.graphics\n",
      "Class  2 = comp.os.ms-windows.misc\n",
      "Class  3 = comp.sys.ibm.pc.hardware\n",
      "Class  4 = comp.sys.mac.hardware\n",
      "Class  5 = comp.windows.x\n",
      "Class  6 = misc.forsale\n",
      "Class  7 = rec.autos\n",
      "Class  8 = rec.motorcycles\n",
      "Class  9 = rec.sport.baseball\n",
      "Class 10 = rec.sport.hockey\n",
      "Class 11 = sci.crypt\n",
      "Class 12 = sci.electronics\n",
      "Class 13 = sci.med\n",
      "Class 14 = sci.space\n",
      "Class 15 = soc.religion.christian\n",
      "Class 16 = talk.politics.guns\n",
      "Class 17 = talk.politics.mideast\n",
      "Class 18 = talk.politics.misc\n",
      "Class 19 = talk.religion.misc\n"
     ]
    }
   ],
   "source": [
    "# Display target names, i.e., the names of the twenty news groups\n",
    "\n",
    "for idx, label in enumerate(text['target_names']):\n",
    "    print('Class {0:2d} = {1}'.format(idx, label))"
   ]
  },
  {
   "cell_type": "code",
   "execution_count": 38,
   "metadata": {
    "collapsed": false
   },
   "outputs": [
    {
     "name": "stdout",
     "output_type": "stream",
     "text": [
      "Target Newsgroup: sci.med\n",
      "----------------------------------------------------------------------\n",
      "In article <C5u5LG.C3G@gpu.utcc.utoronto.ca> molnar@Bisco.CAnet.CA (Tom Molnar) writes:\n",
      ">I experienced a sudden numbness in my left arm this morning.  Just after\n",
      ">I completed my 4th set of deep squats.  Today was my weight training\n",
      ">day and I was just beginning my routine.  All of a sudden at the end of\n",
      ">the 4th set my arm felt like it had gone to sleep.  It was cold, turned pale,\n",
      ">and lost 60% of its strength.  The weight I used for squats wasn't that\n",
      ">heavy, I was working hard but not at 100% effort.  I waited for a few \n",
      ">minutes, trying to shake the arm back to life and then continued with\n",
      ">chest exercises (flyes) with lighter dumbells than I normally use.  But\n",
      ">I dropped the left dumbell during the first set, and experienced continued\n",
      ">arm weakness into the second.  So I quit training and decided not to do my\n",
      ">usual hour on the ski machine either.  I'll take it easy for the rest of\n",
      ">the day.\n",
      ">\n",
      ">My arm is *still* somewhat numb and significantly weaker than normal --\n",
      ">my hand still tingles a bit down to the thumb. Color has returned to normal\n",
      ">and it is no longer cold. \n",
      ">\n",
      ">Horrid thoughts of chunks of plaque blocking a major artery course through\n",
      ">my brain.  I'm 34, vegetarian, and pretty fit from my daily exercise\n",
      ">regimen.  So that can't be it.  Could a pinched nerve from the bar\n",
      ">cause these symptoms (I hope)?\n",
      "\n",
      "It likely has nothing to do with \"chunks of plaque\" but it sounds like\n",
      "you may have a neurovascular compromise to your arm and you need medical\n",
      "attention *before* doing any more weight lifting.  \n",
      "\n",
      "\n",
      "\n",
      "\n",
      "\n",
      "\n",
      "\n",
      "\n",
      "\n",
      "\n",
      "\n",
      "\n",
      "\n",
      "\n",
      "\n",
      "\n",
      "\n",
      "-- \n",
      "----------------------------------------------------------------------------\n",
      "Gordon Banks  N3JXP      | \"Skepticism is the chastity of the intellect, and\n",
      "geb@cadre.dsl.pitt.edu   |  it is shameful to surrender it too soon.\" \n"
     ]
    }
   ],
   "source": [
    "# Display single message\n",
    "messageID = 251\n",
    "\n",
    "print('Target Newsgroup: {0}'.format(text['target_names'][text['target'][messageID]]))\n",
    "print(70*'-')\n",
    "\n",
    "message = text['data'][messageID]\n",
    "print(message)"
   ]
  },
  {
   "cell_type": "markdown",
   "metadata": {},
   "source": [
    "-----\n",
    "\n",
    "We can analyze text messages by using basic Python commands. For\n",
    "example, we can find how many times a word appears in a text by using\n",
    "Python `string` functions. One important item to consider, however, is\n",
    "that, by default, Python will search for sequences of characters in a\n",
    "text message. Thus, if a word is also part of larger words, we will\n",
    "over-count the occurrences, as demonstrated in the following code cell.\n",
    "\n",
    "We overcome this limitation by explicitly splitting a text into tokens.\n",
    "By default, in Python this is done at whitespace, but this can be\n",
    "changed. The second code cell demonstrates tokenizing a text string, and\n",
    "using a [`Counter`][pc] to accumulate the number of unique occurrences\n",
    "of each token. Finally, we employ regular expressions to split a text\n",
    "string, and use the resulting tokens to create another `Counter` that\n",
    "can be used to compare the results of regular expression parsing with\n",
    "the default string tokenization. One benefit of using regular\n",
    "expressions is that we can specifically indicate of what a token should\n",
    "be composed, in this case, we state a token is a sequence of one or\n",
    "more alphanumeric characters surrounded by white space. Thus the '>'\n",
    "token is removed.\n",
    "\n",
    "-----\n",
    "[pc]: https://docs.python.org/3.5/library/collections.html#collections.Counter"
   ]
  },
  {
   "cell_type": "code",
   "execution_count": 39,
   "metadata": {
    "collapsed": false
   },
   "outputs": [
    {
     "name": "stdout",
     "output_type": "stream",
     "text": [
      "Expression Count: 14\n",
      "Isolated Token Count: 9\n"
     ]
    }
   ],
   "source": [
    "token = 'to'\n",
    "i_token = ' {0} '.format(token)\n",
    "\n",
    "print('Expression Count: {0}'.format(message.count(token)))\n",
    "print('Isolated Token Count: {0}'.format(message.count(i_token)))"
   ]
  },
  {
   "cell_type": "code",
   "execution_count": 40,
   "metadata": {
    "collapsed": false
   },
   "outputs": [
    {
     "name": "stdout",
     "output_type": "stream",
     "text": [
      "Total number of tokens = 199\n",
      "---------------------------------------------------------------------------\n",
      "Top 40 tokens:\n",
      "---------------------------------------------------------------------------\n",
      "[ ('the', 11), ('of', 9), ('to', 9), ('and', 8), ('a', 7), ('my', 7), ('it', 6),\n",
      "  ('I', 6), ('arm', 5), ('was', 4), ('is', 4), ('>I', 3), ('for', 3),\n",
      "  ('with', 3), ('weight', 3), ('has', 2), ('at', 2), ('training', 2),\n",
      "  ('like', 2), ('continued', 2), ('not', 2), ('that', 2), ('sudden', 2),\n",
      "  ('It', 2), ('you', 2), ('So', 2), ('>my', 2), ('from', 2), ('but', 2),\n",
      "  ('|', 2), ('>and', 2), ('--', 2), ('>the', 2), ('set', 2), ('normal', 2),\n",
      "  ('left', 2), ('>', 2), ('experienced', 2), ('4th', 2), ('than', 2)]\n"
     ]
    }
   ],
   "source": [
    "# Accumulate counts of tokens, using string functionality\n",
    "import collections as cl\n",
    "\n",
    "# Used to print out sequences\n",
    "import pprint\n",
    "pp = pprint.PrettyPrinter(indent=2, depth=2, width=80, compact=True)\n",
    "\n",
    "# Tokenize and create counter\n",
    "words = message.split()\n",
    "wc = cl.Counter(words)\n",
    "\n",
    "# Number of tokens to display from message\n",
    "wc_display = 40\n",
    "\n",
    "# Display results\n",
    "print('Total number of tokens = {0:d}'.format(len(wc)))\n",
    "print(75*'-')\n",
    "print('Top {} tokens:'.format(wc_display))\n",
    "print(75*'-')\n",
    "pp.pprint(wc.most_common(wc_display))"
   ]
  },
  {
   "cell_type": "code",
   "execution_count": 466,
   "metadata": {
    "collapsed": false
   },
   "outputs": [
    {
     "name": "stdout",
     "output_type": "stream",
     "text": [
      "['In', 'article', 'C5u5LG', 'C3G', 'gpu', 'utcc', 'utoronto', 'ca', 'molnar', 'Bisco', 'CAnet', 'CA', 'Tom', 'Molnar', 'writes', 'I', 'experienced', 'a', 'sudden', 'numbness', 'in', 'my', 'left', 'arm', 'this', 'morning', 'Just', 'after', 'I', 'completed', 'my', '4th', 'set', 'of', 'deep', 'squats', 'Today', 'was', 'my', 'weight', 'training', 'day', 'and', 'I', 'was', 'just', 'beginning', 'my', 'routine', 'All', 'of', 'a', 'sudden', 'at', 'the', 'end', 'of', 'the', '4th', 'set', 'my', 'arm', 'felt', 'like', 'it', 'had', 'gone', 'to', 'sleep', 'It', 'was', 'cold', 'turned', 'pale', 'and', 'lost', '60', 'of', 'its', 'strength', 'The', 'weight', 'I', 'used', 'for', 'squats', 'wasn', 't', 'that', 'heavy', 'I', 'was', 'working', 'hard', 'but', 'not', 'at', '100', 'effort', 'I', 'waited', 'for', 'a', 'few', 'minutes', 'trying', 'to', 'shake', 'the', 'arm', 'back', 'to', 'life', 'and', 'then', 'continued', 'with', 'chest', 'exercises', 'flyes', 'with', 'lighter', 'dumbells', 'than', 'I', 'normally', 'use', 'But', 'I', 'dropped', 'the', 'left', 'dumbell', 'during', 'the', 'first', 'set', 'and', 'experienced', 'continued', 'arm', 'weakness', 'into', 'the', 'second', 'So', 'I', 'quit', 'training', 'and', 'decided', 'not', 'to', 'do', 'my', 'usual', 'hour', 'on', 'the', 'ski', 'machine', 'either', 'I', 'll', 'take', 'it', 'easy', 'for', 'the', 'rest', 'of', 'the', 'day', 'My', 'arm', 'is', 'still', 'somewhat', 'numb', 'and', 'significantly', 'weaker', 'than', 'normal', 'my', 'hand', 'still', 'tingles', 'a', 'bit', 'down', 'to', 'the', 'thumb', 'Color', 'has', 'returned', 'to', 'normal', 'and', 'it', 'is', 'no', 'longer', 'cold', 'Horrid', 'thoughts', 'of', 'chunks', 'of', 'plaque', 'blocking', 'a', 'major', 'artery', 'course', 'through', 'my', 'brain', 'I', 'm', '34', 'vegetarian', 'and', 'pretty', 'fit', 'from', 'my', 'daily', 'exercise', 'regimen', 'So', 'that', 'can', 't', 'be', 'it', 'Could', 'a', 'pinched', 'nerve', 'from', 'the', 'bar', 'cause', 'these', 'symptoms', 'I', 'hope', 'It', 'likely', 'has', 'nothing', 'to', 'do', 'with', 'chunks', 'of', 'plaque', 'but', 'it', 'sounds', 'like', 'you', 'may', 'have', 'a', 'neurovascular', 'compromise', 'to', 'your', 'arm', 'and', 'you', 'need', 'medical', 'attention', 'before', 'doing', 'any', 'more', 'weight', 'lifting', 'Gordon', 'Banks', 'N3JXP', 'Skepticism', 'is', 'the', 'chastity', 'of', 'the', 'intellect', 'and', 'geb', 'cadre', 'dsl', 'pitt', 'edu', 'it', 'is', 'shameful', 'to', 'surrender', 'it', 'too', 'soon']\n",
      "Total number of tokens = 194\n",
      "---------------------------------------------------------------------------\n",
      "Top 40 tokens:\n",
      "---------------------------------------------------------------------------\n",
      "[ ('the', 13), ('I', 12), ('and', 10), ('of', 9), ('to', 9), ('my', 9),\n",
      "  ('a', 7), ('it', 7), ('arm', 6), ('was', 4), ('is', 4), ('with', 3),\n",
      "  ('for', 3), ('set', 3), ('weight', 3), ('has', 2), ('at', 2), ('training', 2),\n",
      "  ('t', 2), ('like', 2), ('continued', 2), ('not', 2), ('cold', 2),\n",
      "  ('still', 2), ('that', 2), ('sudden', 2), ('It', 2), ('you', 2), ('So', 2),\n",
      "  ('chunks', 2), ('from', 2), ('but', 2), ('squats', 2), ('normal', 2),\n",
      "  ('left', 2), ('experienced', 2), ('4th', 2), ('plaque', 2), ('than', 2),\n",
      "  ('day', 2)]\n"
     ]
    }
   ],
   "source": [
    "# Use regular expressions to tokenize\n",
    "import re\n",
    "pattern = re.compile(r'[^\\w\\s]')\n",
    "\n",
    "# tokenize and accumulate token counts\n",
    "words = re.sub(pattern, ' ', message).split()\n",
    "print(words)\n",
    "wc = cl.Counter(words)\n",
    "\n",
    "# Display results\n",
    "print('Total number of tokens = {0:d}'.format(len(wc)))\n",
    "print(75*'-')\n",
    "print('Top {} tokens:'.format(wc_display))\n",
    "print(75*'-')\n",
    "pp.pprint(wc.most_common(wc_display))"
   ]
  },
  {
   "cell_type": "markdown",
   "metadata": {},
   "source": [
    "-----\n",
    "\n",
    "The previous cells tokenized a text document, but identical tokens with\n",
    "different case will be treated as distinct. In general, this is not a\n",
    "desirable result since it could undercount the occurrences of an\n",
    "otherwise important token. We can easily convert a text to all lowercase\n",
    "to prevent this, by using the string `lower` method. This is\n",
    "demonstrated int he following code cell, where the total number of\n",
    "tokens has changed, as well as the counts of specific tokens (such as\n",
    "`in`).\n",
    "\n",
    "-----"
   ]
  },
  {
   "cell_type": "code",
   "execution_count": 467,
   "metadata": {
    "collapsed": false
   },
   "outputs": [
    {
     "name": "stdout",
     "output_type": "stream",
     "text": [
      "Total number of tokens = 186\n",
      "---------------------------------------------------------------------------\n",
      "Top 40 tokens:\n",
      "---------------------------------------------------------------------------\n",
      "[ ('the', 14), ('i', 12), ('and', 10), ('my', 10), ('of', 9), ('to', 9),\n",
      "  ('it', 9), ('a', 7), ('arm', 6), ('was', 4), ('is', 4), ('for', 3),\n",
      "  ('but', 3), ('set', 3), ('with', 3), ('weight', 3), ('in', 2), ('has', 2),\n",
      "  ('at', 2), ('training', 2), ('t', 2), ('so', 2), ('like', 2),\n",
      "  ('continued', 2), ('not', 2), ('ca', 2), ('cold', 2), ('still', 2),\n",
      "  ('that', 2), ('sudden', 2), ('you', 2), ('chunks', 2), ('from', 2),\n",
      "  ('squats', 2), ('normal', 2), ('just', 2), ('left', 2), ('molnar', 2),\n",
      "  ('experienced', 2), ('4th', 2)]\n"
     ]
    }
   ],
   "source": [
    "# We can convert message to lower-case\n",
    "words = re.sub(pattern, ' ', message.lower()).split()\n",
    "wc = cl.Counter(words)\n",
    "\n",
    "# Display results\n",
    "print('Total number of tokens = {0:d}'.format(len(wc)))\n",
    "print(75*'-')\n",
    "print('Top {} tokens:'.format(wc_display))\n",
    "print(75*'-')\n",
    "pp.pprint(wc.most_common(wc_display))"
   ]
  },
  {
   "cell_type": "markdown",
   "metadata": {},
   "source": [
    "-----\n",
    "\n",
    "Tokenizing a text document is interesting, but traditional machine\n",
    "learning algorithms operate directly on numerical data. One approach to\n",
    "analyze a text document is to generate a numerical representation of a\n",
    "text document by counting the number of times a word occurs (as we did\n",
    "with the `Counter` collection previously. Another approach is to\n",
    "normalize the token counts by the total number of tokens, which creates\n",
    "a term (or token) frequency. We demonstrate this in the following code\n",
    "cell, where we display the _top_ terms and their frequency in the\n",
    "message.\n",
    "\n",
    "-----"
   ]
  },
  {
   "cell_type": "code",
   "execution_count": 468,
   "metadata": {
    "collapsed": false
   },
   "outputs": [
    {
     "name": "stdout",
     "output_type": "stream",
     "text": [
      "Term        : Frequency\n",
      "-------------------------\n",
      "the         : 0.046\n",
      "i           : 0.039\n",
      "and         : 0.033\n",
      "my          : 0.033\n",
      "of          : 0.029\n",
      "to          : 0.029\n",
      "it          : 0.029\n",
      "a           : 0.023\n",
      "arm         : 0.020\n",
      "was         : 0.013\n",
      "is          : 0.013\n",
      "for         : 0.010\n",
      "but         : 0.010\n",
      "set         : 0.010\n",
      "with        : 0.010\n",
      "weight      : 0.010\n",
      "in          : 0.007\n",
      "has         : 0.007\n",
      "at          : 0.007\n",
      "training    : 0.007\n",
      "t           : 0.007\n",
      "so          : 0.007\n",
      "like        : 0.007\n",
      "continued   : 0.007\n",
      "not         : 0.007\n",
      "ca          : 0.007\n",
      "cold        : 0.007\n",
      "still       : 0.007\n",
      "that        : 0.007\n",
      "sudden      : 0.007\n",
      "you         : 0.007\n",
      "chunks      : 0.007\n",
      "from        : 0.007\n",
      "squats      : 0.007\n",
      "normal      : 0.007\n",
      "just        : 0.007\n",
      "left        : 0.007\n",
      "molnar      : 0.007\n",
      "experienced : 0.007\n",
      "4th         : 0.007\n"
     ]
    }
   ],
   "source": [
    "print('{0:12s}: {1}'.format('Term', 'Frequency'))\n",
    "print(25*'-')\n",
    "\n",
    "t_wc = sum(wc.values())\n",
    "for wt in wc.most_common(wc_display):\n",
    "    print('{0:12s}: {1:4.3f}'.format(wt[0], wt[1]/t_wc))"
   ]
  },
  {
   "cell_type": "markdown",
   "metadata": {},
   "source": [
    "-----\n",
    "\n",
    "## Student Activity\n",
    "\n",
    "In the preceding cells, we used the twenty newsgroup data to perform\n",
    "some basic text analysis. Now that you have run the Notebook, go back\n",
    "and make the following changes to see how the results change.\n",
    "\n",
    "1. Remove the header, footer, and quoted material. How does this change\n",
    "the results? \n",
    "2. Change your regular expression so that tokens are sequences of two or\n",
    "more characters (i.e., no numbers). How does this change the results?\n",
    "3. Try timing the three technique (you might want a longer text\n",
    "document). Which is the fastest technique? Can you explain why?\n",
    "\n",
    "-----\n",
    "\n",
    "## Bag of Words\n",
    "\n",
    "A simple question about text data mining that you might have is _How\n",
    "does one classify documents made up of words when machine learning\n",
    "algorithms work on numerical data?_ The simple answer is we need to\n",
    "build a numerical summary of a data set that our algorithms can\n",
    "manipulate. A conceptually easy approach  to implement this idea is to\n",
    "identify all possible words in the documents of interest and to track the\n",
    "number of times each words occurs in specific documents. This produces a\n",
    "(very) sparse matrix for our sample of documents, where the columns are\n",
    "the possible words (or tokens) and the rows are different documents. \n",
    "\n",
    "This concept, where one tokenizes documents to build these sparse\n",
    "matrices is more formally known as _bag of words_, because we effectively\n",
    "create the [bag of words][bwd] out of which are documents are\n",
    "constructed. In the bag of words model, each document can be mapped into\n",
    "a vector, where the individual elements correspond to the number of\n",
    "times the words (associated with the particular column) appears in the\n",
    "document.\n",
    "\n",
    "With scikit learn, we can use the [`CountVectorizer`][skcv] to break our\n",
    "document into tokens (in this case words), which are used to construct\n",
    "our _bag of words_ for the given set of documents. Given this tokenizer,\n",
    "we first need to construct the list of tokens, which we do with the\n",
    "`fit` method. Second, we need to transform our documents into this\n",
    "sparse matrix, which we do with the `transform` method. Since both steps\n",
    "use the same input dta, there is a convenience method to perform both\n",
    "operations at the same time, called `fit_transform`.\n",
    "\n",
    "-----\n",
    "[bwd]: https://en.wikipedia.org/wiki/Bag-of-words_model\n",
    "[skcv]: http://scikit-learn.org/stable/modules/generated/sklearn.feature_extraction.text.CountVectorizer.html"
   ]
  },
  {
   "cell_type": "code",
   "execution_count": 469,
   "metadata": {
    "collapsed": false
   },
   "outputs": [],
   "source": [
    "# Define our vectorizer\n",
    "from sklearn.feature_extraction.text import CountVectorizer\n",
    "cv = CountVectorizer(analyzer='word', lowercase=True)"
   ]
  },
  {
   "cell_type": "markdown",
   "metadata": {
    "collapsed": false
   },
   "source": [
    "-----\n",
    "\n",
    "Given the `CountVectorizer` we can see the number of words in our _bag_\n",
    "as well as the number of documents on which we train, which in this case\n",
    "agrees with the values we obtained when we read in the data.\n",
    "\n",
    "-----"
   ]
  },
  {
   "cell_type": "code",
   "execution_count": 470,
   "metadata": {
    "collapsed": false
   },
   "outputs": [
    {
     "data": {
      "text/plain": [
       "CountVectorizer(analyzer='word', binary=False, decode_error='strict',\n",
       "        dtype=<class 'numpy.int64'>, encoding='utf-8', input='content',\n",
       "        lowercase=True, max_df=1.0, max_features=None, min_df=1,\n",
       "        ngram_range=(1, 1), preprocessor=None, stop_words=None,\n",
       "        strip_accents=None, token_pattern='(?u)\\\\b\\\\w\\\\w+\\\\b',\n",
       "        tokenizer=None, vocabulary=None)"
      ]
     },
     "execution_count": 470,
     "metadata": {},
     "output_type": "execute_result"
    }
   ],
   "source": [
    "# Build a vocabulary from our data\n",
    "cv.fit(text['data'])"
   ]
  },
  {
   "cell_type": "code",
   "execution_count": 471,
   "metadata": {
    "collapsed": false
   },
   "outputs": [
    {
     "name": "stdout",
     "output_type": "stream",
     "text": [
      "Number of Samples = 1\n",
      "Number of Tokens = 114751\n",
      "---------------------------------------------------------------------------\n",
      "[[0 0 0 0 0 0 0 0 0 0 0 0 0 0 0 0 0 0 0 0 0 0 0 0 0 0 0 0 0 0 0 0 0 0 0 0 0\n",
      "  0 0 0 0 0 0 0 0 0 0 0 0 0 0 0 0 0 0 0 0 0 0 0 0 0 0 0 0 0 0 0 0 0 0 0 0 0\n",
      "  0 0 0 0 0 0 0 0 0 0 0 0 0 0 0 0 0 0 0 0 0 0 0 0 0]]\n",
      "---------------------------------------------------------------------------\n",
      "Tuples from Document-Term Matrix[i, j] and c (Count)\n",
      "---------------------------------------------------------------------------\n",
      "[ (0, 1946, 1), (0, 10226, 1), (0, 12557, 2), (0, 14013, 1), (0, 22580, 1),\n",
      "  (0, 23323, 1), (0, 23968, 10), (0, 24384, 1), (0, 25098, 6), (0, 25258, 1),\n",
      "  (0, 25275, 1), (0, 25702, 2), (0, 25884, 1), (0, 26927, 1), (0, 27243, 1),\n",
      "  (0, 27267, 1), (0, 27703, 1), (0, 27886, 1), (0, 27911, 1), (0, 28765, 1),\n",
      "  (0, 28784, 1), (0, 29089, 1), (0, 29888, 1), (0, 30814, 3), (0, 31147, 1),\n",
      "  (0, 31794, 1), (0, 32002, 2), (0, 32069, 1), (0, 32305, 1), (0, 32360, 1),\n",
      "  (0, 32867, 1), (0, 33664, 1), (0, 33807, 1), (0, 34173, 2), (0, 35304, 2),\n",
      "  (0, 35409, 1), (0, 35831, 1), (0, 35915, 1), (0, 36619, 2), (0, 37154, 1),\n",
      "  (0, 37238, 1), (0, 38930, 1), (0, 39275, 2), (0, 39585, 1), (0, 39751, 1),\n",
      "  (0, 42098, 2), (0, 42217, 1), (0, 42451, 1), (0, 42751, 1), (0, 42859, 1),\n",
      "  (0, 43035, 1), (0, 43036, 1), (0, 43115, 1), (0, 43701, 1), (0, 44017, 1),\n",
      "  (0, 44131, 1), (0, 44319, 1), (0, 44984, 1), (0, 46492, 1), (0, 46494, 1),\n",
      "  (0, 46631, 2), (0, 47957, 1), (0, 48089, 1), (0, 48544, 1), (0, 48581, 1),\n",
      "  (0, 48982, 1), (0, 49232, 3), (0, 49871, 2), (0, 51194, 1), (0, 52310, 1),\n",
      "  (0, 52377, 1), (0, 52484, 1), (0, 53819, 1), (0, 54053, 1), (0, 54204, 1),\n",
      "  (0, 54352, 2), (0, 54442, 1), (0, 54722, 1), (0, 55968, 1), (0, 56039, 1),\n",
      "  (0, 56143, 1), (0, 58321, 2), (0, 59350, 1), (0, 59631, 1), (0, 60116, 4),\n",
      "  (0, 60326, 9), (0, 60401, 1), (0, 62261, 2), (0, 65744, 2), (0, 66349, 1),\n",
      "  (0, 66370, 1), (0, 66385, 1), (0, 66416, 2), (0, 66421, 1), (0, 66851, 1),\n",
      "  (0, 67108, 1), (0, 67232, 1), (0, 68806, 1), (0, 69155, 1), (0, 70030, 1),\n",
      "  (0, 70721, 1), (0, 72064, 1), (0, 73079, 2), (0, 73305, 1), (0, 73339, 1),\n",
      "  (0, 74749, 10), (0, 75026, 1), (0, 75719, 1), (0, 75872, 1), (0, 76007, 1),\n",
      "  (0, 76721, 1), (0, 76947, 2), (0, 76953, 1), (0, 77013, 2), (0, 77038, 1),\n",
      "  (0, 77386, 1), (0, 77397, 1), (0, 78264, 9), (0, 78701, 1), (0, 80420, 1),\n",
      "  (0, 82357, 1), (0, 82469, 1), (0, 82677, 2), (0, 84114, 1), (0, 86471, 1),\n",
      "  (0, 88280, 1), (0, 89161, 1), (0, 89327, 1), (0, 90665, 1), (0, 92959, 1),\n",
      "  (0, 93452, 3), (0, 93670, 1), (0, 93696, 1), (0, 94416, 1), (0, 94829, 1),\n",
      "  (0, 94846, 1), (0, 95031, 1), (0, 95492, 2), (0, 95745, 1), (0, 95780, 1),\n",
      "  (0, 95871, 1), (0, 96623, 2), (0, 97441, 2), (0, 97726, 1), (0, 98247, 2),\n",
      "  (0, 98736, 1), (0, 99165, 1), (0, 99797, 1), (0, 100795, 2), (0, 100814, 2),\n",
      "  (0, 100827, 14), (0, 100887, 1), (0, 100985, 1), (0, 101084, 1),\n",
      "  (0, 101149, 1), (0, 101213, 1), (0, 101258, 1), (0, 101501, 1),\n",
      "  (0, 101732, 9), (0, 101761, 1), (0, 101822, 1), (0, 101893, 1),\n",
      "  (0, 102281, 2), (0, 102869, 1), (0, 103120, 1), (0, 105491, 1),\n",
      "  (0, 105494, 1), (0, 105578, 1), (0, 105616, 1), (0, 105664, 1),\n",
      "  (0, 106609, 1), (0, 108450, 1), (0, 108644, 4), (0, 108662, 1),\n",
      "  (0, 108895, 1), (0, 108901, 1), (0, 109003, 3), (0, 109823, 3),\n",
      "  (0, 110198, 1), (0, 110412, 1), (0, 113262, 2), (0, 113277, 1)]\n"
     ]
    }
   ],
   "source": [
    "# We can now process documents.\n",
    "\n",
    "# We needd an iteratable to appply cv.transform()\n",
    "msg = []\n",
    "msg.append(message)\n",
    "\n",
    "# Transform one message, which is easier to comprehend.\n",
    "# By default, scikit learn uses sparse matrices for text processing\n",
    "# What is returned is a Document Term Matrix (dtm)\n",
    "dtm = cv.transform(msg)\n",
    "\n",
    "print('Number of Samples = {0}'.format(dtm.shape[0]))\n",
    "print('Number of Tokens = {0}'.format(dtm.shape[1]))\n",
    "print(75*'-')\n",
    "\n",
    "# We can convert from sparse to dense to explore the document-term matrix\n",
    "# The range was manually chosen to have several non-zero elements\n",
    "print(dtm.todense()[:,45141:45240])\n",
    "print(75*'-')\n",
    "\n",
    "# We can also print only nonzero DTM matrix elements\n",
    "\n",
    "print('Tuples from Document-Term Matrix[i, j] and c (Count)')\n",
    "print(75*'-')\n",
    "\n",
    "import scipy.sparse as sp\n",
    "\n",
    "# Find non-zero elements\n",
    "i, j, c = sp.find(dtm)\n",
    "dtm_list = list(zip(i, j, c))\n",
    "pp.pprint(dtm_list)"
   ]
  },
  {
   "cell_type": "markdown",
   "metadata": {},
   "source": [
    "-----\n",
    "\n",
    "We can grab the words in our _bag of words_ by extracting the\n",
    "_vocabulary_. This allows us to see if words are present in the\n",
    "documents. We can also find which term occurs most frequently, least\n",
    "frequently, as well as the overall top terms.\n",
    "\n",
    "-----"
   ]
  },
  {
   "cell_type": "code",
   "execution_count": 472,
   "metadata": {
    "collapsed": false
   },
   "outputs": [
    {
     "name": "stdout",
     "output_type": "stream",
     "text": [
      "Arbitrary Word (the): Column = 100827\n",
      "Max Word (the): Column = 100827\n",
      "Min Word (100): Column = 1946\n"
     ]
    }
   ],
   "source": [
    "# We can explore the terms in our vocabulary\n",
    "terms = cv.vocabulary_\n",
    "\n",
    "# Look at single term\n",
    "my_word = 'the'\n",
    "print(\"Arbitrary Word ({0}): Column = {1}\".format(my_word, terms[my_word]))\n",
    "\n",
    "from operator import itemgetter\n",
    "max_key = max(dtm_list, key=itemgetter(2))[1]\n",
    "min_key = min(dtm_list, key=itemgetter(2))[1]\n",
    "\n",
    "x_max = [key for key in terms.keys() if terms[key] == max_key]\n",
    "x_min = [key for key in terms.keys() if terms[key] == min_key]\n",
    "\n",
    "print(\"Max Word ({0}): Column = {1}\".format(x_max[0], max_key))\n",
    "print(\"Min Word ({0}): Column = {1}\".format(x_min[0], min_key))"
   ]
  },
  {
   "cell_type": "code",
   "execution_count": 473,
   "metadata": {
    "collapsed": false
   },
   "outputs": [
    {
     "name": "stdout",
     "output_type": "stream",
     "text": [
      "Count: Term in Vocabulary\n",
      "----------------------------------------\n",
      "   14: vocabulary[100827] = the\n",
      "   10: vocabulary[74749] = my\n",
      "   10: vocabulary[23968] = and\n",
      "    9: vocabulary[101732] = to\n",
      "    9: vocabulary[78264] = of\n",
      "    9: vocabulary[60326] = it\n",
      "    6: vocabulary[25098] = arm\n",
      "    4: vocabulary[108644] = was\n",
      "    4: vocabulary[60116] = is\n",
      "    3: vocabulary[30814] = but\n"
     ]
    }
   ],
   "source": [
    "# Number of terms to display\n",
    "top_display = 10\n",
    "\n",
    "# Sort our document term list, and unzip\n",
    "dtm_list.sort(key=itemgetter(2), reverse=True)\n",
    "i, j, c = zip(*dtm_list)\n",
    "\n",
    "# Grab out the keys and values for top terms\n",
    "x_keys = [(k, v) for k, v in terms.items() if terms[k] in j[:top_display]]\n",
    "x_keys.sort(key=itemgetter(1), reverse=True)\n",
    "\n",
    "# Grab the data, including counts from DTM list\n",
    "x_counts = dtm_list[:top_display]\n",
    "x_counts.sort(key=itemgetter(1), reverse=True)\n",
    "\n",
    "# Now we merge the two lists so we can sort to display terms in order\n",
    "x_merged = []\n",
    "for idx in range(len(x_keys)):\n",
    "    if x_keys[idx][1] != x_counts[idx][1]:\n",
    "        print('Error: column mismatch!')\n",
    "\n",
    "    x_merged.append((x_keys[idx][0], x_keys[idx][1], x_counts[idx][2]))\n",
    "\n",
    "x_merged.sort(key=itemgetter(2), reverse=True)\n",
    "\n",
    "# Print results\n",
    "print('Count: Term in Vocabulary')\n",
    "print(40*'-')\n",
    "for x in x_merged:\n",
    "    print(\"{2:5d}: vocabulary[{0}] = {1}\".format(x[1], x[0], x[2]))"
   ]
  },
  {
   "cell_type": "markdown",
   "metadata": {},
   "source": [
    "-----\n",
    "\n",
    "## Student Activity\n",
    "\n",
    "In the preceding cells, we used scikit learn to parse our sample text\n",
    "message by using `CountVectorizer`. If you look carefully, you will\n",
    "notice the default results are different than our standard Python text\n",
    "analysis. For example, note how we do not have the single character word\n",
    "`a` in the list of most common items. The reason is the default\n",
    "tokenizer for `CountVectorizer` removes single character words (as they\n",
    "are assumed to be uninformative). You can change this by providing a new\n",
    "regular expression to the `CountVectorizer` via the `token_pattern`\n",
    "parameter. \n",
    "\n",
    "Now that you have run the Notebook, go back and make the following\n",
    "changes to see how the results change.\n",
    "\n",
    "1. Change the `CountVectorizer` regular expression to the string\n",
    "`'(?u)\\\\b\\\\w+\\\\b'`, how do the results change?\n",
    "2. Try vectorizing a different message (i.e., transform a different\n",
    "message, or messages). How do the results change?\n",
    "3. You can have `CountVectorizer` text processing object remove accented\n",
    "words by setting the `strip_accents` parameter to `True`. Does setting\n",
    "this parameter change the results?\n",
    "\n",
    "-----\n",
    "\n",
    "## NLTK\n",
    "\n",
    "The scikit learn library is a general purpose, Python machine learning\n",
    "library that does include some basic text analysis functionality. Text\n",
    "analysis, however is an extremely large and growing topic. As a result,\n",
    "we will want to explore an additional library for natural language\n",
    "processing. This library, known as [Natural Language ToolKit][nltk], or\n",
    "NLTK, enables a wide range of text analyses either on its own, or in\n",
    "conjunction with scikit learn. The NLTK library is extensive and\n",
    "includes [documentation][nltkd] covering many of the topics we have demonstrated\n",
    "previously.\n",
    "\n",
    "In the rest of this Notebook, we will explore how to use NLTK to perform\n",
    "basic text analysis, in a similar manner as demonstrated earlier via\n",
    "standard Python and the scikit learn library. First we import the\n",
    "library, and tokenize the message. We create an NLTK frequency\n",
    "distribution by passing a list of words to the NLTK `FreqDist` method.\n",
    "\n",
    "-----\n",
    "[nltk]: http://www.nltk.org\n",
    "[nltkd]: http://www.nltk.org/book/"
   ]
  },
  {
   "cell_type": "code",
   "execution_count": 474,
   "metadata": {
    "collapsed": true
   },
   "outputs": [],
   "source": [
    "import nltk"
   ]
  },
  {
   "cell_type": "code",
   "execution_count": 475,
   "metadata": {
    "collapsed": false
   },
   "outputs": [
    {
     "name": "stdout",
     "output_type": "stream",
     "text": [
      "[ ('--', 40), ('>', 22), ('.', 17), ('the', 14), ('i', 12), ('and', 10),\n",
      "  ('my', 10), ('of', 9), ('to', 9), ('it', 9)]\n"
     ]
    }
   ],
   "source": [
    "# Tokenize a text document\n",
    "words = [word.lower() for word in nltk.word_tokenize(message)]\n",
    "\n",
    "# Count number of occurances for each token\n",
    "counts = nltk.FreqDist(words)\n",
    "pp.pprint(counts.most_common(top_display))"
   ]
  },
  {
   "cell_type": "markdown",
   "metadata": {},
   "source": [
    "-----\n",
    "\n",
    "We can clean up the list of tokens by using a regular expression with the\n",
    "`word_tokenize` method. We can reuse our previously defined regular\n",
    "expression `pattern = re.compile(r'[^\\w\\s]')` to identify tokens as one\n",
    "or more alphanumeric characters followed by a whitespace character.\n",
    "Doing this removes the punctuation tokens, as shown below.\n",
    "\n",
    "\n",
    "\n",
    "-----"
   ]
  },
  {
   "cell_type": "code",
   "execution_count": 476,
   "metadata": {
    "collapsed": false
   },
   "outputs": [
    {
     "name": "stdout",
     "output_type": "stream",
     "text": [
      "[ ('the', 14), ('i', 12), ('and', 10), ('my', 10), ('of', 9), ('to', 9),\n",
      "  ('it', 9), ('a', 7), ('arm', 6), ('was', 4)]\n"
     ]
    }
   ],
   "source": [
    "# Specify an RE to parse a text document\n",
    "words = [word.lower() for word in nltk.word_tokenize(re.sub(pattern, ' ', message))]\n",
    "\n",
    "# Count token occurances\n",
    "counts = nltk.FreqDist(words)\n",
    "pp.pprint(counts.most_common(top_display))"
   ]
  },
  {
   "cell_type": "markdown",
   "metadata": {},
   "source": [
    "-----\n",
    "\n",
    "One measure of the use of tokens in a document is [lexical\n",
    "diversity][ld], which is the fraction of unique tokens, or terms, in a\n",
    "document to the total tokens, or terms in a document. \n",
    "\n",
    "-----\n",
    "[ld]: https://en.wikipedia.org/wiki/Lexical_diversity"
   ]
  },
  {
   "cell_type": "code",
   "execution_count": 477,
   "metadata": {
    "collapsed": false
   },
   "outputs": [
    {
     "name": "stdout",
     "output_type": "stream",
     "text": [
      "Message has 186 tokens and 307 words for a lexical diversity of 1.651\n"
     ]
    }
   ],
   "source": [
    "\n",
    "num_words = len(words)\n",
    "num_tokens = len(counts)\n",
    "lexdiv  =  num_words / num_tokens\n",
    "print(\"Message has %i tokens and %i words for a lexical diversity of %0.3f\" % (num_tokens, num_words, lexdiv))"
   ]
  },
  {
   "cell_type": "markdown",
   "metadata": {},
   "source": [
    "-----\n",
    "\n",
    "We can compute the number of [unique sample values][b], [number of\n",
    "samples outcomes][n], and the [maximum occurring token][m] with simple\n",
    "NLTK statistical functions. We can also iterate through and display the\n",
    "most commonly occurring terms and their counts.\n",
    "\n",
    "-----\n",
    "[b]: http://www.nltk.org/api/nltk.html?highlight=freqdist#nltk.probability.FreqDist.B\n",
    "[n]: http://www.nltk.org/api/nltk.html?highlight=freqdist#nltk.probability.FreqDist.N\n",
    "[m]: http://www.nltk.org/api/nltk.html?highlight=freqdist#nltk.probability.FreqDist.N"
   ]
  },
  {
   "cell_type": "code",
   "execution_count": 478,
   "metadata": {
    "collapsed": false
   },
   "outputs": [
    {
     "name": "stdout",
     "output_type": "stream",
     "text": [
      "Number of unique bins(tokens) = 186\n",
      "\n",
      "Number of sample outcomes = 307\n",
      "\n",
      "Maximum occuring token = the\n",
      "\n",
      "Term        : Count\n",
      "-------------------------\n",
      "the         :  14.000\n",
      "i           :  12.000\n",
      "and         :  10.000\n",
      "my          :  10.000\n",
      "of          :  9.000\n",
      "to          :  9.000\n",
      "it          :  9.000\n",
      "a           :  7.000\n",
      "arm         :  6.000\n",
      "was         :  4.000\n"
     ]
    }
   ],
   "source": [
    "# Display number of unique tokens (or bins)\n",
    "print('Number of unique bins(tokens) = {0}\\n'.format(counts.B()))\n",
    "print('Number of sample outcomes = {0}\\n'.format(counts.N()))\n",
    "print('Maximum occuring token = {0}\\n'.format(counts.max()))\n",
    "\n",
    "print('{0:12s}: {1}'.format('Term', 'Count'))\n",
    "print(25*'-')\n",
    "\n",
    "for token, freq in counts.most_common(top_display):\n",
    "    print('{0:12s}:  {1:4.3f}'.format(token, freq))"
   ]
  },
  {
   "cell_type": "markdown",
   "metadata": {},
   "source": [
    "-----\n",
    "\n",
    "For some machine learning applications, words that occur rarely are\n",
    "important. For example, in a classification process, words that are\n",
    "uniquely assigned to a particular message should carry considerable\n",
    "weight. Taken to the extreme, words that only occur once in an entire\n",
    "set of documents, or corpus, provide unique insight into the particular\n",
    "text document in which they occur. A word that only occurs once in an\n",
    "entire corpus is known as a [_hapax_][ha]. NLTK has a `hapaxes` method\n",
    "that can be used to quickly find _hapaxes_ in a corpus.\n",
    "\n",
    "-----\n",
    "[ha]: https://en.wikipedia.org/wiki/Hapax_legomenon"
   ]
  },
  {
   "cell_type": "code",
   "execution_count": 1,
   "metadata": {
    "collapsed": false
   },
   "outputs": [
    {
     "ename": "NameError",
     "evalue": "name 'pp' is not defined",
     "output_type": "error",
     "traceback": [
      "\u001b[1;31m---------------------------------------------------------------------------\u001b[0m",
      "\u001b[1;31mNameError\u001b[0m                                 Traceback (most recent call last)",
      "\u001b[1;32m<ipython-input-1-c6656ef2b54e>\u001b[0m in \u001b[0;36m<module>\u001b[1;34m()\u001b[0m\n\u001b[0;32m      1\u001b[0m \u001b[1;31m# Hapaxes\u001b[0m\u001b[1;33m\u001b[0m\u001b[1;33m\u001b[0m\u001b[0m\n\u001b[1;32m----> 2\u001b[1;33m \u001b[0mpp\u001b[0m\u001b[1;33m.\u001b[0m\u001b[0mpprint\u001b[0m\u001b[1;33m(\u001b[0m\u001b[0mcounts\u001b[0m\u001b[1;33m.\u001b[0m\u001b[0mhapaxes\u001b[0m\u001b[1;33m(\u001b[0m\u001b[1;33m)\u001b[0m\u001b[1;33m[\u001b[0m\u001b[1;33m:\u001b[0m\u001b[1;36m10\u001b[0m\u001b[1;33m]\u001b[0m\u001b[1;33m)\u001b[0m\u001b[1;33m\u001b[0m\u001b[0m\n\u001b[0m",
      "\u001b[1;31mNameError\u001b[0m: name 'pp' is not defined"
     ]
    }
   ],
   "source": [
    "# Hapaxes\n",
    "pp.pprint(counts.hapaxes()[:10])"
   ]
  },
  {
   "cell_type": "markdown",
   "metadata": {},
   "source": [
    "-----\n",
    "\n",
    "We can also use NLTK to quickly see the most commonly used tokens.\n",
    "First, we can use the `tabulate` method to display the top tokens and\n",
    "their frequency (i.e., what we did in multiple lines of code earlier).\n",
    "Second, we can visually plot the counts of the top tokens by using the\n",
    "`plot` method. Note, we decorate the traditional plot by using seaborn,\n",
    "but the `plot` method will generate a simple visualization with one\n",
    "function call.\n",
    "\n",
    "-----"
   ]
  },
  {
   "cell_type": "code",
   "execution_count": 480,
   "metadata": {
    "collapsed": false
   },
   "outputs": [
    {
     "name": "stdout",
     "output_type": "stream",
     "text": [
      " the    i  and   my   of   to   it    a  arm  was \n",
      "  14   12   10   10    9    9    9    7    6    4 \n"
     ]
    }
   ],
   "source": [
    "counts.tabulate(top_display)"
   ]
  },
  {
   "cell_type": "code",
   "execution_count": 481,
   "metadata": {
    "collapsed": false
   },
   "outputs": [
    {
     "data": {
      "image/png": "[encoded data removed]",
      "text/plain": [
       "<matplotlib.figure.Figure at 0x7f9471e11f98>"
      ]
     },
     "metadata": {},
     "output_type": "display_data"
    }
   ],
   "source": [
    "import seaborn as sns\n",
    "import matplotlib.pyplot as plt\n",
    "\n",
    "fig, axs = plt.subplots(figsize=(10,6))\n",
    "sns.set(style=\"white\", font_scale=1.5)\n",
    "sns.despine(offset=5)#, trim=True)\n",
    "counts.plot(top_display, cumulative=False)\n",
    "axs.set_title('Term Count')\n",
    "plt.show()"
   ]
  },
  {
   "cell_type": "markdown",
   "metadata": {},
   "source": [
    "-----\n",
    "## NLTK Corpus\n",
    "\n",
    "To this point, we have analyzed the twenty newsgroup data that are\n",
    "available from within scikit learn. The NLTK library includes a number\n",
    "of [data sets][nc] that can be downloaded and used directly from within\n",
    "NLTK. One data set that we will use repeatedly in this course will be\n",
    "the NLTK [movie review corpus][mrc]. These data should be available in\n",
    "your Docker container. If not, NLTK provides the `nltk.download()`\n",
    "method to download either all or one particular corpus.\n",
    "\n",
    "In the following code cells, we access the movie review data set,\n",
    "display (part) of the data set's README (or general documentation),\n",
    "before we begin to process the words or terms in the corpus.\n",
    "\n",
    "-----\n",
    "[nc]: http://www.nltk.org/nltk_data/\n",
    "[mrc]: http://www.cs.cornell.edu/people/pabo/movie-review-data/"
   ]
  },
  {
   "cell_type": "code",
   "execution_count": 482,
   "metadata": {
    "collapsed": false
   },
   "outputs": [],
   "source": [
    "# Access the NLTK movie review data set. \n",
    "\n",
    "mvr = nltk.corpus.movie_reviews"
   ]
  },
  {
   "cell_type": "code",
   "execution_count": 487,
   "metadata": {
    "collapsed": false
   },
   "outputs": [
    {
     "name": "stdout",
     "output_type": "stream",
     "text": [
      "Sentiment Polarity Dataset Version 2.0\n",
      "Bo Pang and Lillian Lee\n",
      "\n",
      "http://www.cs.cornell.edu/people/pabo/movie-review-data/\n",
      "\n",
      "Distributed with NLTK with permission from the authors.\n",
      "\n",
      "=======\n",
      "\n",
      "Introduction\n",
      "\n",
      "This README v2.0 (June, 2004) for the v2.0 polarity dataset comes from\n",
      "the URL http://www.cs.cornell.edu/people/pabo/movie-review-data .\n",
      "\n",
      "=======\n",
      "\n",
      "What's New -- June, 2004\n",
      "\n",
      "This dataset represents an enhancement of the review corpus v1.0\n",
      "described in README v1.1: it contains more reviews, and labels were\n",
      "created with an improved rating-extraction system.\n",
      "\n",
      "=======\n",
      "\n",
      "Citation Info \n",
      "\n",
      "This data was first used in Bo Pang and Lillian Lee,\n",
      "``A Sentimental Education: Sentiment Analysis Using Subjectivity Summarization \n",
      "Based on Minimum Cuts'',  Proceedings of the ACL, 2004.\n",
      "\n",
      "@InProceedings{Pang+Lee:04a,\n",
      "  author =       {Bo Pang and Lillian Lee},\n",
      "  title =        {A Sentimental Education: Sentiment Analysis Using Subjectivity Summarization Based on Minimum Cuts},\n",
      "  booktitle =    \"Proceedings of the ACL\",\n",
      "  year =         2004\n",
      "}\n",
      "\n",
      "=======\n",
      "\n",
      "Data Format Summary \n",
      "\n",
      "- review_polarity.tar.gz: contains this readme and  data used in\n",
      "  the experiments described in Pang/Lee ACL 2004.\n",
      "\n",
      "  Specifically:\n",
      "\n",
      "  Within the folder \"txt_sentoken\" are the 2000 processed down-cased\n",
      "  text files used in Pang/Lee ACL 2004; the names of the two\n",
      "  subdirectories in that folder, \"pos\" and \"neg\", indicate the true\n",
      "  classification (sentiment) of the component files according to our\n",
      "  automatic rating classifier (see section \"Rating Decision\" below).\n",
      "\n",
      "  File names consist of a cross-validation tag plus the name of the\n",
      "  original html file.  The ten folds used in the Pang/Lee ACL 2004 paper's\n",
      "  experiments were:\n",
      "\n",
      "     fold 1: files tagged cv000 through cv099, in numerical order\n",
      "     fold 2: files tagged cv100 through cv199, in numerical order     \n",
      "     ...\n",
      "     fold 10: files tagged cv900 through cv999, in numerical order\n",
      "\n",
      "  Hence, the file neg/cv114_19501.txt, for example, was labeled as\n",
      "  negative, served as a member of fold 2, and was extracted from the\n",
      "  file 19501.html in polarity_html.zip (see below).\n",
      "\n",
      "  Each line in each text file corresponds to a single sentence, as\n",
      "  determined by Adwait Ratnaparkhi's sentence boundary detector\n",
      "  MXTERMINATOR.\n",
      " \n",
      "  Preliminary steps were taken to remove rating information from the\n",
      "  text files, but only the rating information upon which the rating\n",
      "  decision was based is guaranteed to have been removed. Thus, if the\n",
      "  original review contains several instances of rating information,\n",
      "  potentially given in different forms, those not recognized as valid\n",
      "  ratings remain part of the review text.\n",
      "\t\n",
      "- polarity_html.zip: The original source files from which the\n",
      "  processed, labeled, and (randomly) selected data in\n",
      "  review_polarity.tar.gz was derived.\n",
      "\n",
      "  Specifically:  \n",
      "\n",
      "  This data consists of unprocessed, unlabeled html files from the\n",
      "  IMDb archive of the rec.arts.movies.reviews newsgroup,\n",
      "  http://reviews.imdb.com/Reviews. The files in review_polarity.tar.gz\n",
      "  represent a processed subset of these files. \n",
      "\n",
      "=======\n",
      "\n",
      "Rating Decision (Appendix A)\n",
      "\n",
      "This section describes how we determined whether a review was positive\n",
      "or negative.\n",
      "\n",
      "The original html files do not have consistent formats -- a review may\n",
      "not have the author's rating with it, and when it does, the rating can\n",
      "appear at different places in the file in different forms.  We only\n",
      "recognize some of the more explicit ratings, which are extracted via a\n",
      "set of ad-hoc rules.  In essence, a file's classification is determined\n",
      "based on the first rating we were able to identify.\n",
      "\n",
      "\n",
      "- In order to obtain more accurate rating decisions, the maximum\n",
      "\trating must be specified explicitly, both for numerical ratings\n",
      "\tand star ratings.  (\"8/10\", \"four out of five\", and \"OUT OF\n",
      "\t****: ***\" are examples of rating indications we recognize.)\n",
      "\n",
      "- With a five-star system (or compatible number systems):\n",
      "\tthree-and-a-half stars and up are considered positive, \n",
      "\ttwo stars and below are considered negative.\n",
      "- With a four-star system (or compatible number system):\n",
      "\tthree stars and up are considered positive, \n",
      "\tone-and-a-half stars and below are considered negative.  \n",
      "- With a letter grade system:\n",
      "\tB or above is considered positive,\n",
      "\tC- or below is considered negative.\n",
      "\n",
      "We attempted to recognize half stars, but they are specified in an\n",
      "especially free way, which makes them difficult to recognize.  Hence,\n",
      "we may lose a half star very occasionally; but this only results in 2.5\n",
      "stars in five star system being categorized as negative, which is \n",
      "still reasonable.\n",
      "\n",
      "\n",
      "\n"
     ]
    }
   ],
   "source": [
    "# Print the data set README,  remove array bounds to see entire file\n",
    "print(mvr.readme())"
   ]
  },
  {
   "cell_type": "code",
   "execution_count": 488,
   "metadata": {
    "collapsed": false
   },
   "outputs": [
    {
     "name": "stdout",
     "output_type": "stream",
     "text": [
      "Movie Review has 39768 tokens and 1583820 words for a lexical diversity of 39.826\n"
     ]
    }
   ],
   "source": [
    "mvr_words = mvr.words()\n",
    "counts  = nltk.FreqDist(mvr_words)\n",
    "num_words = len(mvr_words)\n",
    "num_tokens = len(counts)\n",
    "lexdiv  =  num_words / num_tokens\n",
    "print(\"Movie Review has {0} tokens and {1} words for a lexical diversity of {2:4.3f}\".format(num_tokens, num_words, lexdiv))"
   ]
  },
  {
   "cell_type": "code",
   "execution_count": 489,
   "metadata": {
    "collapsed": false
   },
   "outputs": [
    {
     "name": "stdout",
     "output_type": "stream",
     "text": [
      "[ 'plot', ':', 'two', 'teen', 'couples', 'go', 'to', 'a', 'church', 'party',\n",
      "  ',', 'drink', 'and', 'then', 'drive', '.', 'they', 'get', 'into', 'an',\n",
      "  'accident', '.', 'one', 'of', 'the', 'guys', 'dies', ',', 'but', 'his',\n",
      "  'girlfriend', 'continues', 'to', 'see', 'him', 'in', 'her', 'life', ',',\n",
      "  'and', 'has', 'nightmares', '.', 'what', \"'\", 's', 'the', 'deal', '?',\n",
      "  'watch']\n"
     ]
    }
   ],
   "source": [
    "pp.pprint(mvr.words()[:50])"
   ]
  },
  {
   "cell_type": "markdown",
   "metadata": {},
   "source": [
    "-----\n",
    "\n",
    "The data are organized into separate files for each movie review. Since\n",
    "these reviews have an associated sentiment:? negative and positive, the\n",
    "reviews are categorized (via a directory structure) into `neg` or `pos`\n",
    "respectively. We can directly access a single review, which can be\n",
    "treated as a single text document. In the next few code cells we\n",
    "directly access the number of files, which can be used to count the\n",
    "number of reviews (assuming one review per file). We also display the\n",
    "contents of a single file, before displaying a subset of the files in one\n",
    "particular category, in this case `neg`, or negative reviews.\n",
    "\n",
    "-----"
   ]
  },
  {
   "cell_type": "code",
   "execution_count": 490,
   "metadata": {
    "collapsed": false
   },
   "outputs": [
    {
     "name": "stdout",
     "output_type": "stream",
     "text": [
      "Total Number of reviews = 2000\n"
     ]
    }
   ],
   "source": [
    "# Each article is in a separate file\n",
    "\n",
    "print('Total Number of reviews = {0}'.format(len(mvr.fileids())))"
   ]
  },
  {
   "cell_type": "code",
   "execution_count": 492,
   "metadata": {
    "collapsed": false
   },
   "outputs": [
    {
     "name": "stdout",
     "output_type": "stream",
     "text": [
      "Example File: neg/cv000_29416.txt\n"
     ]
    }
   ],
   "source": [
    "a_filename = mvr.fileids()[0]\n",
    "print('Example File: {0}'.format(a_filename))"
   ]
  },
  {
   "cell_type": "code",
   "execution_count": 493,
   "metadata": {
    "collapsed": false
   },
   "outputs": [
    {
     "name": "stdout",
     "output_type": "stream",
     "text": [
      "('plot : two teen couples go to a church party , drink and then drive . \\n'\n",
      " 'they get into an accident . \\n'\n",
      " 'one of the guys dies , but his girlfriend continues to see him in her life , '\n",
      " 'and has nightmares . \\n'\n",
      " \"what's the d\")\n"
     ]
    }
   ],
   "source": [
    "# Print part of the file\n",
    "pp.pprint(mvr.raw(a_filename)[:211])"
   ]
  },
  {
   "cell_type": "code",
   "execution_count": 494,
   "metadata": {
    "collapsed": false
   },
   "outputs": [
    {
     "name": "stdout",
     "output_type": "stream",
     "text": [
      "['neg', 'pos']\n"
     ]
    }
   ],
   "source": [
    "# Display article assigned categories\n",
    "pp.pprint(mvr.categories())"
   ]
  },
  {
   "cell_type": "code",
   "execution_count": 495,
   "metadata": {
    "collapsed": false
   },
   "outputs": [
    {
     "name": "stdout",
     "output_type": "stream",
     "text": [
      "[ 'neg/cv000_29416.txt', 'neg/cv001_19502.txt', 'neg/cv002_17424.txt',\n",
      "  'neg/cv003_12683.txt', 'neg/cv004_12641.txt', 'neg/cv005_29357.txt',\n",
      "  'neg/cv006_17022.txt', 'neg/cv007_4992.txt', 'neg/cv008_29326.txt',\n",
      "  'neg/cv009_29417.txt', 'neg/cv010_29063.txt', 'neg/cv011_13044.txt',\n",
      "  'neg/cv012_29411.txt', 'neg/cv013_10494.txt', 'neg/cv014_15600.txt',\n",
      "  'neg/cv015_29356.txt', 'neg/cv016_4348.txt', 'neg/cv017_23487.txt',\n",
      "  'neg/cv018_21672.txt', 'neg/cv019_16117.txt']\n"
     ]
    }
   ],
   "source": [
    "# Find articles that have specific category\n",
    "pp.pprint(mvr.fileids('neg')[:20])"
   ]
  },
  {
   "cell_type": "markdown",
   "metadata": {},
   "source": [
    "-----\n",
    "\n",
    "Given the contents of a file, we can process the associated text in the\n",
    "same manner as before. In this case, we tokenize one review into\n",
    "sentences as opposed to the traditional word tokens. After this, we\n",
    "create a list of words that are much longer than normal. As this simple\n",
    "example demonstrates, this can be a useful technique to search for\n",
    "potential problems, since in this case, none of the example shown are\n",
    "actual words.\n",
    "\n",
    "\n",
    "-----"
   ]
  },
  {
   "cell_type": "code",
   "execution_count": 496,
   "metadata": {
    "collapsed": false
   },
   "outputs": [
    {
     "name": "stdout",
     "output_type": "stream",
     "text": [
      "[ '9', ':', 'its', 'pathetic', 'attempt', 'at', '\"', 'improving', '\"', 'on',\n",
      "  'a', 'shakespeare', 'classic', '.']\n",
      "['8', ':', 'its', 'just', 'another', 'piece', 'of', 'teen', 'fluff', '.']\n",
      "['7', ':', 'kids', 'in', 'high', 'school', 'are', 'not', 'that', 'witty', '.']\n",
      "['6', ':', 'the', 'wittiness', 'is', 'not', 'witty', 'enough', '.']\n",
      "['5', ':', 'the', 'comedy', 'is', 'not', 'funny', '.']\n",
      "['4', ':', 'the', 'acting', 'is', 'poor', '.']\n",
      "['3', ':', 'the', 'music', '.']\n",
      "['2', ':', 'the', 'poster', '.']\n",
      "['1', ':', 'its', 'worse', 'than', 'she', \"'\", 's', 'all', 'that', '!']\n",
      "[ '10', '=', 'a', 'classic', '9', '=', 'borderline', 'classic', '8', '=',\n",
      "  'excellent', '7', '=', 'good', '6', '=', 'better', 'than', 'average', '5',\n",
      "  '=', 'average', '4', '=', 'disappointing', '3', '=', 'poor', '2', '=',\n",
      "  'awful', '1', '=', 'a', 'crap', 'classic']\n"
     ]
    }
   ],
   "source": [
    "# Display sentances from an article\n",
    "\n",
    "a_filename = 'neg/cv779_18989.txt'\n",
    "for sent in mvr.sents(a_filename):\n",
    "    pp.pprint(sent)"
   ]
  },
  {
   "cell_type": "code",
   "execution_count": 497,
   "metadata": {
    "collapsed": false
   },
   "outputs": [
    {
     "name": "stdout",
     "output_type": "stream",
     "text": [
      "[ 'uuuuuuggggggglllllllyyyyy', 's_funniest_home_videos_',\n",
      "  '_the_last_days_of_disco_', '_i_know_what_you_did_last_summer_',\n",
      "  '_fear_and_loathing_in_las_vegas_', '_breakfast_of_champions_',\n",
      "  '_breakfast_of_champions_', '_a_night_at_the_roxbury_',\n",
      "  '_a_night_at_the_roxbury_',\n",
      "  '__________________________________________________________',\n",
      "  '____________________________________________', '==========================',\n",
      "  '========================', '=======================',\n",
      "  '--------------------------------------------------------------',\n",
      "  '--------------------------------------------------------------',\n",
      "  '--------------------------------------------------------------',\n",
      "  '--------------------------------------------------------------',\n",
      "  '--------------------------------------------------------------',\n",
      "  '--------------------------------------------------------------']\n"
     ]
    }
   ],
   "source": [
    "# We can process the words with normal Python\n",
    "# For example, print out really long words\n",
    "long_words = [word for word in mvr_words if len(word) > 22]\n",
    "long_words.sort(reverse=True)\n",
    "pp.pprint(long_words)"
   ]
  },
  {
   "cell_type": "markdown",
   "metadata": {},
   "source": [
    "-----\n",
    "\n",
    "## Student Activity\n",
    "\n",
    "In the preceding cells, we used NLTK to access the movie review corpus.\n",
    "Now that you have run the Notebook, go back and make the following\n",
    "changes to see how the results change.\n",
    "\n",
    "1. Tabulate the top tokens in the entire movie review corpus.\n",
    "2. Plot the top tokens in the entire movie review corpus.\n",
    "3. Search for words longer than eighteen characters. Did you find any\n",
    "real words?\n",
    "\n",
    "\n",
    "-----"
   ]
  }
 ],
 "metadata": {
  "kernelspec": {
   "display_name": "Python 3",
   "language": "python",
   "name": "python3"
  },
  "language_info": {
   "codemirror_mode": {
    "name": "ipython",
    "version": 3
   },
   "file_extension": ".py",
   "mimetype": "text/x-python",
   "name": "python",
   "nbconvert_exporter": "python",
   "pygments_lexer": "ipython3",
   "version": "3.5.1"
  }
 },
 "nbformat": 4,
 "nbformat_minor": 0
}
