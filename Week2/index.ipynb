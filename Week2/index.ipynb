{
 "cells": [
  {
   "cell_type": "markdown",
   "metadata": {},
   "source": [
    "\n",
    "<DIV ALIGN=CENTER>\n",
    "\n",
    "# Advanced Data Science\n",
    "## University of Illinois\n",
    "### Professor: Robert J. Brunner  \n",
    "### Spring 2016\n",
    "\n",
    "</DIV>  \n",
    "-----\n",
    "-----"
   ]
  },
  {
   "cell_type": "markdown",
   "metadata": {},
   "source": [
    "## Week 2: General Linear Models\n",
    "\n",
    "### Lecture 1: [Multivariate Regression][l1]\n",
    "\n",
    "Explore multivariate regression in this Notebook.\n",
    "\n",
    "### Lecture 2: [Regularization][l2]\n",
    "\n",
    "Experiment with basic regularization in this Notebook.\n",
    "\n",
    "### Lecture 3: [Introduction to Logistic Regression][l3]\n",
    "\n",
    "Learn the basic concepts behind logistic regression in this Notebook.\n",
    "\n",
    "-----\n",
    "\n",
    "[l1]: ./notebooks/mvregress.ipynb\n",
    "[l2]: ./notebooks/regularization.ipynb\n",
    "[l3]: ./notebooks/intro2lr.ipynb"
   ]
  },
  {
   "cell_type": "code",
   "execution_count": 1,
   "metadata": {
    "collapsed": false
   },
   "outputs": [
    {
     "data": {
      "text/markdown": [
       "#Week 2 Overview#\n",
       "\n",
       "## Introduction to Regression ##\n",
       "\n",
       "In this week, you will build on previous material to develop more\n",
       "powerful techniques for computing regression models by using Python.\n",
       "First, you will learn how to develop models that include multiple\n",
       "variables by performing multiple regression. You also will learn abut\n",
       "the different metrics that quantify how well a regression model\n",
       "represents a data set. Second, you will learn about regularization and\n",
       "how it can reduce the likelihood that your model might result in\n",
       "overfitting and how it can be used to select the best attributes for\n",
       "quantifying a model. Finally, you will learn how to extend these\n",
       "regression concepts to categorical variables, such as a variable that\n",
       "encodes a _Yes/No_ result.\n",
       "\n",
       "### Objectives ###\n",
       "\n",
       "#####By the end of this lesson, you should be able to:######\n",
       "\n",
       "- Understand how to perform regression on multiple variables by using Python.\n",
       "- Understand the concept of regularization and be able to apply it to regression problems by using Python.\n",
       "- Understand logistic regression and how to compute it by using Python.\n",
       "\n",
       "### Activities and Assignments ###\n",
       "\n",
       "|Activities and Assignments | Time Estimate | Deadline* | Points|\n",
       "|:------| -----|-------|----------:|\n",
       "|**[Week 2 Introduction Video][w2v]** | 10 Minutes | Tuesday |20|\n",
       "|**[Week 2 Lesson 1: Introduction to Multiple Regression](lesson1.md)**| 3 Hours |Thursday| 20|\n",
       "|**[Week 2 Lesson 2: Introduction to Regularization](lesson2.md)**| 2 Hours | Thursday | 20 |\n",
       "|**[Week 2 Lesson 3: Introduction to Logistic Regression](lesson3.md)**| 2 Hours | Thursday| 20 |\n",
       "|**[Week 2 Quiz][w2q]**| 30 Minutes | Friday | 70|\n",
       "|**[Week 2 Assignment Submission][w2a] to Instructor and for Peer Grading**| 3 Hours | Saturday | 60% of the grade from the Instructor, 40% of the grade from Peer grading | \n",
       "|**Week 2 Completion of Peer Review**| 3 Hours | *The following* Saturday | 50 | \n",
       "\n",
       "*Please note that unless otherwise noted, the due time is 6pm Central time!*\n",
       "\n",
       "----------\n",
       "[w2q]: https://learn.illinois.edu/mod/quiz/view.php?id=1325080\n",
       "[w2v]: https://mediaspace.illinois.edu/\n",
       "[w2a]: https://learn.illinois.edu/mod/workshop/view.php?id=1095161\n"
      ],
      "text/plain": [
       "<IPython.core.display.Markdown object>"
      ]
     },
     "execution_count": 1,
     "metadata": {},
     "output_type": "execute_result"
    }
   ],
   "source": [
    "from IPython.display import Markdown\n",
    "\n",
    "Markdown(filename='Readme.md')"
   ]
  }
 ],
 "metadata": {
  "kernelspec": {
   "display_name": "Python 3",
   "language": "python",
   "name": "python3"
  },
  "language_info": {
   "codemirror_mode": {
    "name": "ipython",
    "version": 3
   },
   "file_extension": ".py",
   "mimetype": "text/x-python",
   "name": "python",
   "nbconvert_exporter": "python",
   "pygments_lexer": "ipython3",
   "version": "3.4.0"
  }
 },
 "nbformat": 4,
 "nbformat_minor": 0
}
