{
 "cells": [
  {
   "cell_type": "markdown",
   "metadata": {},
   "source": [
    "<DIV ALIGN=CENTER>\n",
    "\n",
    "# Introduction to MongoDB\n",
    "## Professor Robert J. Brunner\n",
    "  \n",
    "</DIV>  \n",
    "-----\n",
    "-----"
   ]
  },
  {
   "cell_type": "markdown",
   "metadata": {},
   "source": [
    "## Introduction\n",
    "\n",
    "In the previous course, we discussed relational databases, SQL, and\n",
    "using Python to work with relational databases. With the rapid growth\n",
    "in large data sets, however, there has been an explosion in new database\n",
    "technologies. In this IPython Notebook, we explore [MongoDB][mdb], one\n",
    "of the more popular new database technologies.  [MongoDB][mdbw] is a\n",
    "NoSQL document-oriented database, which means it is _not only SQL_ and\n",
    "stores data as documents. The data are stored using dynamic schemas that\n",
    "employ _BSON_ format, which is JSON-like format. For more information,\n",
    "the [MongoDB documentation website][mdbd] provides a wealth of useful\n",
    "information.\n",
    "\n",
    "-----\n",
    "[mdb]: https://www.mongodb.org\n",
    "[mdbw]: https://en.wikipedia.org/wiki/MongoDB\n",
    "[mdbd]: https://docs.mongodb.org/manual/"
   ]
  },
  {
   "cell_type": "markdown",
   "metadata": {
    "collapsed": false
   },
   "source": [
    "## Python with MongoDB\n",
    "\n",
    "To use Python to interact with MongoDB, we need to use a suitable Python\n",
    "library. The recommended Python library is [_pymongo_][pymdb], which\n",
    "provides support for establishing a connection between a Python program\n",
    "and a MongoDB server as well as support tools for working with MongoDB. \n",
    "\n",
    "We have already installed _pymongo_ in the course Docker container;\n",
    "however, you can easily install is by using `pip`, for example to\n",
    "install _pymongo_ for use with Python3 for the current user, we can\n",
    "execute:\n",
    "\n",
    "```console\n",
    "pip3 install pymongo --user\n",
    "```\n",
    "\n",
    "Once this library is installed, we can import the MongoDB client to\n",
    "establish a connection and retrieve data and MongoDB information.\n",
    "\n",
    "```python\n",
    "from pymongo import MongoClient\n",
    "```\n",
    "\n",
    "-----\n",
    "\n",
    "[pymdb]: http://api.mongodb.org/python/current/"
   ]
  },
  {
   "cell_type": "code",
   "execution_count": 2,
   "metadata": {
    "collapsed": false
   },
   "outputs": [
    {
     "name": "stdout",
     "output_type": "stream",
     "text": [
      "Collecting py2neo\n",
      "  Downloading py2neo-2.0.8.tar.gz (251kB)\n",
      "\u001b[K    100% |████████████████████████████████| 253kB 1.2MB/s \n",
      "\u001b[?25hBuilding wheels for collected packages: py2neo\n",
      "  Running setup.py bdist_wheel for py2neo ... \u001b[?25l-\b \b\\\b \b|\b \bdone\n",
      "\u001b[?25h  Stored in directory: /home/data_scientist/.cache/pip/wheels/00/13/7b/f73500116877c21217d48cfece1f8168550ac991d08f5d1ce4\n",
      "Successfully built py2neo\n",
      "Installing collected packages: py2neo\n",
      "Successfully installed py2neo-2.0.8\n",
      "\u001b[33mYou are using pip version 8.0.3, however version 8.1.1 is available.\n",
      "You should consider upgrading via the 'pip install --upgrade pip' command.\u001b[0m\n"
     ]
    }
   ],
   "source": [
    "!pip install py2neo --user"
   ]
  },
  {
   "cell_type": "code",
   "execution_count": 1,
   "metadata": {
    "collapsed": false
   },
   "outputs": [],
   "source": [
    "from py2neo import authenticate, Graph, Node, Relationship\n",
    "authenticate(\"65.52.38.138:7474\", \"neo4j\", \"Lcdm#info490\")\n",
    "graph = Graph(\"http://65.52.38.138:7474/db/data/\")\n"
   ]
  },
  {
   "cell_type": "code",
   "execution_count": 2,
   "metadata": {
    "collapsed": true
   },
   "outputs": [],
   "source": [
    "from py2neo import Node, Relationship\n",
    "import random"
   ]
  },
  {
   "cell_type": "code",
   "execution_count": 3,
   "metadata": {
    "collapsed": true
   },
   "outputs": [],
   "source": [
    "for x in range(0, 5):\n",
    "    node = Node(\"Doctor\", name = x, perscription_given = 0)\n",
    "    graph.create(node)"
   ]
  },
  {
   "cell_type": "code",
   "execution_count": 4,
   "metadata": {
    "collapsed": true
   },
   "outputs": [],
   "source": [
    "for x in range(0, 5):\n",
    "    node = Node(\"Pharmacy\", name = x, perscription_filled = 0)\n",
    "    graph.create(node)"
   ]
  },
  {
   "cell_type": "code",
   "execution_count": 5,
   "metadata": {
    "collapsed": true
   },
   "outputs": [],
   "source": [
    "for x in range(0, 4):\n",
    "    for y in range(0, 5):\n",
    "        node = Node(\"Patient\", name = (x*10+y), perscription_recieved = 0)\n",
    "        graph.create(node)"
   ]
  },
  {
   "cell_type": "code",
   "execution_count": 6,
   "metadata": {
    "collapsed": false
   },
   "outputs": [
    {
     "name": "stdout",
     "output_type": "stream",
     "text": [
      "0\n",
      "2\n",
      "4\n",
      "6\n",
      "8\n",
      "10\n",
      "12\n",
      "14\n",
      "16\n",
      "18\n"
     ]
    }
   ],
   "source": [
    "# create perscriptions\n",
    "for i in range(0, 20): # number of patient should be 20000, but iteration takes too long??\n",
    "    x = random.randrange(0, 5) # x the doctor the patient get perscriptions from\n",
    "    p = random.randrange(0, 5) # p the pharmacy which the perscriptions goes\n",
    "    pharmacy = graph.merge_one(\"Pharmacy\", \"name\", p)\n",
    "    doctor = graph.merge_one(\"Doctor\", \"name\", x)\n",
    "    patient = graph.merge_one(\"Patient\", \"name\", i)\n",
    "    if patient.properties[\"processed\"] != 1:\n",
    "        y = random.randrange(0, 5) # 0 for large amount of perscriptions, non-0 for small amount\n",
    "        if y:\n",
    "            z = random.randrange(1, 4)\n",
    "        else:\n",
    "            z = random.randrange(5, 10)\n",
    "        for j in range(0, z):\n",
    "            d = random.randrange(0, 20) # d is type of drugs\n",
    "            doctor_to_pharmacy = Relationship(doctor, \"SEND\", pharmacy, patient_name = i, doctor_name = x, \n",
    "                                              pharmacy_name = p, drug_type = d, perscription_num = j)\n",
    "            pharmacy_to_patient = Relationship(patient, \"RECEIVE\", pharmacy, patient_name = i, doctor_name = x, \n",
    "                                              pharmacy_name = p, drug_type = d, perscription_num = j)\n",
    "            doctor.properties[\"perscription_given\"] = doctor.properties[\"perscription_given\"] + 1\n",
    "            pharmacy.properties[\"perscription_filled\"] = pharmacy.properties[\"perscription_filled\"] + 1\n",
    "            patient.properties[\"perscription_recieved\"] = patient.properties[\"perscription_recieved\"] + 1\n",
    "            patient.properties[\"processed\"] = 1\n",
    "            graph.create(doctor_to_pharmacy)\n",
    "            graph.create(pharmacy_to_patient)\n",
    "    if i%2 == 0:\n",
    "        print(i)"
   ]
  },
  {
   "cell_type": "markdown",
   "metadata": {},
   "source": [
    "## Remote MongoDB Server\n",
    "\n",
    "To connect to a remote MongoDB server, for instance by using the course\n",
    "cluster system, we simply need the IP address for the server and the\n",
    "port number on which the MongoDB daemon is listening. For this course,\n",
    "Notebooks running on the course JupyterHub Server can access a MongoDB\n",
    "server on `10.0.3.126` and the default port number of `27017`:\n",
    "\n",
    "\n",
    "```python\n",
    "client = MongoClient(\"mongodb://10.0.3.126:27017\")\n",
    "```\n",
    "\n",
    "-----"
   ]
  },
  {
   "cell_type": "code",
   "execution_count": 2,
   "metadata": {
    "collapsed": true
   },
   "outputs": [],
   "source": [
    "# Establish a connection to MongoDB (uncomment only one of these lines)\n",
    "\n",
    "# For remote course server use\n",
    "#client = MongoClient(\"mongodb://10.0.3.126:27017\")\n",
    "\n",
    "# For local Docker server use\n",
    "client = MongoClient(\"mongodb://localhost:27017\")"
   ]
  },
  {
   "cell_type": "markdown",
   "metadata": {},
   "source": [
    "-----\n",
    "## MongoDB Database\n",
    "\n",
    "MongoDB provides storage for collections of documents. To manage a set\n",
    "of related collections, MongoDB uses the concept of a database. Thus a\n",
    "MongoDB database is similar to a standard relational database, which\n",
    "contains a collection of tables.\n",
    "\n",
    "In the next few sections, we explore the _pymongo_ library in a similar\n",
    "manner as the official [_pymongo_ tutorial][pymt]. In addition, in this\n",
    "Notebook we use dictionary style access to acquire a database,\n",
    "collection, or document. There is also an attribute style method to\n",
    "access these items, but dictionary style is preferred since it reinforces\n",
    "that concept that MongoDB is a document style database and that Python\n",
    "dictionaries are used to create document schema. In addition, the\n",
    "dictionary style enables names to be used that might not be legal Python\n",
    "names, such as `test-database`. \n",
    "\n",
    "-----\n",
    "[pymt]: http://api.mongodb.org/python/current/tutorial.html"
   ]
  },
  {
   "cell_type": "code",
   "execution_count": 3,
   "metadata": {
    "collapsed": false
   },
   "outputs": [
    {
     "name": "stdout",
     "output_type": "stream",
     "text": [
      "Existing databases: ['local', 'admin']\n"
     ]
    }
   ],
   "source": [
    "# We will delete our working directory if it exists before recreating.\n",
    "\n",
    "dbname = 'test-database'\n",
    "if  dbname in client.database_names():\n",
    "    client.drop_database(dbname)\n",
    "    \n",
    "print('Existing databases:', client.database_names())"
   ]
  },
  {
   "cell_type": "code",
   "execution_count": 4,
   "metadata": {
    "collapsed": false
   },
   "outputs": [
    {
     "name": "stdout",
     "output_type": "stream",
     "text": [
      "Existing databases: ['local', 'admin']\n"
     ]
    }
   ],
   "source": [
    "db = client['test-database']\n",
    "print('Existing databases:', client.database_names())"
   ]
  },
  {
   "cell_type": "markdown",
   "metadata": {},
   "source": [
    "----\n",
    "\n",
    "MongoDB utilizes _lazy evaluation_ when creating databases or\n",
    "collections, which simply means these objects are not created until\n",
    "they are actually needed. This is shown previously for databases, where\n",
    "we create a new `test-database` but the new database does not show up in\n",
    "the list of active MongoDB databases. This database will not even be\n",
    "created when we add a collection; instead it will be created when we\n",
    "first add data to a collection, which is demonstrated in the next few\n",
    "code cells.\n",
    "\n",
    "We now create a new collection, entitled `test-collection` into which we\n",
    "can insert new data.\n",
    "\n",
    "-----"
   ]
  },
  {
   "cell_type": "code",
   "execution_count": 5,
   "metadata": {
    "collapsed": false
   },
   "outputs": [
    {
     "name": "stdout",
     "output_type": "stream",
     "text": [
      "Existing databases: ['local', 'admin']\n",
      "Existing collections: []\n"
     ]
    }
   ],
   "source": [
    "collection = db['test_collection']\n",
    "\n",
    "print('Existing databases:', client.database_names())\n",
    "print('Existing collections:', db.collection_names())"
   ]
  },
  {
   "cell_type": "markdown",
   "metadata": {},
   "source": [
    "-----\n",
    "\n",
    "## Adding Data\n",
    "\n",
    "Given a collection, we can easily add new _documents_ to our MongoDB\n",
    "collection by employing a Python dictionary to map the document schema\n",
    "to the document data. In the following code cell, we first create a\n",
    "`student` document, followed by a `students` collection to hold\n",
    "`student` documents, and we insert the first student by using the\n",
    "`insert_one` method on the `students` collection. We retrieve this new\n",
    "students id, which we display as a validation of this process. After\n",
    "this process, we display the newly created database and collection.\n",
    "\n",
    "-----"
   ]
  },
  {
   "cell_type": "code",
   "execution_count": 6,
   "metadata": {
    "collapsed": false
   },
   "outputs": [
    {
     "name": "stdout",
     "output_type": "stream",
     "text": [
      "New Student ID:  560c4b8c755afc00c6bacdc7\n"
     ]
    }
   ],
   "source": [
    "student = {'fname': 'Jane',\n",
    "           'lname': 'Doe',\n",
    "           'company': 'bdg surf shop'}\n",
    "\n",
    "students = db['students']\n",
    "\n",
    "jane_id = students.insert_one(student).inserted_id\n",
    "print(\"New Student ID: \", jane_id)"
   ]
  },
  {
   "cell_type": "code",
   "execution_count": 7,
   "metadata": {
    "collapsed": false
   },
   "outputs": [
    {
     "name": "stdout",
     "output_type": "stream",
     "text": [
      "Existing databases: ['test-database', 'local', 'admin']\n",
      "Existing collections: ['students', 'system.indexes']\n"
     ]
    }
   ],
   "source": [
    "print('Existing databases:', client.database_names())\n",
    "print('Existing collections:', db.collection_names())"
   ]
  },
  {
   "cell_type": "markdown",
   "metadata": {},
   "source": [
    "-----\n",
    "\n",
    "Unlike relational database tables, a MongoDB collection can store\n",
    "documents that have different schema. We demonstrate this in the next\n",
    "two code cells where we create two new students that each have different\n",
    "schema from the original student. Atfer inserting these new students, we\n",
    "count the number of documents in the `students` collection.\n",
    "\n",
    "-----"
   ]
  },
  {
   "cell_type": "code",
   "execution_count": 8,
   "metadata": {
    "collapsed": false
   },
   "outputs": [
    {
     "name": "stdout",
     "output_type": "stream",
     "text": [
      "New Student ID:  560c4b8c755afc00c6bacdc8\n"
     ]
    }
   ],
   "source": [
    "student = {'fname': 'John',\n",
    "           'lname': 'Doe',\n",
    "           'company': 'bdg surf shop',\n",
    "           'lucky_numbers': [2, 5, 9, 13, 27]}\n",
    "\n",
    "john_id = students.insert_one(student).inserted_id\n",
    "print(\"New Student ID: \", john_id)"
   ]
  },
  {
   "cell_type": "code",
   "execution_count": 9,
   "metadata": {
    "collapsed": false
   },
   "outputs": [
    {
     "name": "stdout",
     "output_type": "stream",
     "text": [
      "New Student ID:  560c4b8c755afc00c6bacdc9\n"
     ]
    }
   ],
   "source": [
    "import datetime\n",
    "\n",
    "student = {'fname': 'Pat',\n",
    "           'lname': 'Doe',\n",
    "           'company': 'bdg surf shop',\n",
    "           'hire_date': datetime.datetime.utcnow()}\n",
    "\n",
    "pat_id = students.insert_one(student).inserted_id\n",
    "print(\"New Student ID: \", pat_id)"
   ]
  },
  {
   "cell_type": "code",
   "execution_count": 10,
   "metadata": {
    "collapsed": false
   },
   "outputs": [
    {
     "name": "stdout",
     "output_type": "stream",
     "text": [
      "Number of students =  3\n"
     ]
    }
   ],
   "source": [
    "print(\"Number of students = \", students.count())"
   ]
  },
  {
   "cell_type": "markdown",
   "metadata": {},
   "source": [
    "-----\n",
    "\n",
    "### Retrieving Data\n",
    "\n",
    "MongoDB provides `find_one` and `find` methods that can be used to find\n",
    "one or more documents in a collection. The first method, `find_one`,\n",
    "simply returns one document (by default the first document in the\n",
    "collection) unless an argument is supplied that specifically selects\n",
    "documents. For example, the second code cell is used to find one\n",
    "document with a specific id value. More generally, the `find` method can\n",
    "be used to iterate over all (or given a suitable argument, a limited set\n",
    "of) documents in the collection, as demonstrated in the third code cell.\n",
    "\n",
    "-----"
   ]
  },
  {
   "cell_type": "code",
   "execution_count": 11,
   "metadata": {
    "collapsed": false
   },
   "outputs": [
    {
     "data": {
      "text/plain": [
       "{'_id': ObjectId('560c4b8c755afc00c6bacdc7'),\n",
       " 'company': 'bdg surf shop',\n",
       " 'fname': 'Jane',\n",
       " 'lname': 'Doe'}"
      ]
     },
     "execution_count": 11,
     "metadata": {},
     "output_type": "execute_result"
    }
   ],
   "source": [
    "students.find_one()"
   ]
  },
  {
   "cell_type": "code",
   "execution_count": 12,
   "metadata": {
    "collapsed": false
   },
   "outputs": [
    {
     "data": {
      "text/plain": [
       "{'_id': ObjectId('560c4b8c755afc00c6bacdc9'),\n",
       " 'company': 'bdg surf shop',\n",
       " 'fname': 'Pat',\n",
       " 'hire_date': datetime.datetime(2015, 9, 30, 20, 52, 28, 616000),\n",
       " 'lname': 'Doe'}"
      ]
     },
     "execution_count": 12,
     "metadata": {},
     "output_type": "execute_result"
    }
   ],
   "source": [
    "students.find_one({\"_id\": pat_id})"
   ]
  },
  {
   "cell_type": "code",
   "execution_count": 13,
   "metadata": {
    "collapsed": false
   },
   "outputs": [
    {
     "name": "stdout",
     "output_type": "stream",
     "text": [
      "{'_id': ObjectId('560c4b8c755afc00c6bacdc7'), 'lname': 'Doe', 'company': 'bdg surf shop', 'fname': 'Jane'}\n",
      "{'_id': ObjectId('560c4b8c755afc00c6bacdc8'), 'lname': 'Doe', 'company': 'bdg surf shop', 'fname': 'John', 'lucky_numbers': [2, 5, 9, 13, 27]}\n",
      "{'_id': ObjectId('560c4b8c755afc00c6bacdc9'), 'hire_date': datetime.datetime(2015, 9, 30, 20, 52, 28, 616000), 'lname': 'Doe', 'company': 'bdg surf shop', 'fname': 'Pat'}\n"
     ]
    }
   ],
   "source": [
    "for student in students.find():\n",
    "    print(student)"
   ]
  },
  {
   "cell_type": "markdown",
   "metadata": {},
   "source": [
    "-----\n",
    "\n",
    "We can also insert multiple documents at once by collecting the new\n",
    "documents in a Python `list` and using the `insert_many` method to\n",
    "perform a bulk insert.\n",
    "\n",
    "-----"
   ]
  },
  {
   "cell_type": "code",
   "execution_count": 14,
   "metadata": {
    "collapsed": false
   },
   "outputs": [
    {
     "name": "stdout",
     "output_type": "stream",
     "text": [
      "[ObjectId('560c4b8c755afc00c6bacdca'), ObjectId('560c4b8c755afc00c6bacdcb')]\n"
     ]
    }
   ],
   "source": [
    "new_students = [\n",
    "    {'fname': 'Mike',\n",
    "     'lname': 'Simone',\n",
    "     'company': 'Del Ray Enterprises',\n",
    "    'products': [{'id': 1, 'name': 'eyeware'}, {'id': 2, 'name': 'hat'},]},\n",
    "    {'fname': 'Clair',\n",
    "     'lname': 'Hwu',\n",
    "     'company': 'Hoboken Surfware Incorporated',\n",
    "     'comment': 'Great supplier, fast, fair, and courteous.'}]\n",
    "\n",
    "result = students.insert_many(new_students)\n",
    "\n",
    "print(result.inserted_ids)"
   ]
  },
  {
   "cell_type": "code",
   "execution_count": 15,
   "metadata": {
    "collapsed": false
   },
   "outputs": [
    {
     "name": "stdout",
     "output_type": "stream",
     "text": [
      "Number of students =  5\n"
     ]
    }
   ],
   "source": [
    "print(\"Number of students = \", students.count())"
   ]
  },
  {
   "cell_type": "markdown",
   "metadata": {},
   "source": [
    "-----\n",
    "\n",
    "As previously mentioned, we can also use the `find` method to quickly\n",
    "identify specific documents in a collection, over which we can iterate\n",
    "to perform additional operations. In the following code cells, we first\n",
    "search for documents with the _last name_ attribute equal to `Hwu`,\n",
    "after which, we apply the `count` method to the set of documents\n",
    "returned by searching for _last name_ equal to `Doe`.\n",
    "\n",
    "-----"
   ]
  },
  {
   "cell_type": "code",
   "execution_count": 16,
   "metadata": {
    "collapsed": false
   },
   "outputs": [
    {
     "name": "stdout",
     "output_type": "stream",
     "text": [
      "{'_id': ObjectId('560c4b8c755afc00c6bacdcb'), 'comment': 'Great supplier, fast, fair, and courteous.', 'lname': 'Hwu', 'company': 'Hoboken Surfware Incorporated', 'fname': 'Clair'}\n"
     ]
    }
   ],
   "source": [
    "for student in students.find({\"lname\": \"Hwu\"}):\n",
    "    print(student)"
   ]
  },
  {
   "cell_type": "code",
   "execution_count": 17,
   "metadata": {
    "collapsed": false
   },
   "outputs": [
    {
     "name": "stdout",
     "output_type": "stream",
     "text": [
      "Number of students =  3\n"
     ]
    }
   ],
   "source": [
    "print(\"Number of students = \", students.find({\"lname\": \"Doe\"}).count())"
   ]
  },
  {
   "cell_type": "markdown",
   "metadata": {},
   "source": [
    "-----\n",
    "\n",
    "Given a document, we can also extract specific value by employing\n",
    "dictionary style access, which should make sense since the document is\n",
    "accessed in Python as a dictionary object. In the following example, we\n",
    "extract the first and last names for all documents. Obviously this\n",
    "requires that all documents contain these values, if not, an error is\n",
    "generated. But handling these conditions is beyond the scope of this\n",
    "Notebook.\n",
    "\n",
    "-----"
   ]
  },
  {
   "cell_type": "code",
   "execution_count": 18,
   "metadata": {
    "collapsed": false
   },
   "outputs": [
    {
     "name": "stdout",
     "output_type": "stream",
     "text": [
      "Jane Doe\n",
      "John Doe\n",
      "Pat Doe\n",
      "Mike Simone\n",
      "Clair Hwu\n"
     ]
    }
   ],
   "source": [
    "for student in students.find():\n",
    "    print(student['fname'], student['lname'])"
   ]
  },
  {
   "cell_type": "markdown",
   "metadata": {},
   "source": [
    "----\n",
    "\n",
    "## Querying\n",
    "\n",
    "MongoDB also supports a [rich query][mdbq] syntax, but it likely will\n",
    "seem odd to anyone familiar with SQL. The full set includes comparison,\n",
    "logical, element tests, evaluation methods, geospatial, array, and\n",
    "projection operations. These operators begin with a `$` character, and\n",
    "the rest of the name identifies the specific operator. For example,\n",
    "`$gte` is _greater than or equal to_. \n",
    "\n",
    "The format for the query is to encode the target field as the key of a\n",
    "dictionary, and the operator and any associated values as a second\n",
    "dictionary that maps to the field's key. For example, to test if the\n",
    "field `age` is less than 20, we write the following query \n",
    "`{age:{ $lt: 20}}`. \n",
    "This is demonstrated in the following code cell where we identify the\n",
    "documents with last name equal to `Doe`, after which we sort the\n",
    "documents by first name. When using pymongo, we enclose the attributes\n",
    "and operators in quotes to ensure they are passed correctly to the\n",
    "MongoDB server.\n",
    "\n",
    "-----\n",
    "\n",
    "[mdbq]: http://www.mongodb.org/display/DOCS/Advanced+Queries"
   ]
  },
  {
   "cell_type": "code",
   "execution_count": 19,
   "metadata": {
    "collapsed": false
   },
   "outputs": [
    {
     "name": "stdout",
     "output_type": "stream",
     "text": [
      "{'_id': ObjectId('560c4b8c755afc00c6bacdc7'), 'lname': 'Doe', 'company': 'bdg surf shop', 'fname': 'Jane'}\n",
      "{'_id': ObjectId('560c4b8c755afc00c6bacdc8'), 'lname': 'Doe', 'company': 'bdg surf shop', 'fname': 'John', 'lucky_numbers': [2, 5, 9, 13, 27]}\n",
      "{'_id': ObjectId('560c4b8c755afc00c6bacdc9'), 'hire_date': datetime.datetime(2015, 9, 30, 20, 52, 28, 616000), 'lname': 'Doe', 'company': 'bdg surf shop', 'fname': 'Pat'}\n"
     ]
    }
   ],
   "source": [
    "for student in students.find({\"lname\": {'$eq': 'Doe'}}).sort('fname'):\n",
    "    print(student)"
   ]
  },
  {
   "cell_type": "markdown",
   "metadata": {},
   "source": [
    "-----\n",
    "## Breakout Session\n",
    "\n",
    "During this breakout, you should work with the previous MongoDB examples\n",
    "in order to better learn how MongoDB works, and how it is different than\n",
    "pure relational databases. Specific additional problems you can attempt\n",
    "include the following:\n",
    "\n",
    "1. Write a compound query that searches for students with last name `Doe`\n",
    "and first name `Jane`.\n",
    "\n",
    "2. Write a compound query that searches for students with last name `Doe`\n",
    "and first name beings with the letter 'j' (you might use the MongoDB\n",
    "regular expression query operator fir this.\n",
    "\n",
    "3. Make a  student with a totally different schema and insert this new\n",
    "student into the `students` collection.\n",
    "\n",
    "Additional, more advanced problems:\n",
    "\n",
    "1. Read in Airline data (100k rows) and store in a new collection.\n",
    "\n",
    "2. Repat the previous exercise, but drop any column on insert that holds\n",
    "an `NA` value.\n",
    "\n",
    "-----"
   ]
  },
  {
   "cell_type": "markdown",
   "metadata": {
    "collapsed": true
   },
   "source": [
    "-----\n",
    "### Additional References\n",
    "\n",
    "\n",
    "2. The [MongoDB Manual][mdbm]\n",
    "4. The Python Edition, of [Getting Started with MongoDB][pymdb]\n",
    "6. Python MongoDB [Library Reference][pyml]\n",
    "-----\n",
    "\n",
    "[mdbm]: https://docs.mongodb.org/manual/\n",
    "[pymdb]: https://docs.mongodb.org/getting-started/python/\n",
    "[pyml]: http://api.mongodb.org/python/current/installation.html"
   ]
  },
  {
   "cell_type": "markdown",
   "metadata": {},
   "source": [
    "### Return to the [Week Three](index.ipynb) index.\n",
    "\n",
    "-----"
   ]
  }
 ],
 "metadata": {
  "kernelspec": {
   "display_name": "Python 3",
   "language": "python",
   "name": "python3"
  },
  "language_info": {
   "codemirror_mode": {
    "name": "ipython",
    "version": 3
   },
   "file_extension": ".py",
   "mimetype": "text/x-python",
   "name": "python",
   "nbconvert_exporter": "python",
   "pygments_lexer": "ipython3",
   "version": "3.5.1"
  }
 },
 "nbformat": 4,
 "nbformat_minor": 0
}
