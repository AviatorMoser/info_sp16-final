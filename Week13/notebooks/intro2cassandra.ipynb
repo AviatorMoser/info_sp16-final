{
 "cells": [
  {
   "cell_type": "markdown",
   "metadata": {},
   "source": [
    "<DIV ALIGN=CENTER>\n",
    "\n",
    "# Introduction to Cassandra\n",
    "## Professor Robert J. Brunner\n",
    "  \n",
    "</DIV>  \n",
    "-----\n",
    "-----"
   ]
  },
  {
   "cell_type": "markdown",
   "metadata": {},
   "source": [
    "## Introduction\n",
    "\n",
    "In the previous course, we discussed relational databases, SQL, and\n",
    "using Python to work with relational databases. With the rapid growth\n",
    "in large data sets, however, there has been an explosion in new database\n",
    "technologies. In this IPython Notebook, we explore [MongoDB][mdb], one\n",
    "of the more popular new database technologies.  [MongoDB][mdbw] is a\n",
    "NoSQL document-oriented database, which means it is _not only SQL_ and\n",
    "stores data as documents. The data are stored using dynamic schemas that\n",
    "employ _BSON_ format, which is JSON-like format. For more information,\n",
    "the [MongoDB documentation website][mdbd] provides a wealth of useful\n",
    "information.\n",
    "\n",
    "-----\n",
    "[mdb]: https://www.mongodb.org\n",
    "[mdbw]: https://en.wikipedia.org/wiki/MongoDB\n",
    "[mdbd]: https://docs.mongodb.org/manual/"
   ]
  },
  {
   "cell_type": "markdown",
   "metadata": {
    "collapsed": false
   },
   "source": [
    "## Python with MongoDB\n",
    "\n",
    "To use Python to interact with MongoDB, we need to use a suitable Python\n",
    "library. The recommended Python library is [_pymongo_][pymdb], which\n",
    "provides support for establishing a connection between a Python program\n",
    "and a MongoDB server as well as support tools for working with MongoDB. \n",
    "\n",
    "We have already installed _pymongo_ in the course Docker container;\n",
    "however, you can easily install is by using `pip`, for example to\n",
    "install _pymongo_ for use with Python3 for the current user, we can\n",
    "execute:\n",
    "\n",
    "```console\n",
    "pip3 install pymongo --user\n",
    "```\n",
    "\n",
    "Once this library is installed, we can import the MongoDB client to\n",
    "establish a connection and retrieve data and MongoDB information.\n",
    "\n",
    "```python\n",
    "from pymongo import MongoClient\n",
    "```\n",
    "\n",
    "-----\n",
    "\n",
    "[pymdb]: http://api.mongodb.org/python/current/"
   ]
  },
  {
   "cell_type": "code",
   "execution_count": 1,
   "metadata": {
    "collapsed": false
   },
   "outputs": [
    {
     "name": "stdout",
     "output_type": "stream",
     "text": [
      "Collecting cassandra-driver\n",
      "  Using cached cassandra-driver-3.1.1.tar.gz\n",
      "Requirement already satisfied (use --upgrade to upgrade): six>=1.6 in /opt/conda/lib/python3.5/site-packages (from cassandra-driver)\n",
      "Building wheels for collected packages: cassandra-driver\n",
      "  Running setup.py bdist_wheel for cassandra-driver ... \u001b[?25l-\b \b\\\b \b|\b \b/\b \b-\b \b\\\b \b|\b \b/\b \b-\b \b\\\b \b|\b \b/\b \b-\b \b\\\b \b|\b \b/\b \b-\b \b\\\b \b|\b \b/\b \b-\b \b\\\b \b|\b \b/\b \b-\b \b\\\b \b|\b \b/\b \b-\b \b\\\b \b|\b \b/\b \b-\b \b\\\b \b|\b \b/\b \b-\b \b\\\b \b|\b \b/\b \b-\b \bdone\n",
      "\u001b[?25h  Stored in directory: /home/data_scientist/.cache/pip/wheels/8c/5f/2a/b3ea09402c02a0c9282f27e11a0ae7ebca7ab69048bd0c3448\n",
      "Successfully built cassandra-driver\n",
      "Installing collected packages: cassandra-driver\n",
      "Successfully installed cassandra-driver\n",
      "\u001b[33mYou are using pip version 8.0.3, however version 8.1.1 is available.\n",
      "You should consider upgrading via the 'pip install --upgrade pip' command.\u001b[0m\n"
     ]
    }
   ],
   "source": [
    "!pip install cassandra-driver --user"
   ]
  },
  {
   "cell_type": "code",
   "execution_count": 1,
   "metadata": {
    "collapsed": false
   },
   "outputs": [
    {
     "name": "stdout",
     "output_type": "stream",
     "text": [
      "anchal\n"
     ]
    }
   ],
   "source": [
    "from cassandra.cluster import Cluster\n",
    "from cassandra.policies import WhiteListRoundRobinPolicy\n",
    "\n",
    "lbp = WhiteListRoundRobinPolicy(['40.124.12.119'])\n",
    "cluster = Cluster(contact_points=['40.124.12.119'], load_balancing_policy=lbp)\n",
    "session = cluster.connect()\n",
    "session.set_keyspace('info490')\n",
    "session.execute('USE info490')\n",
    "rows = session.execute('SELECT * FROM test')\n",
    "\n",
    "for row in rows:\n",
    "    print(row.name)"
   ]
  },
  {
   "cell_type": "markdown",
   "metadata": {},
   "source": [
    "## Local MongoDB Server\n",
    "\n",
    "To use a local MongoDB server, for instance, a MongoDB server running\n",
    "inside our course Docker container, we need to first start the server.\n",
    "To do this, open a terminal window inside the Docker container, most\n",
    "easily done using the _New_ menu on the JupyterHub Server homepage,\n",
    "followed by _Terminal_.\n",
    "\n",
    "![New Terminal](images/new-term.png)\n",
    "\n",
    "Inside this new terminal window, start up the MongoDB server by issuing\n",
    "the following command:\n",
    "\n",
    "```console mongod --nojournal ``` This will start the mongo database\n",
    "daemon with no journaling (since we are not worried about crash safety).\n",
    "This will produce a list of messages such as the following in your\n",
    "terminal window.\n",
    "\n",
    "![New MongoDB local server](images/new-mongod.png)\n",
    "\n",
    "At this point the local server is ready to start accepting connections.\n",
    "To open a connection to the localhost using pymongo, we establish a new\n",
    "MongoDB client:\n",
    "\n",
    "\n",
    "```python\n",
    "client = MongoClient()\n",
    "```\n",
    "\n",
    "which assumes a local server with default port. Alternatively, we can\n",
    "explicitly list the hostname and port, which is preferred since it is\n",
    "easier to recognize the server and port number, which can be easily\n",
    "changed when we move to a remote MongoDB server.\n",
    "\n",
    "```python\n",
    "client = MongoClient(\"mongodb://localhost:27017\")\n",
    "```\n",
    "\n",
    "which connects to the local MongoDB daemon using the default local host\n",
    "name and port.\n",
    "\n",
    "-----"
   ]
  },
  {
   "cell_type": "markdown",
   "metadata": {},
   "source": [
    "## Remote MongoDB Server\n",
    "\n",
    "To connect to a remote MongoDB server, for instance by using the course\n",
    "cluster system, we simply need the IP address for the server and the\n",
    "port number on which the MongoDB daemon is listening. For this course,\n",
    "Notebooks running on the course JupyterHub Server can access a MongoDB\n",
    "server on `10.0.3.126` and the default port number of `27017`:\n",
    "\n",
    "\n",
    "```python\n",
    "client = MongoClient(\"mongodb://10.0.3.126:27017\")\n",
    "```\n",
    "\n",
    "-----"
   ]
  },
  {
   "cell_type": "code",
   "execution_count": null,
   "metadata": {
    "collapsed": true
   },
   "outputs": [],
   "source": [
    "# Establish a connection to MongoDB (uncomment only one of these lines)\n",
    "\n",
    "# For remote course server use\n",
    "#client = MongoClient(\"mongodb://10.0.3.126:27017\")\n",
    "\n",
    "# For local Docker server use\n",
    "client = MongoClient(\"mongodb://localhost:27017\")"
   ]
  },
  {
   "cell_type": "markdown",
   "metadata": {},
   "source": [
    "-----\n",
    "## MongoDB Database\n",
    "\n",
    "MongoDB provides storage for collections of documents. To manage a set\n",
    "of related collections, MongoDB uses the concept of a database. Thus a\n",
    "MongoDB database is similar to a standard relational database, which\n",
    "contains a collection of tables.\n",
    "\n",
    "In the next few sections, we explore the _pymongo_ library in a similar\n",
    "manner as the official [_pymongo_ tutorial][pymt]. In addition, in this\n",
    "Notebook we use dictionary style access to acquire a database,\n",
    "collection, or document. There is also an attribute style method to\n",
    "access these items, but dictionary style is preferred since it reinforces\n",
    "that concept that MongoDB is a document style database and that Python\n",
    "dictionaries are used to create document schema. In addition, the\n",
    "dictionary style enables names to be used that might not be legal Python\n",
    "names, such as `test-database`. \n",
    "\n",
    "-----\n",
    "[pymt]: http://api.mongodb.org/python/current/tutorial.html"
   ]
  },
  {
   "cell_type": "code",
   "execution_count": null,
   "metadata": {
    "collapsed": false
   },
   "outputs": [],
   "source": [
    "# We will delete our working directory if it exists before recreating.\n",
    "\n",
    "dbname = 'test-database'\n",
    "if  dbname in client.database_names():\n",
    "    client.drop_database(dbname)\n",
    "    \n",
    "print('Existing databases:', client.database_names())"
   ]
  },
  {
   "cell_type": "code",
   "execution_count": null,
   "metadata": {
    "collapsed": false
   },
   "outputs": [],
   "source": [
    "db = client['test-database']\n",
    "print('Existing databases:', client.database_names())"
   ]
  },
  {
   "cell_type": "markdown",
   "metadata": {},
   "source": [
    "----\n",
    "\n",
    "MongoDB utilizes _lazy evaluation_ when creating databases or\n",
    "collections, which simply means these objects are not created until\n",
    "they are actually needed. This is shown previously for databases, where\n",
    "we create a new `test-database` but the new database does not show up in\n",
    "the list of active MongoDB databases. This database will not even be\n",
    "created when we add a collection; instead it will be created when we\n",
    "first add data to a collection, which is demonstrated in the next few\n",
    "code cells.\n",
    "\n",
    "We now create a new collection, entitled `test-collection` into which we\n",
    "can insert new data.\n",
    "\n",
    "-----"
   ]
  },
  {
   "cell_type": "code",
   "execution_count": null,
   "metadata": {
    "collapsed": false
   },
   "outputs": [],
   "source": [
    "collection = db['test_collection']\n",
    "\n",
    "print('Existing databases:', client.database_names())\n",
    "print('Existing collections:', db.collection_names())"
   ]
  },
  {
   "cell_type": "markdown",
   "metadata": {},
   "source": [
    "-----\n",
    "\n",
    "## Adding Data\n",
    "\n",
    "Given a collection, we can easily add new _documents_ to our MongoDB\n",
    "collection by employing a Python dictionary to map the document schema\n",
    "to the document data. In the following code cell, we first create a\n",
    "`student` document, followed by a `students` collection to hold\n",
    "`student` documents, and we insert the first student by using the\n",
    "`insert_one` method on the `students` collection. We retrieve this new\n",
    "students id, which we display as a validation of this process. After\n",
    "this process, we display the newly created database and collection.\n",
    "\n",
    "-----"
   ]
  },
  {
   "cell_type": "code",
   "execution_count": null,
   "metadata": {
    "collapsed": false
   },
   "outputs": [],
   "source": [
    "student = {'fname': 'Jane',\n",
    "           'lname': 'Doe',\n",
    "           'company': 'bdg surf shop'}\n",
    "\n",
    "students = db['students']\n",
    "\n",
    "jane_id = students.insert_one(student).inserted_id\n",
    "print(\"New Student ID: \", jane_id)"
   ]
  },
  {
   "cell_type": "code",
   "execution_count": null,
   "metadata": {
    "collapsed": false
   },
   "outputs": [],
   "source": [
    "print('Existing databases:', client.database_names())\n",
    "print('Existing collections:', db.collection_names())"
   ]
  },
  {
   "cell_type": "markdown",
   "metadata": {},
   "source": [
    "-----\n",
    "\n",
    "Unlike relational database tables, a MongoDB collection can store\n",
    "documents that have different schema. We demonstrate this in the next\n",
    "two code cells where we create two new students that each have different\n",
    "schema from the original student. Atfer inserting these new students, we\n",
    "count the number of documents in the `students` collection.\n",
    "\n",
    "-----"
   ]
  },
  {
   "cell_type": "code",
   "execution_count": null,
   "metadata": {
    "collapsed": false
   },
   "outputs": [],
   "source": [
    "student = {'fname': 'John',\n",
    "           'lname': 'Doe',\n",
    "           'company': 'bdg surf shop',\n",
    "           'lucky_numbers': [2, 5, 9, 13, 27]}\n",
    "\n",
    "john_id = students.insert_one(student).inserted_id\n",
    "print(\"New Student ID: \", john_id)"
   ]
  },
  {
   "cell_type": "code",
   "execution_count": null,
   "metadata": {
    "collapsed": false
   },
   "outputs": [],
   "source": [
    "import datetime\n",
    "\n",
    "student = {'fname': 'Pat',\n",
    "           'lname': 'Doe',\n",
    "           'company': 'bdg surf shop',\n",
    "           'hire_date': datetime.datetime.utcnow()}\n",
    "\n",
    "pat_id = students.insert_one(student).inserted_id\n",
    "print(\"New Student ID: \", pat_id)"
   ]
  },
  {
   "cell_type": "code",
   "execution_count": null,
   "metadata": {
    "collapsed": false
   },
   "outputs": [],
   "source": [
    "print(\"Number of students = \", students.count())"
   ]
  },
  {
   "cell_type": "markdown",
   "metadata": {},
   "source": [
    "-----\n",
    "\n",
    "### Retrieving Data\n",
    "\n",
    "MongoDB provides `find_one` and `find` methods that can be used to find\n",
    "one or more documents in a collection. The first method, `find_one`,\n",
    "simply returns one document (by default the first document in the\n",
    "collection) unless an argument is supplied that specifically selects\n",
    "documents. For example, the second code cell is used to find one\n",
    "document with a specific id value. More generally, the `find` method can\n",
    "be used to iterate over all (or given a suitable argument, a limited set\n",
    "of) documents in the collection, as demonstrated in the third code cell.\n",
    "\n",
    "-----"
   ]
  },
  {
   "cell_type": "code",
   "execution_count": null,
   "metadata": {
    "collapsed": false
   },
   "outputs": [],
   "source": [
    "students.find_one()"
   ]
  },
  {
   "cell_type": "code",
   "execution_count": null,
   "metadata": {
    "collapsed": false
   },
   "outputs": [],
   "source": [
    "students.find_one({\"_id\": pat_id})"
   ]
  },
  {
   "cell_type": "code",
   "execution_count": null,
   "metadata": {
    "collapsed": false
   },
   "outputs": [],
   "source": [
    "for student in students.find():\n",
    "    print(student)"
   ]
  },
  {
   "cell_type": "markdown",
   "metadata": {},
   "source": [
    "-----\n",
    "\n",
    "We can also insert multiple documents at once by collecting the new\n",
    "documents in a Python `list` and using the `insert_many` method to\n",
    "perform a bulk insert.\n",
    "\n",
    "-----"
   ]
  },
  {
   "cell_type": "code",
   "execution_count": null,
   "metadata": {
    "collapsed": false
   },
   "outputs": [],
   "source": [
    "new_students = [\n",
    "    {'fname': 'Mike',\n",
    "     'lname': 'Simone',\n",
    "     'company': 'Del Ray Enterprises',\n",
    "    'products': [{'id': 1, 'name': 'eyeware'}, {'id': 2, 'name': 'hat'},]},\n",
    "    {'fname': 'Clair',\n",
    "     'lname': 'Hwu',\n",
    "     'company': 'Hoboken Surfware Incorporated',\n",
    "     'comment': 'Great supplier, fast, fair, and courteous.'}]\n",
    "\n",
    "result = students.insert_many(new_students)\n",
    "\n",
    "print(result.inserted_ids)"
   ]
  },
  {
   "cell_type": "code",
   "execution_count": null,
   "metadata": {
    "collapsed": false
   },
   "outputs": [],
   "source": [
    "print(\"Number of students = \", students.count())"
   ]
  },
  {
   "cell_type": "markdown",
   "metadata": {},
   "source": [
    "-----\n",
    "\n",
    "As previously mentioned, we can also use the `find` method to quickly\n",
    "identify specific documents in a collection, over which we can iterate\n",
    "to perform additional operations. In the following code cells, we first\n",
    "search for documents with the _last name_ attribute equal to `Hwu`,\n",
    "after which, we apply the `count` method to the set of documents\n",
    "returned by searching for _last name_ equal to `Doe`.\n",
    "\n",
    "-----"
   ]
  },
  {
   "cell_type": "code",
   "execution_count": null,
   "metadata": {
    "collapsed": false
   },
   "outputs": [],
   "source": [
    "for student in students.find({\"lname\": \"Hwu\"}):\n",
    "    print(student)"
   ]
  },
  {
   "cell_type": "code",
   "execution_count": null,
   "metadata": {
    "collapsed": false
   },
   "outputs": [],
   "source": [
    "print(\"Number of students = \", students.find({\"lname\": \"Doe\"}).count())"
   ]
  },
  {
   "cell_type": "markdown",
   "metadata": {},
   "source": [
    "-----\n",
    "\n",
    "Given a document, we can also extract specific value by employing\n",
    "dictionary style access, which should make sense since the document is\n",
    "accessed in Python as a dictionary object. In the following example, we\n",
    "extract the first and last names for all documents. Obviously this\n",
    "requires that all documents contain these values, if not, an error is\n",
    "generated. But handling these conditions is beyond the scope of this\n",
    "Notebook.\n",
    "\n",
    "-----"
   ]
  },
  {
   "cell_type": "code",
   "execution_count": null,
   "metadata": {
    "collapsed": false
   },
   "outputs": [],
   "source": [
    "for student in students.find():\n",
    "    print(student['fname'], student['lname'])"
   ]
  },
  {
   "cell_type": "markdown",
   "metadata": {},
   "source": [
    "----\n",
    "\n",
    "## Querying\n",
    "\n",
    "MongoDB also supports a [rich query][mdbq] syntax, but it likely will\n",
    "seem odd to anyone familiar with SQL. The full set includes comparison,\n",
    "logical, element tests, evaluation methods, geospatial, array, and\n",
    "projection operations. These operators begin with a `$` character, and\n",
    "the rest of the name identifies the specific operator. For example,\n",
    "`$gte` is _greater than or equal to_. \n",
    "\n",
    "The format for the query is to encode the target field as the key of a\n",
    "dictionary, and the operator and any associated values as a second\n",
    "dictionary that maps to the field's key. For example, to test if the\n",
    "field `age` is less than 20, we write the following query \n",
    "`{age:{ $lt: 20}}`. \n",
    "This is demonstrated in the following code cell where we identify the\n",
    "documents with last name equal to `Doe`, after which we sort the\n",
    "documents by first name. When using pymongo, we enclose the attributes\n",
    "and operators in quotes to ensure they are passed correctly to the\n",
    "MongoDB server.\n",
    "\n",
    "-----\n",
    "\n",
    "[mdbq]: http://www.mongodb.org/display/DOCS/Advanced+Queries"
   ]
  },
  {
   "cell_type": "code",
   "execution_count": null,
   "metadata": {
    "collapsed": false
   },
   "outputs": [],
   "source": [
    "for student in students.find({\"lname\": {'$eq': 'Doe'}}).sort('fname'):\n",
    "    print(student)"
   ]
  },
  {
   "cell_type": "markdown",
   "metadata": {},
   "source": [
    "-----\n",
    "## Breakout Session\n",
    "\n",
    "During this breakout, you should work with the previous MongoDB examples\n",
    "in order to better learn how MongoDB works, and how it is different than\n",
    "pure relational databases. Specific additional problems you can attempt\n",
    "include the following:\n",
    "\n",
    "1. Write a compound query that searches for students with last name `Doe`\n",
    "and first name `Jane`.\n",
    "\n",
    "2. Write a compound query that searches for students with last name `Doe`\n",
    "and first name beings with the letter 'j' (you might use the MongoDB\n",
    "regular expression query operator fir this.\n",
    "\n",
    "3. Make a  student with a totally different schema and insert this new\n",
    "student into the `students` collection.\n",
    "\n",
    "Additional, more advanced problems:\n",
    "\n",
    "1. Read in Airline data (100k rows) and store in a new collection.\n",
    "\n",
    "2. Repat the previous exercise, but drop any column on insert that holds\n",
    "an `NA` value.\n",
    "\n",
    "-----"
   ]
  },
  {
   "cell_type": "markdown",
   "metadata": {
    "collapsed": true
   },
   "source": [
    "-----\n",
    "### Additional References\n",
    "\n",
    "\n",
    "2. The [MongoDB Manual][mdbm]\n",
    "4. The Python Edition, of [Getting Started with MongoDB][pymdb]\n",
    "6. Python MongoDB [Library Reference][pyml]\n",
    "-----\n",
    "\n",
    "[mdbm]: https://docs.mongodb.org/manual/\n",
    "[pymdb]: https://docs.mongodb.org/getting-started/python/\n",
    "[pyml]: http://api.mongodb.org/python/current/installation.html"
   ]
  },
  {
   "cell_type": "markdown",
   "metadata": {},
   "source": [
    "### Return to the [Week Three](index.ipynb) index.\n",
    "\n",
    "-----"
   ]
  }
 ],
 "metadata": {
  "kernelspec": {
   "display_name": "Python 3",
   "language": "python",
   "name": "python3"
  },
  "language_info": {
   "codemirror_mode": {
    "name": "ipython",
    "version": 3
   },
   "file_extension": ".py",
   "mimetype": "text/x-python",
   "name": "python",
   "nbconvert_exporter": "python",
   "pygments_lexer": "ipython3",
   "version": "3.5.1"
  }
 },
 "nbformat": 4,
 "nbformat_minor": 0
}
