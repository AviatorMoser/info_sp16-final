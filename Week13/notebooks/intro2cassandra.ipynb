{
 "cells": [
  {
   "cell_type": "markdown",
   "metadata": {},
   "source": [
    "<DIV ALIGN=CENTER>\n",
    "\n",
    "# Introduction to Cassandra\n",
    "## Professor Robert J. Brunner\n",
    "  \n",
    "</DIV>  \n",
    "-----\n",
    "-----"
   ]
  },
  {
   "cell_type": "markdown",
   "metadata": {},
   "source": [
    "## Introduction\n",
    "\n",
    "In the previous course, we discussed relational databases, SQL, and\n",
    "using Python to work with relational databases. With the rapid growth\n",
    "in large data sets, however, there has been an explosion in new database\n",
    "technologies. In this IPython Notebook, we explore [MongoDB][mdb], one\n",
    "of the more popular new database technologies.  [MongoDB][mdbw] is a\n",
    "NoSQL document-oriented database, which means it is _not only SQL_ and\n",
    "stores data as documents. The data are stored using dynamic schemas that\n",
    "employ _BSON_ format, which is JSON-like format. For more information,\n",
    "the [MongoDB documentation website][mdbd] provides a wealth of useful\n",
    "information.\n",
    "\n",
    "-----\n",
    "[mdb]: https://www.mongodb.org\n",
    "[mdbw]: https://en.wikipedia.org/wiki/MongoDB\n",
    "[mdbd]: https://docs.mongodb.org/manual/"
   ]
  },
  {
   "cell_type": "markdown",
   "metadata": {
    "collapsed": false
   },
   "source": [
    "## Python with MongoDB\n",
    "\n",
    "To use Python to interact with MongoDB, we need to use a suitable Python\n",
    "library. The recommended Python library is [_pymongo_][pymdb], which\n",
    "provides support for establishing a connection between a Python program\n",
    "and a MongoDB server as well as support tools for working with MongoDB. \n",
    "\n",
    "We have already installed _pymongo_ in the course Docker container;\n",
    "however, you can easily install is by using `pip`, for example to\n",
    "install _pymongo_ for use with Python3 for the current user, we can\n",
    "execute:\n",
    "\n",
    "```console\n",
    "pip3 install pymongo --user\n",
    "```\n",
    "\n",
    "Once this library is installed, we can import the MongoDB client to\n",
    "establish a connection and retrieve data and MongoDB information.\n",
    "\n",
    "```python\n",
    "from pymongo import MongoClient\n",
    "```\n",
    "\n",
    "-----\n",
    "\n",
    "[pymdb]: http://api.mongodb.org/python/current/"
   ]
  },
  {
   "cell_type": "markdown",
   "metadata": {
    "collapsed": false
   },
   "source": [
    "!pip install cassandra-driver --user"
   ]
  },
  {
   "cell_type": "code",
   "execution_count": 1,
   "metadata": {
    "collapsed": false
   },
   "outputs": [],
   "source": [
    "from cassandra.cluster import Cluster"
   ]
  },
  {
   "cell_type": "markdown",
   "metadata": {},
   "source": [
    "-----\n",
    "\n",
    "## Remote Cassandra Server\n",
    "\n",
    "To connect to a remote Cassandra server, for instance by using the course\n",
    "cluster system, we simply need the IP address for the server and the\n",
    "port number on which the Cassandra daemon is listening. For this course,\n",
    "Notebooks running on the course JupyterHub Server can access a Cassandra\n",
    "server, hosted by Micrsoft Azure, on `40.124.12.119` on the default port of `9042`:\n",
    "\n",
    "\n",
    "```python\n",
    "cluster = Cluster(['40.124.12.119'])\n",
    "```\n",
    "\n",
    "-----"
   ]
  },
  {
   "cell_type": "code",
   "execution_count": 2,
   "metadata": {
    "collapsed": false
   },
   "outputs": [
    {
     "name": "stdout",
     "output_type": "stream",
     "text": [
      "Cluster Name: lcdm\n",
      "datacenter1: Host: 10.3.0.5 in rack1\n",
      "datacenter1: Host: 40.124.12.119 in rack1\n"
     ]
    }
   ],
   "source": [
    "cassandra_ips = ['40.124.12.119']\n",
    "\n",
    "# Establish a connection to Cassandra\n",
    "\n",
    "# The Policy is necessary to allow Cassandra to run on Azure.\n",
    "from cassandra.policies import WhiteListRoundRobinPolicy\n",
    "pcy = WhiteListRoundRobinPolicy(cassandra_ips)\n",
    "\n",
    "# Create Connection\n",
    "cluster = Cluster(contact_points=cassandra_ips, load_balancing_policy=pcy)\n",
    "session = cluster.connect()\n",
    "\n",
    "print('Cluster Name: {0}'.format(cluster.metadata.cluster_name))\n",
    "for host in cluster.metadata.all_hosts():\n",
    "    print('{0}: Host: {1} in {2}'\\\n",
    "          .format(host.datacenter, host.address, host.rack))"
   ]
  },
  {
   "cell_type": "markdown",
   "metadata": {},
   "source": [
    "-----\n",
    "\n",
    "## Cassandra Keyspace\n",
    "\n",
    "-----"
   ]
  },
  {
   "cell_type": "code",
   "execution_count": 3,
   "metadata": {
    "collapsed": true
   },
   "outputs": [],
   "source": [
    "# Filename containing user's netid\n",
    "fname = '/home/data_scientist/users.txt'\n",
    "with open(fname, 'r') as fin:\n",
    "    netid = fin.readline().rstrip()\n",
    "\n",
    "# We will delete our working directory if it exists before recreating.\n",
    "ks_name = '{0}'.format(netid)"
   ]
  },
  {
   "cell_type": "markdown",
   "metadata": {},
   "source": [
    "### Creating Our Keyspace\n",
    "\n",
    "Each student will have their own keyspace. TO do this, the following code cell uses Python code to first drop the user's keyspace if it exists, and to then create the user's keyspace. This effectively deletes all data added to the keyspace from this Notebook. Alternatively, we could employ CQL (Cassandra Query Language) to perform the same steps:\n",
    "\n",
    "```python\n",
    "# CQL to drop named keyspace\n",
    "drop_ks = '''\n",
    "DROP KEYSPACE IF EXISTS {0} ;\n",
    "'''\n",
    "\n",
    "# CQL to create named keyspace (We need to escape curly braces)\n",
    "create_ks = '''\n",
    "CREATE KEYSPACE {0} \\\n",
    "    WITH REPLICATION = {{'class': 'SimpleStrategy', 'replication_factor': 1}} ;\n",
    "'''\n",
    "\n",
    "# Execute CQL for Keyspaces\n",
    "session.execute(drop_ks.format(ks_name))\n",
    "session.execute(create_ks.format(ks_name))\n",
    "\n",
    "# Display Keyspace names\n",
    "keys = [val for val in sorted(cluster.metadata.keyspaces.keys()) if 'system' not in val]\n",
    "for ks in keys:\n",
    "    print(ks)\n",
    "```"
   ]
  },
  {
   "cell_type": "code",
   "execution_count": 4,
   "metadata": {
    "collapsed": false
   },
   "outputs": [
    {
     "name": "stderr",
     "output_type": "stream",
     "text": [
      "/home/data_scientist/.local/lib/python3.5/site-packages/cassandra/cqlengine/management.py:431: UserWarning: CQLENG_ALLOW_SCHEMA_MANAGEMENT environment variable is not set. Future versions of this package will require this variable to enable management functions.\n",
      "  warnings.warn(msg)\n",
      "WARNING:cassandra.cqlengine.management:CQLENG_ALLOW_SCHEMA_MANAGEMENT environment variable is not set. Future versions of this package will require this variable to enable management functions.\n",
      "WARNING:cassandra.cqlengine.management:CQLENG_ALLOW_SCHEMA_MANAGEMENT environment variable is not set. Future versions of this package will require this variable to enable management functions.\n"
     ]
    },
    {
     "name": "stdout",
     "output_type": "stream",
     "text": [
      "bigdog\n",
      "info490\n",
      "CQL Query to recreate this keyspace:\n",
      "----------------------------------------\n",
      "CREATE KEYSPACE bigdog WITH replication = {'class': 'SimpleStrategy', 'replication_factor': '1'}  AND durable_writes = true;\n"
     ]
    }
   ],
   "source": [
    "# Boilerplate code we need to create keyspace from within Python\n",
    "# Altenaitve is to create keyspace from CQL.\n",
    "\n",
    "from cassandra.query import dict_factory\n",
    "session.row_factory = dict_factory\n",
    "\n",
    "from cassandra.cqlengine import connection, management\n",
    "connection.set_session(session)\n",
    "\n",
    "# Explicitly set session hosts, this removes annoying warnings.\n",
    "connection.session.hosts = cassandra_ips\n",
    "\n",
    "# Drop Keyspace if it exists\n",
    "if ks_name in cluster.metadata.keyspaces:\n",
    "    management.drop_keyspace(ks_name)\n",
    "\n",
    "# Create Keyspace\n",
    "management.create_keyspace_simple(ks_name, 1)\n",
    "\n",
    "# Set keyspace for this session\n",
    "# Note: If keyspace exists in Cassandra instance, this is only line we need.\n",
    "session.set_keyspace(ks_name)\n",
    "\n",
    "# Display all non-system keyspaces.\n",
    "# Do not change to a different keyspace!\n",
    "\n",
    "keys = [val for val in sorted(cluster.metadata.keyspaces.keys()) if 'system' not in val]\n",
    "for ks in keys:\n",
    "    print(ks)\n",
    "\n",
    "print('CQL Query to recreate this keyspace:')\n",
    "print(40*'-')\n",
    "print(cluster.metadata.keyspaces[ks_name].export_as_string())"
   ]
  },
  {
   "cell_type": "markdown",
   "metadata": {},
   "source": [
    "----\n",
    "\n",
    "### Schema Creation\n",
    "\n",
    "\n",
    "-----"
   ]
  },
  {
   "cell_type": "code",
   "execution_count": 5,
   "metadata": {
    "collapsed": false
   },
   "outputs": [
    {
     "name": "stdout",
     "output_type": "stream",
     "text": [
      "\n",
      "Deleting Table\n",
      "----------------------------------------\n",
      "<ResponseFuture: query='<SimpleStatement query=\"\n",
      "DROP TABLE IF EXISTS students ;\n",
      "\", consistency=Not Set>' request_id=18 result=None exception=None host=40.124.12.119>\n",
      "\n",
      "Creating Table\n",
      "----------------------------------------\n",
      "<ResponseFuture: query='<SimpleStatement query=\"\n",
      "CREATE TABLE students (\n",
      "    id int,\n",
      "    fname text,\n",
      "    lname text,\n",
      "    company text,\n",
      "    hire_date timestamp,\n",
      "    PRIMARY KEY(lname, id)\n",
      ");\n",
      "\", consistency=Not Set>' request_id=19 result=None exception=None host=40.124.12.119>\n"
     ]
    }
   ],
   "source": [
    "drop_schema = '''\n",
    "DROP TABLE IF EXISTS students ;\n",
    "'''\n",
    "\n",
    "create_schema = '''\n",
    "CREATE TABLE students (\n",
    "    id int,\n",
    "    fname text,\n",
    "    lname text,\n",
    "    company text,\n",
    "    hire_date timestamp,\n",
    "    PRIMARY KEY(lname, id)\n",
    ");\n",
    "'''\n",
    "print('\\nDeleting Table')\n",
    "print(40*'-')\n",
    "d_result = session.execute(drop_schema)\n",
    "print(d_result.response_future)\n",
    "\n",
    "print('\\nCreating Table')\n",
    "print(40*'-')\n",
    "c_result = session.execute(create_schema)\n",
    "print(c_result.response_future)"
   ]
  },
  {
   "cell_type": "markdown",
   "metadata": {},
   "source": [
    "-----\n",
    "\n",
    "## Adding Data\n",
    "\n",
    "Given a collection, we can easily add new _documents_ to our MongoDB\n",
    "collection by employing a Python dictionary to map the document schema\n",
    "to the document data. In the following code cell, we first create a\n",
    "`student` document, followed by a `students` collection to hold\n",
    "`student` documents, and we insert the first student by using the\n",
    "`insert_one` method on the `students` collection. We retrieve this new\n",
    "students id, which we display as a validation of this process. After\n",
    "this process, we display the newly created database and collection.\n",
    "\n",
    "-----"
   ]
  },
  {
   "cell_type": "code",
   "execution_count": 6,
   "metadata": {
    "collapsed": false
   },
   "outputs": [
    {
     "name": "stdout",
     "output_type": "stream",
     "text": [
      "<ResponseFuture: query='<SimpleStatement query=\"\n",
      "INSERT INTO students (id, fname, lname, company, hire_date) \n",
      "VALUES (%(id)s, %(fname)s, %(lname)s, %(company)s, %(hire_date)s) ;\n",
      "\", consistency=Not Set>' request_id=29 result=None exception=None host=40.124.12.119>\n"
     ]
    }
   ],
   "source": [
    "import uuid\n",
    "from datetime import datetime\n",
    "\n",
    "student = {'id': 1,\n",
    "           'fname': 'Jane',\n",
    "           'lname': 'Doe',\n",
    "           'company': 'bdg surf shop',\n",
    "           'hire_date': datetime.now()}\n",
    "\n",
    "insert_one = '''\n",
    "INSERT INTO students (id, fname, lname, company, hire_date) \n",
    "VALUES (%(id)s, %(fname)s, %(lname)s, %(company)s, %(hire_date)s) ;\n",
    "'''\n",
    "\n",
    "io_result = session.execute(insert_one, student) \n",
    "\n",
    "print(io_result.response_future)"
   ]
  },
  {
   "cell_type": "code",
   "execution_count": 7,
   "metadata": {
    "collapsed": false
   },
   "outputs": [],
   "source": [
    "insert_many = '''\n",
    "INSERT INTO students (id, fname, lname, company, hire_date) \n",
    "VALUES (:id, :fname, :lname, :company, :hire_date) ;\n",
    "'''\n",
    "\n",
    "im_prepared = session.prepare(insert_many)"
   ]
  },
  {
   "cell_type": "markdown",
   "metadata": {},
   "source": [
    "-----\n",
    "\n",
    "Unlike relational database tables, a MongoDB collection can store\n",
    "documents that have different schema. We demonstrate this in the next\n",
    "two code cells where we create two new students that each have different\n",
    "schema from the original student. Atfer inserting these new students, we\n",
    "count the number of documents in the `students` collection.\n",
    "\n",
    "-----"
   ]
  },
  {
   "cell_type": "code",
   "execution_count": 8,
   "metadata": {
    "collapsed": false
   },
   "outputs": [],
   "source": [
    "new_students = [\n",
    "    {'fname': 'Mike',\n",
    "     'lname': 'Simone',\n",
    "     'company': 'Del Ray Enterprises'},\n",
    "    {'fname': 'Clair',\n",
    "     'lname': 'Hwu',\n",
    "     'company': 'Hoboken Surfware Incorporated'}]\n",
    "\n",
    "# Insert multiple entires\n",
    "for idx, student in enumerate(new_students):\n",
    "    im_result = session.execute(im_prepared, ((idx + 1), \n",
    "                                              student['fname'], student['lname'],\n",
    "                                              student['company'], datetime.now()))\n",
    "    \n",
    "# Insert one using direct value substitution\n",
    "im_result = session.execute(im_prepared, (3, 'John', 'Doe', \"Bigdog's Surf Shop\",\n",
    "                                          datetime.now()))"
   ]
  },
  {
   "cell_type": "markdown",
   "metadata": {},
   "source": [
    "-----\n",
    "\n",
    "### Retrieving Data\n",
    "\n",
    "\n",
    "\n",
    "-----"
   ]
  },
  {
   "cell_type": "code",
   "execution_count": 9,
   "metadata": {
    "collapsed": false
   },
   "outputs": [
    {
     "name": "stdout",
     "output_type": "stream",
     "text": [
      "<ResponseFuture: query='<SimpleStatement query=\"SELECT COUNT(*) FROM students\", consistency=Not Set>' request_id=34 result=[{'count': 4}] exception=None host=40.124.12.119>\n",
      "----------------------------------------\n",
      "Employee count = 4\n"
     ]
    },
    {
     "name": "stderr",
     "output_type": "stream",
     "text": [
      "WARNING:cassandra.protocol:Server warning: Aggregation query used without partition key\n"
     ]
    }
   ],
   "source": [
    "qr = session.execute('SELECT COUNT(*) FROM students')\n",
    "\n",
    "print(qr.response_future)\n",
    "\n",
    "print(40*'-')\n",
    "print('Employee count = {0}'.format(qr[0]['count']))"
   ]
  },
  {
   "cell_type": "code",
   "execution_count": 10,
   "metadata": {
    "collapsed": false
   },
   "outputs": [
    {
     "name": "stdout",
     "output_type": "stream",
     "text": [
      "----------------------------------------\n",
      "Name: Jane Doe\n",
      "Company: bdg surf shop\n",
      "Hired on 2016-04-12 21:58:38.453999\n",
      "----------------------------------------\n",
      "Name: John Doe\n",
      "Company: Bigdog's Surf Shop\n",
      "Hired on 2016-04-12 21:58:38.696000\n",
      "----------------------------------------\n",
      "Name: Clair Hwu\n",
      "Company: Hoboken Surfware Incorporated\n",
      "Hired on 2016-04-12 21:58:38.641000\n",
      "----------------------------------------\n",
      "Name: Mike Simone\n",
      "Company: Del Ray Enterprises\n",
      "Hired on 2016-04-12 21:58:38.585000\n",
      "----------------------------------------\n"
     ]
    }
   ],
   "source": [
    "query = '''\n",
    "SELECT fname, lname, company, hire_date FROM  students ;\n",
    "'''\n",
    "\n",
    "query_result = session.execute(query)\n",
    "\n",
    "# Display query results\n",
    "print(40*'-')\n",
    "for row in query_result:\n",
    "    print('Name: {0} {1}'.format(row['fname'], row['lname']))\n",
    "    print('Company: {0}'.format(row['company']))\n",
    "    print('Hired on {0}'.format(row['hire_date']))\n",
    "    print(40*'-')"
   ]
  },
  {
   "cell_type": "code",
   "execution_count": 11,
   "metadata": {
    "collapsed": false
   },
   "outputs": [
    {
     "name": "stdout",
     "output_type": "stream",
     "text": [
      "----------------------------------------\n",
      "Name: Jane Doe\n",
      "Company: bdg surf shop\n",
      "Hired on 2016-04-12 21:58:38.453999\n",
      "----------------------------------------\n",
      "Name: John Doe\n",
      "Company: Bigdog's Surf Shop\n",
      "Hired on 2016-04-12 21:58:38.696000\n",
      "----------------------------------------\n"
     ]
    }
   ],
   "source": [
    "# We can easily query on Primary Keys\n",
    "query = '''\n",
    "SELECT fname, lname, company, hire_date \n",
    "FROM  students \n",
    "WHERE lname = %(ln)s ;\n",
    "'''\n",
    "\n",
    "query_result = session.execute(query, {'ln': 'Doe'})\n",
    "\n",
    "# Display query results\n",
    "print(40*'-')\n",
    "for row in query_result:\n",
    "    print('Name: {0} {1}'.format(row['fname'], row['lname']))\n",
    "    print('Company: {0}'.format(row['company']))\n",
    "    print('Hired on {0}'.format(row['hire_date']))\n",
    "    print(40*'-')"
   ]
  },
  {
   "cell_type": "markdown",
   "metadata": {},
   "source": [
    "-----\n",
    "\n",
    "### Modifing Data\n",
    "\n",
    "\n",
    "-----"
   ]
  },
  {
   "cell_type": "code",
   "execution_count": 12,
   "metadata": {
    "collapsed": false
   },
   "outputs": [
    {
     "name": "stdout",
     "output_type": "stream",
     "text": [
      "----------------------------------------\n",
      "Employee count = 8\n"
     ]
    },
    {
     "name": "stderr",
     "output_type": "stream",
     "text": [
      "WARNING:cassandra.protocol:Server warning: Aggregation query used without partition key\n"
     ]
    }
   ],
   "source": [
    "temp_students = [{'id': 11, 'fname': 'Petr', 'lname': 'Dow', 'company': 'bdg surf shop'},\n",
    "                 {'id': 12, 'fname': 'Paul', 'lname': 'Dow', 'company': 'bdg surf shop'},\n",
    "                 {'id': 13, 'fname': 'Mary', 'lname': 'Dow', 'company': 'bdg surf shop'},\n",
    "                 {'id': 14, 'fname': 'Arthur', 'lname': 'Dow', 'company': 'bdg surf shop'}]\n",
    "\n",
    "# Insert multiple entires\n",
    "for student in temp_students:\n",
    "    im_result = session.execute(im_prepared, (student['id'], \n",
    "                                              student['fname'], student['lname'],\n",
    "                                              student['company'], datetime.now()))\n",
    "\n",
    "# Count how many students\n",
    "qr = session.execute('SELECT COUNT(*) FROM students')\n",
    "\n",
    "print(40*'-')\n",
    "print('Employee count = {0}'.format(qr[0]['count']))"
   ]
  },
  {
   "cell_type": "code",
   "execution_count": 13,
   "metadata": {
    "collapsed": false
   },
   "outputs": [
    {
     "name": "stdout",
     "output_type": "stream",
     "text": [
      "Name: Peter Dow\n",
      "Company: bdg surf shop\n",
      "Hired on 2016-04-12 21:58:39.019999\n"
     ]
    }
   ],
   "source": [
    "ud_stmt = '''\n",
    "UPDATE students\n",
    "  SET fname = 'Peter'\n",
    "  WHERE lname = 'Dow' AND id = 11 ;\n",
    "'''\n",
    "\n",
    "ur = session.execute(ud_stmt)\n",
    "\n",
    "# Display Updated Row\n",
    "query_result = session.execute(query, {'ln': 'Dow'})\n",
    "\n",
    "# Display query results\n",
    "for row in query_result:\n",
    "    if row['fname'] == 'Peter':\n",
    "        print('Name: {0} {1}'.format(row['fname'], row['lname']))\n",
    "        print('Company: {0}'.format(row['company']))\n",
    "        print('Hired on {0}'.format(row['hire_date']))    "
   ]
  },
  {
   "cell_type": "markdown",
   "metadata": {},
   "source": [
    "-----\n",
    "\n",
    "\n",
    "\n",
    "-----"
   ]
  },
  {
   "cell_type": "code",
   "execution_count": 14,
   "metadata": {
    "collapsed": false
   },
   "outputs": [
    {
     "name": "stdout",
     "output_type": "stream",
     "text": [
      "Name: Peter Dow\n",
      "Company: Bigdogs Surf Shop\n",
      "Hired on 2016-04-12 21:58:39.019999\n",
      "----------------------------------------\n",
      "Name: Paul Dow\n",
      "Company: Bigdogs Surf Shop\n",
      "Hired on 2016-04-12 21:58:39.075999\n",
      "----------------------------------------\n",
      "Name: Mary Dow\n",
      "Company: Bigdogs Surf Shop\n",
      "Hired on 2016-04-12 21:58:39.135999\n",
      "----------------------------------------\n",
      "Name: Arthur Dow\n",
      "Company: Bigdogs Surf Shop\n",
      "Hired on 2016-04-12 21:58:39.191999\n",
      "----------------------------------------\n"
     ]
    }
   ],
   "source": [
    "ud_stmt = '''\n",
    "UPDATE students\n",
    "  SET company = 'Bigdogs Surf Shop'\n",
    "  WHERE lname = 'Dow' AND id IN (11, 12, 13, 14) ;\n",
    "'''\n",
    "\n",
    "ur = session.execute(ud_stmt)\n",
    "\n",
    "# Display Updated Rows\n",
    "query_result = session.execute(query, {'ln': 'Dow'})\n",
    "\n",
    "# Display query results\n",
    "for row in query_result:\n",
    "    print('Name: {0} {1}'.format(row['fname'], row['lname']))\n",
    "    print('Company: {0}'.format(row['company']))\n",
    "    print('Hired on {0}'.format(row['hire_date']))    \n",
    "    print(40*'-')"
   ]
  },
  {
   "cell_type": "markdown",
   "metadata": {},
   "source": [
    "-----\n",
    "\n",
    "### Deleting Data\n",
    "\n",
    "\n",
    "-----"
   ]
  },
  {
   "cell_type": "code",
   "execution_count": 15,
   "metadata": {
    "collapsed": false
   },
   "outputs": [
    {
     "name": "stdout",
     "output_type": "stream",
     "text": [
      "Name: Paul Dow\n",
      "Company: Bigdogs Surf Shop\n",
      "Hired on 2016-04-12 21:58:39.075999\n",
      "----------------------------------------\n",
      "Name: Mary Dow\n",
      "Company: Bigdogs Surf Shop\n",
      "Hired on 2016-04-12 21:58:39.135999\n",
      "----------------------------------------\n",
      "Name: Arthur Dow\n",
      "Company: Bigdogs Surf Shop\n",
      "Hired on 2016-04-12 21:58:39.191999\n",
      "----------------------------------------\n"
     ]
    }
   ],
   "source": [
    "del_stmt = '''\n",
    "DELETE FROM students\n",
    "WHERE lname = 'Dow' AND id = 11 ;\n",
    "'''\n",
    "\n",
    "dr = session.execute(del_stmt)\n",
    "                     \n",
    "# Display Updated Rows\n",
    "query_result = session.execute(query, {'ln': 'Dow'})\n",
    "\n",
    "# Display query results\n",
    "for row in query_result:\n",
    "    print('Name: {0} {1}'.format(row['fname'], row['lname']))\n",
    "    print('Company: {0}'.format(row['company']))\n",
    "    print('Hired on {0}'.format(row['hire_date']))    \n",
    "    print(40*'-')\n"
   ]
  },
  {
   "cell_type": "code",
   "execution_count": 16,
   "metadata": {
    "collapsed": false
   },
   "outputs": [
    {
     "name": "stdout",
     "output_type": "stream",
     "text": [
      "----------------------------------------\n",
      "Pre-Delete\n",
      "Employee (Dow) count = 3\n",
      "----------------------------------------\n",
      "Post-Delete\n",
      "Employee (Dow) count = 0\n"
     ]
    }
   ],
   "source": [
    "# Count how many students\n",
    "qr = session.execute(\"SELECT COUNT(*) FROM students WHERE lname = 'Dow'\")\n",
    "\n",
    "print(40*'-')\n",
    "print('Pre-Delete')\n",
    "print('Employee (Dow) count = {0}'.format(qr[0]['count']))                \n",
    "\n",
    "del_stmt = '''\n",
    "DELETE FROM students\n",
    "WHERE lname = 'Dow' AND id = %(id)s ;\n",
    "'''\n",
    "\n",
    "for id in [12, 13, 14]:\n",
    "    dr = session.execute(del_stmt, {'id': id})\n",
    "                     \n",
    "# Count how many students\n",
    "qr = session.execute(\"SELECT COUNT(*) FROM students WHERE lname = 'Dow'\")\n",
    "\n",
    "print(40*'-')\n",
    "print('Post-Delete')\n",
    "print('Employee (Dow) count = {0}'.format(qr[0]['count']))                "
   ]
  },
  {
   "cell_type": "code",
   "execution_count": 17,
   "metadata": {
    "collapsed": false
   },
   "outputs": [
    {
     "name": "stdout",
     "output_type": "stream",
     "text": [
      "CQL Query to recreate this keyspace:\n",
      "----------------------------------------\n",
      "CREATE KEYSPACE bigdog WITH replication = {'class': 'SimpleStrategy', 'replication_factor': '1'}  AND durable_writes = true;\n",
      "\n",
      "CREATE TABLE bigdog.students (\n",
      "    lname text,\n",
      "    id int,\n",
      "    company text,\n",
      "    fname text,\n",
      "    hire_date timestamp,\n",
      "    PRIMARY KEY (lname, id)\n",
      ") WITH CLUSTERING ORDER BY (id ASC)\n",
      "    AND bloom_filter_fp_chance = 0.01\n",
      "    AND caching = {'keys': 'ALL', 'rows_per_partition': 'NONE'}\n",
      "    AND comment = ''\n",
      "    AND compaction = {'class': 'org.apache.cassandra.db.compaction.SizeTieredCompactionStrategy', 'max_threshold': '32', 'min_threshold': '4'}\n",
      "    AND compression = {'chunk_length_in_kb': '64', 'class': 'org.apache.cassandra.io.compress.LZ4Compressor'}\n",
      "    AND crc_check_chance = 1.0\n",
      "    AND dclocal_read_repair_chance = 0.1\n",
      "    AND default_time_to_live = 0\n",
      "    AND gc_grace_seconds = 864000\n",
      "    AND max_index_interval = 2048\n",
      "    AND memtable_flush_period_in_ms = 0\n",
      "    AND min_index_interval = 128\n",
      "    AND read_repair_chance = 0.0\n",
      "    AND speculative_retry = '99PERCENTILE';\n"
     ]
    }
   ],
   "source": [
    "print('CQL Query to recreate this keyspace:')\n",
    "print(40*'-')\n",
    "print(cluster.metadata.keyspaces[ks_name].export_as_string())"
   ]
  },
  {
   "cell_type": "markdown",
   "metadata": {},
   "source": [
    "-----\n",
    "### Student Activity\n",
    "\n",
    "In the preceding cells, we introduced Hadoop map/reduce by using a simple word count task. Now that you have run the Notebook, go back and make the following changes to see how the results change.\n",
    "\n",
    "1. We ignored punctuation, modify the original mapper Python code to token on white space or punctuation. How does this change the Python map-reduce output?\n",
    "2. Try downloading a different text from Project Gutenberg. Can you make your map-reduce application run across multiple texts?\n",
    "3. Can you make your map-reduce code compute bi-grams instead of unigrams?\n",
    "\n",
    "-----"
   ]
  }
 ],
 "metadata": {
  "kernelspec": {
   "display_name": "Python 3",
   "language": "python",
   "name": "python3"
  },
  "language_info": {
   "codemirror_mode": {
    "name": "ipython",
    "version": 3
   },
   "file_extension": ".py",
   "mimetype": "text/x-python",
   "name": "python",
   "nbconvert_exporter": "python",
   "pygments_lexer": "ipython3",
   "version": "3.5.1"
  }
 },
 "nbformat": 4,
 "nbformat_minor": 0
}
