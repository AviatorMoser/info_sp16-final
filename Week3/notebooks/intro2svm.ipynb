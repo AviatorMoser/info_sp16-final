{
 "cells": [
  {
   "cell_type": "markdown",
   "metadata": {},
   "source": [
    "<DIV ALIGN=CENTER>\n",
    "\n",
    "# Support Vector Machine\n",
    "## Professor Robert J. Brunner\n",
    "  \n",
    "</DIV>  \n",
    "-----\n",
    "-----"
   ]
  },
  {
   "cell_type": "markdown",
   "metadata": {},
   "source": [
    "\n",
    "## Introduction\n",
    "\n",
    "In this IPython Notebook, we explore how to effectively use support vector machine for both classification and regression problems. First, we repeat the SVM analysis done in the Introduction to Machine Learning Notebook from Week 1, which first introduced SVM.\n",
    "\n",
    "-----"
   ]
  },
  {
   "cell_type": "code",
   "execution_count": 1,
   "metadata": {
    "collapsed": false
   },
   "outputs": [],
   "source": [
    "# Set up Notebook\n",
    "\n",
    "% matplotlib inline\n",
    "\n",
    "# We do this to ignore several specific Pandas warnings\n",
    "import warnings\n",
    "warnings.filterwarnings(\"ignore\")\n",
    "\n",
    "import seaborn as sns\n",
    "import matplotlib.pyplot as plt\n",
    "import numpy as np\n",
    "import pandas as pd\n",
    "\n",
    "sns.set(style=\"white\")\n",
    "\n",
    "# Convenience function to plot confusion matrix\n",
    "\n",
    "# This method produces a colored heatmap that displays the relationship\n",
    "# between predicted and actual types from a machine leanring method.\n",
    "\n",
    "def confusion(test, predict, title):\n",
    "    # Define names for the three Iris types\n",
    "    names = ['setosa', 'versicolor', 'virginica']\n",
    "\n",
    "    # Make a 2D histogram from the test and result arrays\n",
    "    pts, xe, ye = np.histogram2d(test, predict, bins=3)\n",
    "\n",
    "    # For simplicity we create a new DataFrame\n",
    "    pd_pts = pd.DataFrame(pts.astype(int), index=names, columns=names )\n",
    "    \n",
    "    # Display heatmap and add decorations\n",
    "    hm = sns.heatmap(pd_pts, annot=True, fmt=\"d\")\n",
    "    hm.axes.set_title(title)\n",
    "    \n",
    "    return None"
   ]
  },
  {
   "cell_type": "markdown",
   "metadata": {},
   "source": [
    "-----\n",
    "\n",
    "Get Data and start\n",
    "\n",
    "-----"
   ]
  },
  {
   "cell_type": "code",
   "execution_count": 2,
   "metadata": {
    "collapsed": true
   },
   "outputs": [],
   "source": [
    "# Load the Iris Data\n",
    "iris = sns.load_dataset(\"iris\")\n",
    "\n",
    "# Now lets get the data and labels\n",
    "\n",
    "data = iris[['sepal_length', 'sepal_width', 'petal_length', 'petal_width']].values\n",
    "labels = np.array([i//50 for i in range(iris.shape[0])])\n",
    "\n",
    "# We want to split our data into training and testing\n",
    "\n",
    "from sklearn import cross_validation\n",
    "\n",
    "# This is the amount to hold out for 'blind' testing\n",
    "frac = 0.4\n",
    "\n",
    "d_train, d_test, l_train, l_test \\\n",
    "    = cross_validation.train_test_split(data, labels, test_size=frac, random_state=0)"
   ]
  },
  {
   "cell_type": "markdown",
   "metadata": {},
   "source": [
    "-----\n",
    "\n",
    "## [Support Vector Machine][svm] (SVM)\n",
    "\n",
    "The next algorithm we will demonstrate is a powerful, but simple\n",
    "approach to algorithmically divide data into distinct classes.  Support\n",
    "Vector Machine, or Support Vector Classification (SVC) in this case,\n",
    "determine optimal hyperplanes that optimally divide the training data.\n",
    "Generally we use linear hyperplanes, which results in linear SVC. This\n",
    "is demonstrated in the following figure from Wikipedia, where H3 does\n",
    "not divide the data into the correct two classes, H1 does divide the two\n",
    "but not optimally, while H2 optimally divides the data into the two\n",
    "classes.\n",
    "\n",
    "![SVM Image from Wikipedia][svmi]\n",
    "\n",
    "We perform linear SVC in scikit-learn by specifying a `linear` kernel\n",
    "parameter when creating the classifier. Once we fit the model to the\n",
    "data, we can once again use the trained model to make predictions, which\n",
    "we can test by using the evaluation score and confusion matrix.\n",
    "\n",
    "-----\n",
    "\n",
    "[svm]: https://en.wikipedia.org/wiki/Support_vector_machine\n",
    "[svmi]: https://upload.wikimedia.org/wikipedia/commons/thumb/2/20/Svm_separating_hyperplanes.png/503px-Svm_separating_hyperplanes.png"
   ]
  },
  {
   "cell_type": "code",
   "execution_count": 3,
   "metadata": {
    "collapsed": false
   },
   "outputs": [
    {
     "name": "stdout",
     "output_type": "stream",
     "text": [
      "SVM prediction accuracy =  96.7%\n"
     ]
    }
   ],
   "source": [
    "# Next lets try Linear SVM\n",
    "from sklearn import svm\n",
    "\n",
    "# Lets build our model and train it all at once\n",
    "clf = svm.SVC(kernel='linear', C=1).fit(d_train, l_train)\n",
    "\n",
    "# Now grab the predictions\n",
    "result = clf.predict(d_test)\n",
    "\n",
    "print(\"SVM prediction accuracy = {0:5.1f}%\".format(100.0 * clf.score(d_test, l_test)))"
   ]
  },
  {
   "cell_type": "code",
   "execution_count": 4,
   "metadata": {
    "collapsed": false
   },
   "outputs": [
    {
     "data": {
      "image/png": "[encoded data removed]",
      "text/plain": [
       "<matplotlib.figure.Figure at 0x7f95f10b2b38>"
      ]
     },
     "metadata": {},
     "output_type": "display_data"
    }
   ],
   "source": [
    "confusion(l_test, result, 'SVC Linear Model')"
   ]
  },
  {
   "cell_type": "code",
   "execution_count": null,
   "metadata": {
    "collapsed": true
   },
   "outputs": [],
   "source": []
  }
 ],
 "metadata": {
  "kernelspec": {
   "display_name": "Python 3",
   "language": "python",
   "name": "python3"
  },
  "language_info": {
   "codemirror_mode": {
    "name": "ipython",
    "version": 3
   },
   "file_extension": ".py",
   "mimetype": "text/x-python",
   "name": "python",
   "nbconvert_exporter": "python",
   "pygments_lexer": "ipython3",
   "version": "3.4.4"
  }
 },
 "nbformat": 4,
 "nbformat_minor": 0
}
