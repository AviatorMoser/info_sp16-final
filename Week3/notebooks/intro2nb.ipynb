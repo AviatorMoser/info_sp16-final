{
 "cells": [
  {
   "cell_type": "markdown",
   "metadata": {},
   "source": [
    "<DIV ALIGN=CENTER>\n",
    "\n",
    "# Naive Bayes\n",
    "## Professor Robert J. Brunner\n",
    "  \n",
    "</DIV>  \n",
    "-----\n",
    "-----"
   ]
  },
  {
   "cell_type": "markdown",
   "metadata": {},
   "source": [
    "\n",
    "## Introduction\n",
    "\n",
    "In this IPython Notebook, we explore how to effectively use the Naive Bayes algorithm. First, we repeat the analysis of the Iris data used for both k-nn and svm in the Introduction to Machine Learning Notebook from Week 1, but now we use the Naive Bayes algorithm.\n",
    "\n",
    "-----"
   ]
  },
  {
   "cell_type": "code",
   "execution_count": 1,
   "metadata": {
    "collapsed": false
   },
   "outputs": [],
   "source": [
    "# Set up Notebook\n",
    "\n",
    "% matplotlib inline\n",
    "\n",
    "# We do this to ignore several specific Pandas warnings\n",
    "import warnings\n",
    "warnings.filterwarnings(\"ignore\")\n",
    "\n",
    "import seaborn as sns\n",
    "import matplotlib.pyplot as plt\n",
    "import numpy as np\n",
    "import pandas as pd\n",
    "\n",
    "sns.set(style=\"white\")\n",
    "\n",
    "# Convenience function to plot confusion matrix\n",
    "\n",
    "# This method produces a colored heatmap that displays the relationship\n",
    "# between predicted and actual types from a machine leanring method.\n",
    "\n",
    "def confusion(test, predict, title):\n",
    "    # Define names for the three Iris types\n",
    "    names = ['setosa', 'versicolor', 'virginica']\n",
    "\n",
    "    # Make a 2D histogram from the test and result arrays\n",
    "    pts, xe, ye = np.histogram2d(test, predict, bins=3)\n",
    "\n",
    "    # For simplicity we create a new DataFrame\n",
    "    pd_pts = pd.DataFrame(pts.astype(int), index=names, columns=names )\n",
    "    \n",
    "    # Display heatmap and add decorations\n",
    "    hm = sns.heatmap(pd_pts, annot=True, fmt=\"d\")\n",
    "    hm.axes.set_title(title)\n",
    "    \n",
    "    return None"
   ]
  },
  {
   "cell_type": "markdown",
   "metadata": {},
   "source": [
    "-----\n",
    "\n",
    "## Iris Data\n",
    "\n",
    "As the previous figure illustrates, the three types of Iris cluster\n",
    "naturally in these dimensions, with minimal overlap. As a result, these\n",
    "data provide an excellent test for different machine learning\n",
    "algorithms.  The four primary dimensions of the data include Sepal\n",
    "Length, Sepal Width, Petal Length, and Petal Width, which can be seen\n",
    "from the following Iris picture (or type _virginica_).\n",
    "\n",
    "![Iris picture from Wikipedia](https://upload.wikimedia.org/wikipedia/commons/thumb/9/9f/Iris_virginica.jpg/220px-Iris_virginica.jpg)\n",
    "\n",
    "The data set consists of 150 total measurements of three different types\n",
    "of Iris flowers, equally divided between three classes: Iris Setosa,\n",
    "Iris versicolor, and Iris virginica. Before proceeding, we can examine\n",
    "the Pandas DataFrame that contains these data.\n",
    "\n",
    "-----"
   ]
  },
  {
   "cell_type": "code",
   "execution_count": 2,
   "metadata": {
    "collapsed": false
   },
   "outputs": [],
   "source": [
    "# Load the Iris Data\n",
    "iris = sns.load_dataset(\"iris\")\n",
    "\n",
    "# Now lets get the data and labels\n",
    "\n",
    "data = iris[['sepal_length', 'sepal_width', 'petal_length', 'petal_width']].values\n",
    "labels = np.array([i//50 for i in range(iris.shape[0])])\n",
    "\n",
    "# We want to split our data into training and testing\n",
    "\n",
    "from sklearn import cross_validation\n",
    "\n",
    "# This is the amount to hold out for 'blind' testing\n",
    "frac = 0.4\n",
    "\n",
    "d_train, d_test, l_train, l_test \\\n",
    "    = cross_validation.train_test_split(data, labels, test_size=frac, random_state=0)"
   ]
  },
  {
   "cell_type": "markdown",
   "metadata": {},
   "source": [
    "-----\n",
    "\n",
    "## [Naive Bayes][nb] (NB)\n",
    "\n",
    "The first algorithm we will explore is one of the simplest, the\n",
    "[Naive Bayes][nb] algorithm. Fundamentally, this algorithm is\n",
    "remarkable simple and is based on the assumption of indepedence that a given attribute (or feature) belongs to a specific class.\n",
    "\n",
    "In the following code cells, we demonstrate how to perform nb\n",
    "classification by using scikit-learn. The standard classification\n",
    "process in scikit-learn is to first fit a model to the training data\n",
    "and to subsequently apply this model to predict values for the testing\n",
    "data. After this process, we first compute the prediction score before\n",
    "displaying the confusion matrix for this algorithm.\n",
    "\n",
    "-----\n",
    "\n",
    "[nb]: https://en.wikipedia.org/wiki/Naive_Bayes_classifier"
   ]
  },
  {
   "cell_type": "code",
   "execution_count": 6,
   "metadata": {
    "collapsed": false
   },
   "outputs": [
    {
     "name": "stdout",
     "output_type": "stream",
     "text": [
      "NB prediction accuracy =  93.3%\n"
     ]
    }
   ],
   "source": [
    "# First, lets try Gaussain NB\n",
    "from sklearn.naive_bayes import GaussianNB\n",
    "\n",
    "# First we construct our Classification Model\n",
    "nb = GaussianNB()\n",
    "# Next we train our model\n",
    "nb.fit(d_train, l_train)\n",
    "\n",
    "# Finally, we test our model\n",
    "result = nb.predict(d_test)\n",
    "\n",
    "print(\"NB prediction accuracy = {0:5.1f}%\".format(100.0 * nb.score(d_test, l_test)))"
   ]
  },
  {
   "cell_type": "code",
   "execution_count": 7,
   "metadata": {
    "collapsed": false
   },
   "outputs": [
    {
     "data": {
      "image/png": "[encoded data removed]",
      "text/plain": [
       "<matplotlib.figure.Figure at 0x7fa42f9714e0>"
      ]
     },
     "metadata": {},
     "output_type": "display_data"
    }
   ],
   "source": [
    "# Plot our confusion matrix\n",
    "\n",
    "confusion(l_test, result, \"NB Model\")"
   ]
  },
  {
   "cell_type": "code",
   "execution_count": null,
   "metadata": {
    "collapsed": true
   },
   "outputs": [],
   "source": []
  }
 ],
 "metadata": {
  "kernelspec": {
   "display_name": "Python 3",
   "language": "python",
   "name": "python3"
  },
  "language_info": {
   "codemirror_mode": {
    "name": "ipython",
    "version": 3
   },
   "file_extension": ".py",
   "mimetype": "text/x-python",
   "name": "python",
   "nbconvert_exporter": "python",
   "pygments_lexer": "ipython3",
   "version": "3.4.4"
  }
 },
 "nbformat": 4,
 "nbformat_minor": 0
}
