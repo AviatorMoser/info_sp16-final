{
 "cells": [
  {
   "cell_type": "markdown",
   "metadata": {},
   "source": [
    "<DIV ALIGN=CENTER>\n",
    "\n",
    "# Introduction to NLP: Semantic Analysis\n",
    "## Professor Robert J. Brunner\n",
    "  \n",
    "</DIV>  \n",
    "-----\n",
    "-----"
   ]
  },
  {
   "cell_type": "markdown",
   "metadata": {},
   "source": [
    "\n",
    "## Introduction\n",
    "\n",
    "Semantic Analysis\n",
    "Derive meaning from words, chunks, tokens.\n",
    "\n",
    "word2vec, doc2vec\n",
    "\n",
    "gensim\n",
    "\n",
    "-----\n",
    "\n"
   ]
  },
  {
   "cell_type": "markdown",
   "metadata": {},
   "source": [
    "-----\n",
    "\n",
    "## Student Activity\n",
    "\n",
    "In the preceding cells, we . Now that you have run the Notebook,\n",
    "go back and make the following changes to see how the results change.\n",
    "\n",
    "1. Change \n",
    "2. Try \n",
    "3. Can \n",
    "\n",
    "-----"
   ]
  },
  {
   "cell_type": "code",
   "execution_count": 1,
   "metadata": {
    "collapsed": false
   },
   "outputs": [
    {
     "ename": "SyntaxError",
     "evalue": "invalid syntax (<ipython-input-1-16fc9134832a>, line 1)",
     "output_type": "error",
     "traceback": [
      "\u001b[1;36m  File \u001b[1;32m\"<ipython-input-1-16fc9134832a>\"\u001b[1;36m, line \u001b[1;32m1\u001b[0m\n\u001b[1;33m    nltk:\u001b[0m\n\u001b[1;37m        ^\u001b[0m\n\u001b[1;31mSyntaxError\u001b[0m\u001b[1;31m:\u001b[0m invalid syntax\n"
     ]
    }
   ],
   "source": [
    "nltk:\n",
    "    concordance\n",
    "    similar\n",
    "    common_contexts\n",
    "    \n",
    "    dispersion_plot"
   ]
  },
  {
   "cell_type": "code",
   "execution_count": 5,
   "metadata": {
    "collapsed": false
   },
   "outputs": [
    {
     "name": "stdout",
     "output_type": "stream",
     "text": [
      "34 total entries in synonym ring for drive\n",
      "Only showing top 20 entries.\n",
      "----------------------------------------\n",
      "drive (n): the act of applying force to propel something\n",
      "----------------------------------------\n",
      "drive (n): a mechanism by which force or power is transmitted in a machine\n",
      "----------------------------------------\n",
      "campaign (n): a series of actions advancing a principle or tending toward a particular end\n",
      "----------------------------------------\n",
      "driveway (n): a road leading up to a private house\n",
      "----------------------------------------\n",
      "drive (n): the trait of being highly motivated\n",
      "----------------------------------------\n",
      "drive (n): hitting a golf ball off of a tee with a driver\n",
      "----------------------------------------\n",
      "drive (n): the act of driving a herd of animals overland\n",
      "----------------------------------------\n",
      "drive (n): a journey in a vehicle (usually an automobile)\n",
      "----------------------------------------\n",
      "drive (n): a physiological state corresponding to a strong need or desire\n",
      "----------------------------------------\n",
      "drive (n): (computer science) a device that writes data onto or reads data from a storage medium\n",
      "----------------------------------------\n",
      "drive (n): a wide scenic road planted with trees\n",
      "----------------------------------------\n",
      "drive (n): (sports) a hard straight return (as in tennis or squash)\n",
      "----------------------------------------\n",
      "drive (v): operate or control a vehicle\n",
      "----------------------------------------\n",
      "drive (v): travel or be transported in a vehicle\n",
      "----------------------------------------\n",
      "drive (v): cause someone or something to move by driving\n",
      "----------------------------------------\n",
      "force (v): force into or from an action or state, either physically or metaphorically\n",
      "----------------------------------------\n",
      "drive (v): to compel or force or urge relentlessly or exert coercive pressure on, or motivate strongly\n",
      "----------------------------------------\n",
      "repel (v): cause to move back by force or influence\n",
      "----------------------------------------\n",
      "drive (v): compel somebody to do something, often against his own will or judgment\n",
      "----------------------------------------\n",
      "drive (v): push, propel, or press with force\n",
      "----------------------------------------\n"
     ]
    }
   ],
   "source": [
    "from nltk.corpus import wordnet\n",
    "\n",
    "num_entries = 20\n",
    "the_word = 'drive'\n",
    "the_synsets = wordnet.synsets(the_word)\n",
    "\n",
    "print('{0} total entries in synonym ring for {1}'.format(len(the_synsets), the_word))\n",
    "print('Only showing top {0} entries.'.format(num_entries))\n",
    "print(40*'-')\n",
    "\n",
    "for synset in the_synsets[:num_entries]:\n",
    "    vals = synset.name().split('.')\n",
    "    print('{1} ({2}): '.format(int(vals[2]), vals[0], vals[1]), end='')\n",
    "    print(synset.definition())\n",
    "    print(40*'-')"
   ]
  },
  {
   "cell_type": "code",
   "execution_count": 4,
   "metadata": {
    "collapsed": false
   },
   "outputs": [],
   "source": [
    "import gensim\n",
    "\n",
    "#model = Word2Vec(sentences, size=100, window=5, min_count=5, workers=4)\n",
    "\n",
    "sentences = [['Some text', 'more text'], ['New row', 'something else']]\n",
    "\n",
    "model = gensim.models.Word2Vec(sentences, min_count=1)"
   ]
  },
  {
   "cell_type": "code",
   "execution_count": null,
   "metadata": {
    "collapsed": true
   },
   "outputs": [],
   "source": [
    "http://rare-technologies.com/word2vec-tutorial/\n",
    "    http://rare-technologies.com/text-summarization-with-gensim/\n",
    "        http://rare-technologies.com/doc2vec-tutorial/\n",
    "            "
   ]
  }
 ],
 "metadata": {
  "kernelspec": {
   "display_name": "Python 3",
   "language": "python",
   "name": "python3"
  },
  "language_info": {
   "codemirror_mode": {
    "name": "ipython",
    "version": 3
   },
   "file_extension": ".py",
   "mimetype": "text/x-python",
   "name": "python",
   "nbconvert_exporter": "python",
   "pygments_lexer": "ipython3",
   "version": "3.5.1"
  }
 },
 "nbformat": 4,
 "nbformat_minor": 0
}
