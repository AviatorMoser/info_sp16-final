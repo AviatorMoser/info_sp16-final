{
 "cells": [
  {
   "cell_type": "markdown",
   "metadata": {},
   "source": [
    "<DIV ALIGN=CENTER>\n",
    "\n",
    "# Introduction to NLP: Basic Concepts\n",
    "## Professor Robert J. Brunner\n",
    "  \n",
    "</DIV>  \n",
    "-----\n",
    "-----"
   ]
  },
  {
   "cell_type": "markdown",
   "metadata": {},
   "source": [
    "\n",
    "## Introduction\n",
    "\n",
    "In this IPython Notebook, we explore basic concepts in NLP:\n",
    "\n",
    "Tokenization\n",
    "Chunking\n",
    "POS\n",
    "NER\n",
    "\n",
    "Example application?\n",
    "\n",
    "NLTK and spacy.\n",
    "\n",
    "-----\n",
    "\n"
   ]
  },
  {
   "cell_type": "markdown",
   "metadata": {},
   "source": [
    "-----\n",
    "\n",
    "### Student Activity\n",
    "\n",
    "In the preceding cells, we . Now that you have run the Notebook, go back and make\n",
    "the following changes to see how the results change.\n",
    "\n",
    "1. Change\n",
    "2. Change \n",
    "3. Try \n",
    "\n",
    "-----"
   ]
  },
  {
   "cell_type": "code",
   "execution_count": 6,
   "metadata": {
    "collapsed": false
   },
   "outputs": [],
   "source": [
    "import nltk"
   ]
  },
  {
   "cell_type": "code",
   "execution_count": 3,
   "metadata": {
    "collapsed": false
   },
   "outputs": [
    {
     "name": "stdout",
     "output_type": "stream",
     "text": [
      "['Students', 'will', 'learn', 'about', 'the', 'basic', 'tasks', 'in', 'machine', 'learning', ',', 'including', 'the', 'importance', 'of', 'data', 'preparation', '.', 'Next', ',', 'linear', 'regression', 'is', 'introduced', 'along', 'with', 'concepts', 'like', 'regularization', 'and', 'an', 'extension', 'to', 'logistic', 'regression', '.', 'Supervised', 'learning', 'is', 'introduced', 'with', 'examples', 'for', 'both', 'classification', 'and', 'regression', 'presented', 'including', 'naive', 'Bayes', ',', 'k-nn', ',', 'SVM', ',', 'decision', 'trees', ',', 'and', 'ensemble', 'techniques', '.', 'Unsupervised', 'techniques', 'are', 'presented', 'with', 'applications', 'in', 'both', 'clustering', 'and', 'dimensional', 'reduction', '.', 'Specific', 'application', 'areas', 'are', 'explored', 'for', 'these', 'machine', 'learning', 'techniques', ',', 'including', 'text', 'analysis', ',', 'network', 'analysis', ',', 'and', 'social', 'media', 'analysis', '.', 'The', 'last', 'part', 'of', 'the', 'course', 'focuses', 'on', 'cloud', 'computing', 'technologies', ',', 'including', 'Hadoop', ',', 'MapReduce', ',', 'NoSQL', 'data', 'stores', ',', 'Spark', ',', 'and', 'streaming', 'data', 'analysis', '.', 'The', 'course', 'concludes', 'with', 'a', 'brief', 'introduction', 'of', 'deep', 'learning', '.']\n"
     ]
    }
   ],
   "source": [
    "text = '''Students will learn about the basic tasks in machine learning,\n",
    "including the importance of data preparation. Next, linear regression is\n",
    "introduced along with concepts like regularization and an extension to\n",
    "logistic regression. Supervised learning is introduced with examples for\n",
    "both classification and regression presented including naive Bayes,\n",
    "k-nn, SVM, decision trees, and ensemble techniques. Unsupervised\n",
    "techniques are presented with applications in both clustering and\n",
    "dimensional reduction. Specific application areas are explored for these\n",
    "machine learning techniques, including text analysis, network analysis,\n",
    "and social media analysis. The last part of the course focuses on cloud\n",
    "computing technologies, including Hadoop, MapReduce, NoSQL data stores,\n",
    "Spark, and streaming data analysis. The course concludes with a brief\n",
    "introduction of deep learning.'''\n",
    "\n",
    "wtks = nltk.word_tokenize(text)\n",
    "print(wtks)"
   ]
  },
  {
   "cell_type": "code",
   "execution_count": 4,
   "metadata": {
    "collapsed": false
   },
   "outputs": [
    {
     "name": "stdout",
     "output_type": "stream",
     "text": [
      "[('Students', 'NNS'), ('will', 'MD'), ('learn', 'VB'), ('about', 'IN'), ('the', 'DT'), ('basic', 'JJ'), ('tasks', 'NNS'), ('in', 'IN'), ('machine', 'NN'), ('learning', 'NN'), (',', ','), ('including', 'VBG'), ('the', 'DT'), ('importance', 'NN'), ('of', 'IN'), ('data', 'NNS'), ('preparation', 'NN'), ('.', '.'), ('Next', 'JJ'), (',', ','), ('linear', 'JJ'), ('regression', 'NN'), ('is', 'VBZ'), ('introduced', 'VBN'), ('along', 'IN'), ('with', 'IN'), ('concepts', 'NNS'), ('like', 'IN'), ('regularization', 'NN'), ('and', 'CC'), ('an', 'DT'), ('extension', 'NN'), ('to', 'TO'), ('logistic', 'JJ'), ('regression', 'NN'), ('.', '.'), ('Supervised', 'VBN'), ('learning', 'NN'), ('is', 'VBZ'), ('introduced', 'VBN'), ('with', 'IN'), ('examples', 'NNS'), ('for', 'IN'), ('both', 'DT'), ('classification', 'NN'), ('and', 'CC'), ('regression', 'NN'), ('presented', 'VBD'), ('including', 'VBG'), ('naive', 'JJ'), ('Bayes', 'NNP'), (',', ','), ('k-nn', 'NN'), (',', ','), ('SVM', 'NNP'), (',', ','), ('decision', 'NN'), ('trees', 'NNS'), (',', ','), ('and', 'CC'), ('ensemble', 'JJ'), ('techniques', 'NNS'), ('.', '.'), ('Unsupervised', 'VBN'), ('techniques', 'NNS'), ('are', 'VBP'), ('presented', 'VBN'), ('with', 'IN'), ('applications', 'NNS'), ('in', 'IN'), ('both', 'DT'), ('clustering', 'NN'), ('and', 'CC'), ('dimensional', 'JJ'), ('reduction', 'NN'), ('.', '.'), ('Specific', 'JJ'), ('application', 'NN'), ('areas', 'NNS'), ('are', 'VBP'), ('explored', 'VBN'), ('for', 'IN'), ('these', 'DT'), ('machine', 'NN'), ('learning', 'VBG'), ('techniques', 'NNS'), (',', ','), ('including', 'VBG'), ('text', 'JJ'), ('analysis', 'NN'), (',', ','), ('network', 'NN'), ('analysis', 'NN'), (',', ','), ('and', 'CC'), ('social', 'JJ'), ('media', 'NNS'), ('analysis', 'NN'), ('.', '.'), ('The', 'DT'), ('last', 'JJ'), ('part', 'NN'), ('of', 'IN'), ('the', 'DT'), ('course', 'NN'), ('focuses', 'VBZ'), ('on', 'IN'), ('cloud', 'NN'), ('computing', 'VBG'), ('technologies', 'NNS'), (',', ','), ('including', 'VBG'), ('Hadoop', 'NNP'), (',', ','), ('MapReduce', 'NNP'), (',', ','), ('NoSQL', 'NNP'), ('data', 'NN'), ('stores', 'NNS'), (',', ','), ('Spark', 'NNP'), (',', ','), ('and', 'CC'), ('streaming', 'VBG'), ('data', 'NNS'), ('analysis', 'NN'), ('.', '.'), ('The', 'DT'), ('course', 'NN'), ('concludes', 'VBZ'), ('with', 'IN'), ('a', 'DT'), ('brief', 'JJ'), ('introduction', 'NN'), ('of', 'IN'), ('deep', 'JJ'), ('learning', 'NN'), ('.', '.')]\n"
     ]
    }
   ],
   "source": [
    "ptgs = nltk.pos_tag(wtks)\n",
    "    \n",
    "print(ptgs)"
   ]
  },
  {
   "cell_type": "code",
   "execution_count": 5,
   "metadata": {
    "collapsed": false
   },
   "outputs": [
    {
     "name": "stdout",
     "output_type": "stream",
     "text": [
      "(S\n",
      "  Students/NNS\n",
      "  will/MD\n",
      "  learn/VB\n",
      "  about/IN\n",
      "  the/DT\n",
      "  basic/JJ\n",
      "  tasks/NNS\n",
      "  in/IN\n",
      "  machine/NN\n",
      "  learning/NN\n",
      "  ,/,\n",
      "  including/VBG\n",
      "  the/DT\n",
      "  importance/NN\n",
      "  of/IN\n",
      "  data/NNS\n",
      "  preparation/NN\n",
      "  ./.\n",
      "  Next/JJ\n",
      "  ,/,\n",
      "  linear/JJ\n",
      "  regression/NN\n",
      "  is/VBZ\n",
      "  introduced/VBN\n",
      "  along/IN\n",
      "  with/IN\n",
      "  concepts/NNS\n",
      "  like/IN\n",
      "  regularization/NN\n",
      "  and/CC\n",
      "  an/DT\n",
      "  extension/NN\n",
      "  to/TO\n",
      "  logistic/JJ\n",
      "  regression/NN\n",
      "  ./.\n",
      "  Supervised/VBN\n",
      "  learning/NN\n",
      "  is/VBZ\n",
      "  introduced/VBN\n",
      "  with/IN\n",
      "  examples/NNS\n",
      "  for/IN\n",
      "  both/DT\n",
      "  classification/NN\n",
      "  and/CC\n",
      "  regression/NN\n",
      "  presented/VBD\n",
      "  including/VBG\n",
      "  naive/JJ\n",
      "  Bayes/NNP\n",
      "  ,/,\n",
      "  k-nn/NN\n",
      "  ,/,\n",
      "  (ORGANIZATION SVM/NNP)\n",
      "  ,/,\n",
      "  decision/NN\n",
      "  trees/NNS\n",
      "  ,/,\n",
      "  and/CC\n",
      "  ensemble/JJ\n",
      "  techniques/NNS\n",
      "  ./.\n",
      "  Unsupervised/VBN\n",
      "  techniques/NNS\n",
      "  are/VBP\n",
      "  presented/VBN\n",
      "  with/IN\n",
      "  applications/NNS\n",
      "  in/IN\n",
      "  both/DT\n",
      "  clustering/NN\n",
      "  and/CC\n",
      "  dimensional/JJ\n",
      "  reduction/NN\n",
      "  ./.\n",
      "  Specific/JJ\n",
      "  application/NN\n",
      "  areas/NNS\n",
      "  are/VBP\n",
      "  explored/VBN\n",
      "  for/IN\n",
      "  these/DT\n",
      "  machine/NN\n",
      "  learning/VBG\n",
      "  techniques/NNS\n",
      "  ,/,\n",
      "  including/VBG\n",
      "  text/JJ\n",
      "  analysis/NN\n",
      "  ,/,\n",
      "  network/NN\n",
      "  analysis/NN\n",
      "  ,/,\n",
      "  and/CC\n",
      "  social/JJ\n",
      "  media/NNS\n",
      "  analysis/NN\n",
      "  ./.\n",
      "  The/DT\n",
      "  last/JJ\n",
      "  part/NN\n",
      "  of/IN\n",
      "  the/DT\n",
      "  course/NN\n",
      "  focuses/VBZ\n",
      "  on/IN\n",
      "  cloud/NN\n",
      "  computing/VBG\n",
      "  technologies/NNS\n",
      "  ,/,\n",
      "  including/VBG\n",
      "  (PERSON Hadoop/NNP)\n",
      "  ,/,\n",
      "  (ORGANIZATION MapReduce/NNP)\n",
      "  ,/,\n",
      "  (ORGANIZATION NoSQL/NNP)\n",
      "  data/NN\n",
      "  stores/NNS\n",
      "  ,/,\n",
      "  (GPE Spark/NNP)\n",
      "  ,/,\n",
      "  and/CC\n",
      "  streaming/VBG\n",
      "  data/NNS\n",
      "  analysis/NN\n",
      "  ./.\n",
      "  The/DT\n",
      "  course/NN\n",
      "  concludes/VBZ\n",
      "  with/IN\n",
      "  a/DT\n",
      "  brief/JJ\n",
      "  introduction/NN\n",
      "  of/IN\n",
      "  deep/JJ\n",
      "  learning/NN\n",
      "  ./.)\n"
     ]
    }
   ],
   "source": [
    "nrcs = nltk.ne_chunk(ptgs)\n",
    "print(nrcs)"
   ]
  },
  {
   "cell_type": "code",
   "execution_count": null,
   "metadata": {
    "collapsed": true
   },
   "outputs": [],
   "source": []
  }
 ],
 "metadata": {
  "kernelspec": {
   "display_name": "Python 3",
   "language": "python",
   "name": "python3"
  },
  "language_info": {
   "codemirror_mode": {
    "name": "ipython",
    "version": 3
   },
   "file_extension": ".py",
   "mimetype": "text/x-python",
   "name": "python",
   "nbconvert_exporter": "python",
   "pygments_lexer": "ipython3",
   "version": "3.5.1"
  }
 },
 "nbformat": 4,
 "nbformat_minor": 0
}
