{
 "cells": [
  {
   "cell_type": "markdown",
   "metadata": {},
   "source": [
    "<DIV ALIGN=CENTER>\n",
    "\n",
    "# Introduction to Social Media: Email\n",
    "## Professor Robert J. Brunner\n",
    "  \n",
    "</DIV>  \n",
    "-----\n",
    "-----"
   ]
  },
  {
   "cell_type": "markdown",
   "metadata": {},
   "source": [
    "\n",
    "## Introduction\n",
    "\n",
    "In this IPython Notebook, we explore \n",
    "\n",
    "Read and process email messages.\n",
    "\n",
    "Discuss how to send/recieve email?\n",
    "\n",
    "Spam/Ham classification? Enron/SPam Assasin?\n",
    "\n",
    "Clinton emails?\n",
    "\n",
    "-----\n"
   ]
  },
  {
   "cell_type": "markdown",
   "metadata": {},
   "source": [
    "-----\n",
    "\n",
    "## Student Activity\n",
    "\n",
    "In the preceding cells, we used . Now that you\n",
    "have run the Notebook, go back and make the following changes to see how\n",
    "the results change.\n",
    "\n",
    "1. Change the ?\n",
    "2. Change the ?\n",
    "3. Try making a ?\n",
    "\n",
    "Finally, try applying a (discuss in class forums?\n",
    "\n",
    "-----"
   ]
  },
  {
   "cell_type": "markdown",
   "metadata": {},
   "source": [
    "-----\n",
    "\n",
    "### Email Text Parsing\n",
    "\n",
    "Python provides built-in support for [processing email messages][pem],\n",
    "which are an often overlooked source of information in data science\n",
    "projects. The library is part of the core Python distribution, and\n",
    "includes support for parsing email messages, as well as sending and\n",
    "receiving emails. For our purpose, we simply need to read in text and\n",
    "create an email `message`, which provides access to the basic email\n",
    "contents. The `message` instance provides access to the email header\n",
    "information as well as any payload data. \n",
    "\n",
    "Normally the payload is the email message, but with multipart messages,\n",
    "like HTML email messages, an email can have multiple payloads. In the\n",
    "next several code cells, we create an email `message` by reading an\n",
    "email from a file (the email should look familiar). We subsequently\n",
    "explore the Python email message interface to extract email headers and\n",
    "the message payload, before grabbing the HTML message for later parsing.\n",
    "\n",
    "-----\n",
    "\n",
    "[pem]: https://docs.python.org/3/library/email.html"
   ]
  },
  {
   "cell_type": "code",
   "execution_count": 1,
   "metadata": {
    "collapsed": false
   },
   "outputs": [
    {
     "name": "stdout",
     "output_type": "stream",
     "text": [
      "[ 'Received', 'Received', 'Received', 'Received', 'Received', 'Date', 'To',\n",
      "  'From', 'Subject', 'Message-ID', 'X-Mailer', 'List-Id', 'List-Help',\n",
      "  'X-Course-Id', 'X-Course-Name', 'Precedence', 'X-Auto-Response-Suppress',\n",
      "  'Auto-Submitted', 'Content-Type', 'X-Spam-Reason', 'Return-Path',\n",
      "  'X-MS-Exchange-Organization-AuthSource', 'X-MS-Exchange-Organization-AuthAs',\n",
      "  'X-MS-Exchange-Organization-Antispam-Report',\n",
      "  'X-MS-Exchange-Organization-SCL',\n",
      "  'X-MS-Exchange-Organization-AVStamp-Mailbox', 'MIME-Version']\n"
     ]
    }
   ],
   "source": [
    "import email as em\n",
    "from email import policy\n",
    "\n",
    "with open(\"data/ham/prg.eml\") as fin:\n",
    "    msg = em.message_from_file(fin, policy=policy.default)\n",
    "\n",
    "import pprint\n",
    "pp = pprint.PrettyPrinter(indent=2, depth=2, width=80, compact=True)\n",
    "\n",
    "pp.pprint(msg.keys())"
   ]
  },
  {
   "cell_type": "code",
   "execution_count": 2,
   "metadata": {
    "collapsed": false
   },
   "outputs": [
    {
     "name": "stdout",
     "output_type": "stream",
     "text": [
      "To: Robert Brunner <xxxyyy@illinois.edu>\n",
      "From: Robert Brunner <xxxyyy@illinois.edu>\n",
      "Subject: INFO 490 RB2 SP16: Peer Review Grading\n"
     ]
    }
   ],
   "source": [
    "print('To:', msg['to'])\n",
    "print('From:', msg['from'])\n",
    "print('Subject:', msg['subject'])"
   ]
  },
  {
   "cell_type": "code",
   "execution_count": 3,
   "metadata": {
    "collapsed": false
   },
   "outputs": [
    {
     "name": "stdout",
     "output_type": "stream",
     "text": [
      "-------------------------------------------------------------\n",
      "Peer Review Grading\n",
      "by Robert Brunner - Monday, 29 February 2016, 10:22 AM\n",
      "---------------------------------------------------------------------\n",
      "I have received several emails or private Moodle messages regarding peer\n",
      "grading. The basic context seems to be concern about losing a few points\n",
      "\n"
     ]
    }
   ],
   "source": [
    "print(msg.as_string()[2340:2693])"
   ]
  },
  {
   "cell_type": "code",
   "execution_count": 4,
   "metadata": {
    "collapsed": false
   },
   "outputs": [
    {
     "name": "stdout",
     "output_type": "stream",
     "text": [
      "[ '_add_multipart', '_body_types', '_charset', '_default_type', '_find_body',\n",
      "  '_get_params_preserve', '_headers', '_make_multipart', '_payload',\n",
      "  '_unixfrom', 'add_alternative', 'add_attachment', 'add_header', 'add_related',\n",
      "  'as_bytes', 'as_string', 'attach', 'clear', 'clear_content', 'defects',\n",
      "  'del_param', 'epilogue', 'get', 'get_all', 'get_body', 'get_boundary',\n",
      "  'get_charset', 'get_charsets', 'get_content', 'get_content_charset',\n",
      "  'get_content_disposition', 'get_content_maintype', 'get_content_subtype',\n",
      "  'get_content_type', 'get_default_type', 'get_filename', 'get_param',\n",
      "  'get_params', 'get_payload', 'get_unixfrom', 'is_attachment', 'is_multipart',\n",
      "  'items', 'iter_attachments', 'iter_parts', 'keys', 'make_alternative',\n",
      "  'make_mixed', 'make_related', 'policy', 'preamble', 'raw_items',\n",
      "  'replace_header', 'set_boundary', 'set_charset', 'set_content',\n",
      "  'set_default_type', 'set_param', 'set_payload', 'set_raw', 'set_type',\n",
      "  'set_unixfrom', 'values', 'walk']\n"
     ]
    }
   ],
   "source": [
    "pp.pprint([att for att in dir(msg) if '__' not in att])"
   ]
  },
  {
   "cell_type": "code",
   "execution_count": 5,
   "metadata": {
    "collapsed": false
   },
   "outputs": [
    {
     "name": "stdout",
     "output_type": "stream",
     "text": [
      "Text Data:\n",
      "---------\n",
      " \n",
      "INFO 490 RB2 SP16 -> Forums -> Announcements -> Peer Review Grading\n",
      "https://learn.illinois.edu/mod/forum/discuss.php?d=938611\n",
      "---------------------------------------------------------------------\n",
      "Peer Review Grading\n",
      "by Robert Brunner - Monday, 29 February 2016, 10:22 AM\n",
      "---------------------------------------------------------------------\n",
      "I have received several emails or private Moodle messages regarding peer\n",
      "grading. The basic context seems to be concern about losing a few points\n",
      "from one reviewer. \n",
      "\n",
      "To be clear, we do not intervene in Peer Assessment unless there has ben an\n",
      "egregious violation. An example of this would be someone giving a zero and\n",
      "saying 'The code does not run' when it clearly does run. Or 'The code is\n",
      "empty' when the assignment was completed. Losing a few points occasionally\n",
      "will not lower your grade. And other than write the best code you possibly\n",
      "can and document it thoroughly, we do not have any advice!\n"
     ]
    }
   ],
   "source": [
    "# Display part of the message\n",
    "\n",
    "if msg.is_multipart() == True:\n",
    "    data = msg.get_payload(0)\n",
    "    html=msg.get_payload(1)\n",
    "\n",
    "    print(\"Text Data:\\n---------\\n\", data.get_content()[:941])"
   ]
  },
  {
   "cell_type": "code",
   "execution_count": 6,
   "metadata": {
    "collapsed": false
   },
   "outputs": [
    {
     "data": {
      "text/html": [
       "<html><head>\n",
       "<meta http-equiv=\"Content-Type\" content=\"text/html; charset=utf-8\"></head>\n",
       "<body id=\"email\">\n",
       "\n",
       "<div class=\"navbar\"><a target=\"_blank\" href=\"https://urldefense.proofpoint.com/v2/url?u=https-3A__learn.illinois.edu_course_view.php-3Fid-3D15109&amp;d=BQMFaQ&amp;c=8hUWFZcy2Z-Za5rBPlktOQ&amp;r=O_6ckC2-W1REgY_jBF9kJ25-Hp-9sYdc1-HuZG5JGv8&amp;m=gYTUNA_nqJH7sLR31Nt0DbtPC08xlWozFkhx4rjmB9M&amp;s=m5T6oKzMak6YY0JWwdJLRbtHekX2plOBZVUzElIkoR8&amp;e=\">INFO 490 RB2 SP16</a> » <a target=\"_blank\" href=\"https://urldefense.proofpoint.com/v2/url?u=https-3A__learn.illinois.edu_mod_forum_index.php-3Fid-3D15109&amp;d=BQMFaQ&amp;c=8hUWFZcy2Z-Za5rBPlktOQ&amp;r=O_6ckC2-W1REgY_jBF9kJ25-Hp-9sYdc1-HuZG5JGv8&amp;m=gYTUNA_nqJH7sLR31Nt0DbtPC08xlWozFkhx4rjmB9M&amp;s=bA6Bc25b5EUiaV1CepFrRg3vjtHgoIv2kIeTmTPXjuM&amp;e=\">Forums</a> » <a target=\"_blank\" href=\"https://urldefense.proofpoint.com/v2/url?u=https-3A__learn.illinois.edu_mod_forum_view.php-3Ff-3D109618&amp;d=BQMFaQ&amp;c=8hUWFZcy2Z-Za5rBPlktOQ&amp;r=O_6ckC2-W1REgY_jBF9kJ25-Hp-9sYdc1-HuZG5JGv8&amp;m=gYTUNA_nqJH7sLR31Nt0DbtPC08xlWozFkhx4rjmB9M&amp;s=iQ6fSH3TuLYp-awgLY9ZRt3g-ivSKSQgIlbsCBXn5rE&amp;e=\">Announcements</a> » <a target=\"_blank\" href=\"https://urldefense.proofpoint.com/v2/url?u=https-3A__learn.illinois.edu_mod_forum_discuss.php-3Fd-3D938611&amp;d=BQMFaQ&amp;c=8hUWFZcy2Z-Za5rBPlktOQ&amp;r=O_6ckC2-W1REgY_jBF9kJ25-Hp-9sYdc1-HuZG5JGv8&amp;m=gYTUNA_nqJH7sLR31Nt0DbtPC08xlWozFkhx4rjmB9M&amp;s=H6IS8ugW_i7ZJ0gbpiK9kt50LABnyJdFAJltftJkD04&amp;e=\">Peer Review Grading</a></div><table border=\"0\" cellpadding=\"3\" cellspacing=\"0\" class=\"forumpost\"><tr class=\"header\"><td width=\"35\" valign=\"top\" class=\"picture left\"><a href=\"https://urldefense.proofpoint.com/v2/url?u=https-3A__learn.illinois.edu_user_view.php-3Fid-3D1861-26course-3D15109&amp;d=BQMFaQ&amp;c=8hUWFZcy2Z-Za5rBPlktOQ&amp;r=O_6ckC2-W1REgY_jBF9kJ25-Hp-9sYdc1-HuZG5JGv8&amp;m=gYTUNA_nqJH7sLR31Nt0DbtPC08xlWozFkhx4rjmB9M&amp;s=QuPMNXl9dczRUqitLIgdH7V0LWer93xdz8q1L7lw5gE&amp;e=\"><img src=\"https://learn.illinois.edu/pluginfile.php/3519/user/icon/bootstrap_atlas/f2?rev=1\" alt=\"Picture of Robert Brunner\" title=\"Picture of Robert Brunner\" class=\"userpicture\" width=\"35\" height=\"35\"></a></td><td class=\"topic starter\"><div class=\"subject\">Peer Review Grading</div><div class=\"author\">by <a href=\"https://urldefense.proofpoint.com/v2/url?u=https-3A__learn.illinois.edu_user_view.php-3Fid-3D1861-26course-3D15109&amp;d=BQMFaQ&amp;c=8hUWFZcy2Z-Za5rBPlktOQ&amp;r=O_6ckC2-W1REgY_jBF9kJ25-Hp-9sYdc1-HuZG5JGv8&amp;m=gYTUNA_nqJH7sLR31Nt0DbtPC08xlWozFkhx4rjmB9M&amp;s=QuPMNXl9dczRUqitLIgdH7V0LWer93xdz8q1L7lw5gE&amp;e=\">Robert Brunner</a> - Monday, 29 February 2016, 10:22 AM</div></td></tr><tr><td class=\"left side\" valign=\"top\">&nbsp;</td><td class=\"content\"><p>I have received several emails or private Moodle messages regarding peer grading. The basic context seems to be concern about losing a few points from one reviewer.</p>\n",
       "<p>To be clear, we do not intervene in Peer Assessment unless there has ben an egregious violation. An example of this would be someone giving a zero and saying 'The code does not run' when it clearly does run. Or 'The code is empty' when the assignment was completed. Losing a few points occasionally will not lower your grade. And other than write the best code you possibly can and document it thoroughly, we do not have any advice!</p>\n",
       "<p>The point of peer review is two-fold:</p>\n",
       "<p>1) You get a chance to see how your peers completed an assignment. In some case, you might learn how to improve your own code, learn new coding tricks, or see ways that your coding style could improve.</p>\n",
       "<p>2) You have your code reviewed by your peers and obtain comments from them that (hopefully) will be constructive and help you improve your work. In some cases, a review might grade you lower than you like, or in seeming contrast to others.</p>\n",
       "<p>Learning to deal with situations like this is part of the course. You will (probably) experience many of these situations later in your career, either via an interview (which is a form of peer assessment), in the workplace with pair coding or code reviews, or just via general interactions at conferences or public meetings. And if you ever release code online, expect comments and criticisms!</p>\n",
       "<p>Finally, please remember that this is a large online course, which Edward and I are building as the course is being offered. Please refrain from frivolous questions or peer assessment regrade requests; otherwise, we will be forced to invoke point reductions:</p>\n",
       "<p>https://github.com/UI-DataScience/info490-sp16/blob/master/orientation/syllabus.md#point-reductions</p>\n",
       "<p>and also the special point reduction under the Peer Review section:</p>\n",
       "<p>https://github.com/UI-DataScience/info490-sp16/blob/master/orientation/syllabus.md#peer-review</p>\n",
       "<p>Having said this, please understand we encourage valid questions; we do not want to stifle the learning process.</p>\n",
       "<p>Robert</p>\n",
       "<p>&nbsp;</p><div class=\"commands\"><a target=\"_blank\" href=\"https://urldefense.proofpoint.com/v2/url?u=https-3A__learn.illinois.edu_mod_forum_post.php-3Freply-3D2477776&amp;d=BQMFaQ&amp;c=8hUWFZcy2Z-Za5rBPlktOQ&amp;r=O_6ckC2-W1REgY_jBF9kJ25-Hp-9sYdc1-HuZG5JGv8&amp;m=gYTUNA_nqJH7sLR31Nt0DbtPC08xlWozFkhx4rjmB9M&amp;s=XC2jTGNGGVT3o48qTZ-pxUM40PJOnKjwYYQ9T1ImYqI&amp;e=\">Reply</a></div><div class=\"link\"><a target=\"_blank\" href=\"https://urldefense.proofpoint.com/v2/url?u=https-3A__learn.illinois.edu_mod_forum_discuss.php-3Fd-3D938611-23p2477776&amp;d=BQMFaQ&amp;c=8hUWFZcy2Z-Za5rBPlktOQ&amp;r=O_6ckC2-W1REgY_jBF9kJ25-Hp-9sYdc1-HuZG5JGv8&amp;m=gYTUNA_nqJH7sLR31Nt0DbtPC08xlWozFkhx4rjmB9M&amp;s=D60VY-nQ1oQLDrx3HrjnX5vRN--IgpP43fyX60Sp_Gw&amp;e=\">See this post in context</a></div></td></tr></table>\n",
       "\n",
       "<hr><div class=\"mdl-align unsubscribelink\"><a href=\"https://urldefense.proofpoint.com/v2/url?u=https-3A__learn.illinois.edu_mod_forum_index.php-3Fid-3D15109&amp;d=BQMFaQ&amp;c=8hUWFZcy2Z-Za5rBPlktOQ&amp;r=O_6ckC2-W1REgY_jBF9kJ25-Hp-9sYdc1-HuZG5JGv8&amp;m=gYTUNA_nqJH7sLR31Nt0DbtPC08xlWozFkhx4rjmB9M&amp;s=bA6Bc25b5EUiaV1CepFrRg3vjtHgoIv2kIeTmTPXjuM&amp;e=\">Change your forum digest preferences</a></div></body>\n",
       "\n"
      ],
      "text/plain": [
       "<IPython.core.display.HTML object>"
      ]
     },
     "execution_count": 6,
     "metadata": {},
     "output_type": "execute_result"
    }
   ],
   "source": [
    "# Grab content, as decoded text\n",
    "from IPython.display import HTML\n",
    "HTML(html.get_content())"
   ]
  },
  {
   "cell_type": "code",
   "execution_count": 7,
   "metadata": {
    "collapsed": false
   },
   "outputs": [
    {
     "name": "stdout",
     "output_type": "stream",
     "text": [
      "<html><head>\n",
      "<meta http-equiv=3D\"Content-Type\" content=3D\"text/html; charset=3Dutf-8\"></=\n",
      "head>\n",
      "<body id=3D\"email\">\n",
      "--------------------\n",
      "Payload parameters: \n",
      " [('text/html', ''), ('charset', 'UTF-8')]\n"
     ]
    }
   ],
   "source": [
    "# Get raw payload, undecoded\n",
    "print(html.get_payload()[:115])\n",
    "\n",
    "print(20*'-')\n",
    "print('Payload parameters: \\n', html.get_params())"
   ]
  },
  {
   "cell_type": "markdown",
   "metadata": {},
   "source": [
    "-----\n",
    "\n",
    "### Spam Classification\n",
    "\n",
    "-----"
   ]
  },
  {
   "cell_type": "code",
   "execution_count": 8,
   "metadata": {
    "collapsed": false
   },
   "outputs": [
    {
     "name": "stdout",
     "output_type": "stream",
     "text": [
      "1401 ham messages.\n",
      "1397 spam messages.\n"
     ]
    }
   ],
   "source": [
    "# https://spamassassin.apache.org/publiccorpus/readme.html\n",
    "# Grabbed spam_2 and easyham_2\n",
    "\n",
    "import os\n",
    "\n",
    "mypath = '/home/data_scientist/rppdm/data/email/'\n",
    "\n",
    "ham = []\n",
    "spam = []\n",
    "\n",
    "for root, dirs, files in os.walk(os.path.join(mypath, 'ham')):\n",
    "    for file in files:\n",
    "        with open(os.path.join(root, file), encoding='ISO-8859-1') as fin:\n",
    "            msg = em.message_from_file(fin, policy=policy.default)\n",
    "            for part in msg.walk():\n",
    "                if part.get_content_type() == 'text/plain':\n",
    "                    data = part.get_payload(None, decode=True)\n",
    "\n",
    "            ham.append(data.decode(encoding='ISO-8859-1'))\n",
    "\n",
    "\n",
    "for root, dirs, files in os.walk(os.path.join(mypath, 'spam')):\n",
    "    for file in files:\n",
    "        with open(os.path.join(root, file), encoding='ISO-8859-1') as fin:\n",
    "            msg = em.message_from_file(fin, policy=policy.default)\n",
    "            for part in msg.walk():\n",
    "                if part.get_content_type() == 'text/plain':\n",
    "                    data = part.get_payload(None, decode=True)#.get_content()\n",
    "\n",
    "            spam.append(data.decode(encoding='ISO-8859-1'))\n",
    "\n",
    "print('{0} ham messages.'.format(len(ham)))\n",
    "print('{0} spam messages.'.format(len(spam)))"
   ]
  },
  {
   "cell_type": "code",
   "execution_count": 9,
   "metadata": {
    "collapsed": false
   },
   "outputs": [
    {
     "name": "stdout",
     "output_type": "stream",
     "text": [
      "1401 Good Emails\n",
      "1397 Bad Emails\n"
     ]
    }
   ],
   "source": [
    "import numpy as np\n",
    "\n",
    "pos_emails = np.array(ham)\n",
    "neg_emails = np.array(spam) \n",
    "\n",
    "pos_labels = np.ones(pos_emails.shape[0])\n",
    "neg_labels = np.zeros(neg_emails.shape[0])\n",
    "\n",
    "print('{0} Good Emails'.format(pos_emails.shape[0]))\n",
    "print('{0} Bad Emails'.format(neg_emails.shape[0]))"
   ]
  },
  {
   "cell_type": "code",
   "execution_count": 10,
   "metadata": {
    "collapsed": false
   },
   "outputs": [
    {
     "name": "stdout",
     "output_type": "stream",
     "text": [
      "(1500,)\n",
      "(1500,)\n",
      "(1298,)\n",
      "(1298,)\n"
     ]
    }
   ],
   "source": [
    "split_value = 750\n",
    "\n",
    "x_train = np.concatenate((pos_emails[:split_value], \n",
    "                          neg_emails[:split_value]), axis = 0)\n",
    "\n",
    "x_test = np.concatenate((pos_emails[split_value:],\n",
    "                         neg_emails[split_value:]), axis = 0)\n",
    "\n",
    "y_train = np.concatenate((pos_labels[:split_value], \n",
    "                          neg_labels[:split_value]), axis = 0)\n",
    "\n",
    "y_test = np.concatenate((pos_labels[split_value:],\n",
    "                         neg_labels[split_value:]), axis = 0)\n",
    "\n",
    "print(x_train.shape)\n",
    "print(y_train.shape)\n",
    "print(x_test.shape)\n",
    "print(y_test.shape)"
   ]
  },
  {
   "cell_type": "code",
   "execution_count": 11,
   "metadata": {
    "collapsed": false
   },
   "outputs": [
    {
     "data": {
      "text/plain": [
       "numpy.str_"
      ]
     },
     "execution_count": 11,
     "metadata": {},
     "output_type": "execute_result"
    }
   ],
   "source": [
    "type(x_test[0])"
   ]
  },
  {
   "cell_type": "code",
   "execution_count": 12,
   "metadata": {
    "collapsed": false
   },
   "outputs": [
    {
     "name": "stdout",
     "output_type": "stream",
     "text": [
      "             precision    recall  f1-score   support\n",
      "\n",
      "        Ham       0.92      0.98      0.95       647\n",
      "       Spam       0.97      0.92      0.94       651\n",
      "\n",
      "avg / total       0.95      0.95      0.95      1298\n",
      "\n"
     ]
    }
   ],
   "source": [
    "from sklearn.feature_extraction.text import CountVectorizer\n",
    "from sklearn.naive_bayes import MultinomialNB\n",
    "from sklearn.pipeline import Pipeline\n",
    "from sklearn import metrics\n",
    "\n",
    "tools = [('cv', CountVectorizer()), ('nb', MultinomialNB())]\n",
    "pclf = Pipeline(tools)\n",
    "\n",
    "\n",
    "# Lowercase and restrict ourselves to about half the available features\n",
    "pclf.set_params(cv__stop_words = 'english', \\\n",
    "                cv__ngram_range=(1,2), \\\n",
    "                cv__lowercase=True)\n",
    "\n",
    "pclf.fit(x_train, y_train)\n",
    "y_pred = pclf.predict(x_test)\n",
    "print(metrics.classification_report(y_test, y_pred, target_names = ['Ham', 'Spam']))"
   ]
  },
  {
   "cell_type": "markdown",
   "metadata": {},
   "source": [
    "-----\n",
    "\n",
    "### Classify our email\n",
    "\n",
    "-----"
   ]
  },
  {
   "cell_type": "code",
   "execution_count": 13,
   "metadata": {
    "collapsed": false
   },
   "outputs": [
    {
     "name": "stdout",
     "output_type": "stream",
     "text": [
      "Ham File Processing:\n",
      "--------------------\n",
      "kmdb.eml classified as ham\n",
      "prg.eml classified as ham\n",
      "pvc.eml classified as spam\n",
      "rw6.eml classified as spam\n",
      "rw7.eml classified as spam\n",
      "w7.eml classified as ham\n",
      "--------------------\n",
      "Spam File Processing:\n",
      "--------------------\n",
      "add.eml classified as spam\n",
      "cnn.eml classified as ham\n",
      "lcm.eml classified as ham\n",
      "mws.eml classified as ham\n",
      "prs.eml classified as spam\n",
      "vsfih.eml classified as ham\n"
     ]
    }
   ],
   "source": [
    "mypath = 'data'\n",
    "\n",
    "print('Ham File Processing:')\n",
    "print(20*'-')\n",
    "for root, dirs, files in os.walk(os.path.join(mypath, 'ham')):\n",
    "    for file in files:\n",
    "        with open(os.path.join(root, file), encoding='ISO-8859-1') as fin:\n",
    "            msg = em.message_from_file(fin, policy=policy.default)\n",
    "            for part in msg.walk():\n",
    "                if part.get_content_type() == 'text/plain':\n",
    "                    data = part.get_payload(None, decode=True)\n",
    "                lst = []\n",
    "                lst.append(data.decode(encoding='ISO-8859-1'))\n",
    "                value = pclf.predict(np.array(lst))\n",
    "                if value[0] == 0:\n",
    "                    my_pred = 'spam'\n",
    "                else:\n",
    "                    my_pred = 'ham'\n",
    "\n",
    "            print('{0} classified as {1}'.format(file, my_pred))\n",
    "\n",
    "print(20*'-')          \n",
    "print('Spam File Processing:')\n",
    "print(20*'-')\n",
    "for root, dirs, files in os.walk(os.path.join(mypath, 'spam')):\n",
    "    for file in files:\n",
    "        with open(os.path.join(root, file), encoding='ISO-8859-1') as fin:\n",
    "            msg = em.message_from_file(fin, policy=policy.default)\n",
    "            for part in msg.walk():\n",
    "                if part.get_content_type() == 'text/plain':\n",
    "                    data = part.get_payload(None, decode=True)\n",
    "                lst = []                    \n",
    "                lst.append(data.decode(encoding='ISO-8859-1'))\n",
    "                value = pclf.predict(np.array(lst))\n",
    "                if value[0] == 0:\n",
    "                    my_pred = 'spam'\n",
    "                else:\n",
    "                    my_pred = 'ham'\n",
    "\n",
    "            print('{0} classified as {1}'.format(file, my_pred))"
   ]
  },
  {
   "cell_type": "markdown",
   "metadata": {},
   "source": [
    "-----\n",
    "\n",
    "## Student Activity\n",
    "\n",
    "In the preceding cells, we used developed a simple Naive Bayes spam classifier. Now that you have run the Notebook, go back and make\n",
    "the following changes to see how the results change.\n",
    "\n",
    "1. Change split_value, try lower and higher values. How does the validation sample perform? How does our blind data perform?\n",
    "\n",
    "Try other techniques.\n",
    "\n",
    "Why does it perform so poorly on our Blind data?\n",
    "\n",
    "\n",
    "-----"
   ]
  }
 ],
 "metadata": {
  "kernelspec": {
   "display_name": "Python 3",
   "language": "python",
   "name": "python3"
  },
  "language_info": {
   "codemirror_mode": {
    "name": "ipython",
    "version": 3
   },
   "file_extension": ".py",
   "mimetype": "text/x-python",
   "name": "python",
   "nbconvert_exporter": "python",
   "pygments_lexer": "ipython3",
   "version": "3.5.1"
  }
 },
 "nbformat": 4,
 "nbformat_minor": 0
}
