{
 "cells": [
  {
   "cell_type": "markdown",
   "metadata": {},
   "source": [
    "<DIV ALIGN=CENTER>\n",
    "\n",
    "# Introduction to Social Media: Email\n",
    "## Professor Robert J. Brunner\n",
    "  \n",
    "</DIV>  \n",
    "-----\n",
    "-----"
   ]
  },
  {
   "cell_type": "markdown",
   "metadata": {},
   "source": [
    "\n",
    "## Introduction\n",
    "\n",
    "In this IPython Notebook, we explore \n",
    "\n",
    "Read and process email messages.\n",
    "\n",
    "Discuss how to send/recieve email?\n",
    "\n",
    "Spam/Ham classification? Enron/SPam Assasin?\n",
    "\n",
    "Clinton emails?\n",
    "\n",
    "-----\n"
   ]
  },
  {
   "cell_type": "code",
   "execution_count": null,
   "metadata": {
    "collapsed": false
   },
   "outputs": [],
   "source": [
    "# Set up Notebook\n",
    "\n",
    "% matplotlib inline\n",
    "\n",
    "# Standard imports\n",
    "import numpy as np\n",
    "import pandas as pd\n",
    "import matplotlib.pyplot as plt\n",
    "import seaborn as sns\n",
    "\n",
    "# We do this to ignore several specific Pandas warnings\n",
    "import warnings\n",
    "warnings.filterwarnings(\"ignore\")"
   ]
  },
  {
   "cell_type": "markdown",
   "metadata": {},
   "source": [
    "-----\n",
    "\n",
    "## Student Activity\n",
    "\n",
    "In the preceding cells, we used . Now that you\n",
    "have run the Notebook, go back and make the following changes to see how\n",
    "the results change.\n",
    "\n",
    "1. Change the ?\n",
    "2. Change the ?\n",
    "3. Try making a ?\n",
    "\n",
    "Finally, try applying a (discuss in class forums?\n",
    "\n",
    "-----"
   ]
  },
  {
   "cell_type": "markdown",
   "metadata": {},
   "source": [
    "-----\n",
    "\n",
    "### Email Text Parsing\n",
    "\n",
    "Python provides built-in support for [processing email messages][pem],\n",
    "which are an often overlooked source of information in data science\n",
    "projects. The library is part of the core Python distribution, and\n",
    "includes support for parsing email messages, as well as sending and\n",
    "receiving emails. For our purpose, we simply need to read in text and\n",
    "create an email `message`, which provides access to the basic email\n",
    "contents. The `message` instance provides access to the email header\n",
    "information as well as any payload data. \n",
    "\n",
    "Normally the payload is the email message, but with multipart messages,\n",
    "like HTML email messages, an email can have multiple payloads. In the\n",
    "next several code cells, we create an email `message` by reading an\n",
    "email from a file (the email should look familiar). We subsequently\n",
    "explore the Python email message interface to extract email headers and\n",
    "the message payload, before grabbing the HTML message for later parsing.\n",
    "\n",
    "-----\n",
    "\n",
    "[pem]: https://docs.python.org/3/library/email.html"
   ]
  },
  {
   "cell_type": "code",
   "execution_count": null,
   "metadata": {
    "collapsed": false
   },
   "outputs": [],
   "source": [
    "import email as em\n",
    "from email import policy\n",
    "\n",
    "with open(\"data/email.eml\") as fin:\n",
    "    msg = em.message_from_file(fin, policy=policy.default)\n",
    "    \n",
    "msg.keys()"
   ]
  },
  {
   "cell_type": "code",
   "execution_count": null,
   "metadata": {
    "collapsed": false
   },
   "outputs": [],
   "source": [
    "print('To:', msg['to'])\n",
    "print('From:', msg['from'])\n",
    "print('Subject:', msg['subject'])"
   ]
  },
  {
   "cell_type": "code",
   "execution_count": null,
   "metadata": {
    "collapsed": false
   },
   "outputs": [],
   "source": [
    "print(str(msg)[:349])"
   ]
  },
  {
   "cell_type": "code",
   "execution_count": null,
   "metadata": {
    "collapsed": false
   },
   "outputs": [],
   "source": [
    "print([att for att in dir(msg) if '__' not in att])"
   ]
  },
  {
   "cell_type": "code",
   "execution_count": null,
   "metadata": {
    "collapsed": false
   },
   "outputs": [],
   "source": [
    "if msg.is_multipart() == True:\n",
    "    data = msg.get_payload()\n",
    "\n",
    "    print(\"Text Data:\\n---------\\n\", data[0])"
   ]
  },
  {
   "cell_type": "code",
   "execution_count": null,
   "metadata": {
    "collapsed": false
   },
   "outputs": [],
   "source": [
    "from IPython.display import HTML\n",
    "\n",
    "html = str(data[1])[102:]\n",
    "\n",
    "HTML(html)"
   ]
  },
  {
   "cell_type": "code",
   "execution_count": null,
   "metadata": {
    "collapsed": false
   },
   "outputs": [],
   "source": [
    "print(html)"
   ]
  },
  {
   "cell_type": "code",
   "execution_count": null,
   "metadata": {
    "collapsed": true
   },
   "outputs": [],
   "source": []
  }
 ],
 "metadata": {
  "kernelspec": {
   "display_name": "Python 3",
   "language": "python",
   "name": "python3"
  },
  "language_info": {
   "codemirror_mode": {
    "name": "ipython",
    "version": 3
   },
   "file_extension": ".py",
   "mimetype": "text/x-python",
   "name": "python",
   "nbconvert_exporter": "python",
   "pygments_lexer": "ipython3",
   "version": "3.4.4"
  }
 },
 "nbformat": 4,
 "nbformat_minor": 0
}
