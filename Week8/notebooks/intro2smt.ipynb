{
 "cells": [
  {
   "cell_type": "markdown",
   "metadata": {},
   "source": [
    "<DIV ALIGN=CENTER>\n",
    "\n",
    "# Introduction to Social Media: Twitter\n",
    "## Professor Robert J. Brunner\n",
    "  \n",
    "</DIV>  \n",
    "-----\n",
    "-----"
   ]
  },
  {
   "cell_type": "markdown",
   "metadata": {},
   "source": [
    "\n",
    "## Introduction\n",
    "\n",
    "\n",
    "When looking for data to use for text data processing, one of the more\n",
    "popular data sources is [Twitter][tw]. In this Notebook, we introduce\n",
    "the Twitter API, and demonstrate how to use the Twitter API from within\n",
    "a Python program to acquire and process tweets, or Twitter messages.\n",
    "\n",
    "\n",
    "In this IPython Notebook, we explore \n",
    "\n",
    "OAUTH\n",
    "\n",
    "Twitter client \n",
    "\n",
    "Process twitter information. SHow Tweet JSON.\n",
    "\n",
    "Discuss rate limits\n",
    "\n",
    "Sentiment analysis?\n",
    "\n",
    "-----\n",
    "[tw]: https://www.twitter.com"
   ]
  },
  {
   "cell_type": "markdown",
   "metadata": {},
   "source": [
    "## Python and Twitter\n",
    "\n",
    "To work with the Twitter API from within a Python program, we need a\n",
    "Python library that wraps the official [Twitter API][twapi]. There are a\n",
    "number of different Python libraries that provide this capability, we\n",
    "will use the [tweepy][tpy] library, which is fairly popular and provides\n",
    "a fairly complete interface.\n",
    "\n",
    "The full Twitter API is large and robust (and continuous to evolve),\n",
    "for this course we will restrict our attention to several basic\n",
    "concepts, namely authenticating to Twitter, searching for Tweets, and\n",
    "digesting the messages.\n",
    "\n",
    "----\n",
    "[twapi]: https://dev.twitter.com\n",
    "[tpy]: http://www.tweepy.org"
   ]
  },
  {
   "cell_type": "code",
   "execution_count": null,
   "metadata": {
    "collapsed": false
   },
   "outputs": [],
   "source": [
    "import tweepy as tw"
   ]
  },
  {
   "cell_type": "markdown",
   "metadata": {
    "collapsed": true
   },
   "source": [
    "-----\n",
    "\n",
    "## Reading Twitter Data\n",
    "\n",
    "To read twitter data, you need to first need to be a registered Twitter\n",
    "user and you need to create a new _Twitter Application_ in order to\n",
    "obtain credentials for connecting to Twitter and querying to the\n",
    "Twitter data. You create (and later manage) Twitter applications by\n",
    "visting the [Twitter Application Management](https://apps.twitter.com)\n",
    "website.\n",
    "\n",
    "![Twitter App Sign-in](images/twitter-app-signin.png)\n",
    "\n",
    "At this point you need to authenticate with Twitter, if you are already\n",
    "logged in to Twitter on your computer (for instance by using the Twitter\n",
    "website) you should already be authenticated. If you are not\n",
    "authenticated, click the _sign in_ link to be directed to the Twitter\n",
    "signin page where you can enter your credentials (if you do not have\n",
    "Twitter credentials, you will need to obtain a Twitter account to\n",
    "proceed).\n",
    "\n",
    "![Twitter Sign-in](images/twitter-signin.png)\n",
    "\n",
    "After you have been authenticated, you will be redirected to the Twitter\n",
    "apps page. If you have never created a Twitter application, you will\n",
    "have nothing listed. To create a new application, press the _Create New\n",
    "App_ button, as shown in the following screenshot.\n",
    "\n",
    "![Twitter Create App](images/twitter-create.png)\n",
    "\n",
    "This will open up the Twitter _Create an application_ webpage, where you\n",
    "need to supply some basic information for your Twitter application such\n",
    "as an application name, description, and website.\n",
    "\n",
    "![Twitter Application details](images/twitter-appdetails.png)\n",
    "\n",
    "Scroll to the bottom of this webpage where the **Developer Agreement**\n",
    "is located. Following this agreement, is a check box that you should\n",
    "click to signify you agree to be bound by the agreement (of course you\n",
    "should read this to be sure you do _agree_ with it first). Following\n",
    "this, press the _Create your Twitter application_ button as shown in the\n",
    "following screenshot.\n",
    "\n",
    "![Twitter Agree](images/twitter-agree.png)\n",
    "\n",
    "This will create your new application, and provide you with your\n",
    "application webpage, which will be similar to the following screenshot.\n",
    "\n",
    "![Twitter Apppage](images/twitter-apppage.png)\n",
    "\n",
    "While you can control a number of application features from this\n",
    "webpage, the most important tasks to complete include:\n",
    "\n",
    "1. Change your application to _read-only_ in case it is set to\n",
    "read-write.\n",
    "\n",
    "2. Obtain the application **Consumer Key** and **Consumer Secret**.\n",
    "\n",
    "3. Obtain your personal **Access Token** and **Access Token Secret**.\n",
    "\n",
    "You should change your application read-only to ensure you don't\n",
    "accidentally send data out to Twitter. You change this by selecting the\n",
    "_Permissions_ tab and selecting _Read only_, shown in the following\n",
    "screenshot. To save this setting, scroll down this webpage and click the\n",
    "_Update Settings_ button at the bottom of the page.\n",
    "\n",
    "![Twitter Read Only Setting](images/twitter-ro.png)\n",
    "\n",
    "These credentials can be found by selecting the _Keys and Access Tokens_\n",
    "tab, and scrolling down appropriately as shown in the following two\n",
    "screenshots.\n",
    "\n",
    "![Twitter Consumer Application Credentials](images/twitter-consume.png)\n",
    "\n",
    "![Twitter User Credentials](images/twitter-access.png)\n",
    "\n",
    "<font color='red'>Warning: Never share these credentials with others or\n",
    "they will be able to fully impersonate you on Twitter!</font>\n",
    "\n",
    "You can directly copy these credentials into your Notebook, or,\n",
    "alternatively, save them into a file (for example by opening a terminal\n",
    "window and using `vim` to create a text file. In the rest of this\n",
    "Notebook, I demonstrate this functionality by using my credentials,\n",
    "which I have saved into a file called`twitter.cred'. In this empty file,\n",
    "which is in your github repository, I have saved the following four\n",
    "credentials in order:\n",
    "\n",
    "1. Access Token\n",
    "2. Access Token Secret\n",
    "3. Consumer Key\n",
    "4. Consumer Secret\n",
    "\n",
    "The following code cell demonstrates how these credentials are read from\n",
    "the file and used to properly authenticate our application with Twitter.\n",
    "\n",
    "-----\n",
    "\n",
    "\n"
   ]
  },
  {
   "cell_type": "code",
   "execution_count": null,
   "metadata": {
    "collapsed": false
   },
   "outputs": [],
   "source": [
    "tokens = []\n",
    "\n",
    "# Order: Access Token, Access Token Secret, Consumer Key, Consumer SecretAccess\n",
    "\n",
    "with open(\"twitter.cred\", 'r') as fin:\n",
    "    for line in fin:\n",
    "        if line[0] != '#': # Not a comment line\n",
    "            tokens.append(line.rstrip('\\n'))\n",
    "\n",
    "auth = tw.OAuthHandler(tokens[2], tokens[3])\n",
    "auth.set_access_token(tokens[0], tokens[1])\n",
    "\n",
    "api = tw.API(auth)\n",
    "\n",
    "user = api.me()\n",
    "\n",
    "print(\"Twitter Screen Name: \", user.screen_name)\n",
    "print(\"Twitter Follower Count: \", user.followers_count)\n",
    "\n",
    "print(\"\\nThis user follows:\\n--------------\")\n",
    "for friend in user.friends():\n",
    "    print(friend.screen_name)"
   ]
  },
  {
   "cell_type": "markdown",
   "metadata": {},
   "source": [
    "-----\n",
    "\n",
    "If the following code cell runs without an error, you have successfully\n",
    "connected to twitter. If you are new to twitter and are not following\n",
    "anyone, you can instead display the user information for a different\n",
    "Twitter user. For example, the following code would display my Twitter\n",
    "information.\n",
    "\n",
    "```python\n",
    "user = api.get_user('ProfBrunner')\n",
    "```\n",
    "\n",
    "Replacing `ProfBrunner` with any valid Twitter user id will display\n",
    "their information. You can find examples by looking at those Twitter\n",
    "users you (or `ProfBrunner`) follow.\n",
    "\n",
    "At any point, you can return to your Twitter application management\n",
    "webpage to view your new application. You can now view and manage your\n",
    "existing application, or create a new application as shown in the\n",
    "following screenshot.\n",
    "\n",
    "![Twitter new app management](images/twitter-manage.png)\n",
    "\n",
    "\n",
    "-----\n"
   ]
  },
  {
   "cell_type": "markdown",
   "metadata": {},
   "source": [
    "-----\n",
    "\n",
    "## Student Activity\n",
    "\n",
    "In the preceding cells, we used . Now that you\n",
    "have run the Notebook, go back and make the following changes to see how\n",
    "the results change.\n",
    "\n",
    "1. Change the ?\n",
    "2. Change the ?\n",
    "3. Try making a ?\n",
    "\n",
    "Finally, try applying a (discuss in class forums?\n",
    "\n",
    "you should work through the previous Twitter\n",
    "application setup in order to better learn how Twitter and in particular\n",
    "the Tweepy Python library works. In addition, this will guarantee you\n",
    "can follow along with the rest of this Notebook. Specific problems you\n",
    "can attempt include the following:\n",
    "\n",
    "1. Create a New Twitter application.\n",
    "\n",
    "2. Save your Twitter credentials and Application credentials into the\n",
    "provided `twitter.cred` file.\n",
    "\n",
    "3. Run the _tweepy_ sample code to connect to Twitter and display your\n",
    "Twitter user information.\n",
    "\n",
    "Additional, more advanced problems:\n",
    "\n",
    "1. Run the Twitter example above but for `ProfBrunner` instead.\n",
    "\n",
    "2. Find the Twitter username for someone else (perhaps someone famous,\n",
    "or someone else you know) and run the example code using their name.\n",
    "\n",
    "\n",
    "\n",
    "-----"
   ]
  },
  {
   "cell_type": "markdown",
   "metadata": {},
   "source": [
    "### Obtaining Tweets\n",
    "\n",
    "Once you have authenticated with Twitter, you can begin to [search the\n",
    "Twitter stream][stw] for tweets of interest. The easiest method to get started\n",
    "is to being with your own (or another specific Twitter user's) own\n",
    "Twitter feed. To access your own Twitter feed, you can simply use your\n",
    "`home_timeline` to retrieve your own Tweets or Tweets from those whom\n",
    "you follow. This is demonstrated in the following code cell, where we\n",
    "display the `text` values from the ten most recent Tweets from our\n",
    "timeline.\n",
    "\n",
    "-----\n",
    "[stw]: https://dev.twitter.com/rest/public/search"
   ]
  },
  {
   "cell_type": "code",
   "execution_count": null,
   "metadata": {
    "collapsed": false
   },
   "outputs": [],
   "source": [
    "for status in tw.Cursor(api.home_timeline).items(10):\n",
    "    # Process a single status\n",
    "    print(status.text) "
   ]
  },
  {
   "cell_type": "markdown",
   "metadata": {},
   "source": [
    "-----\n",
    "\n",
    "### Searching\n",
    "\n",
    "Twitter also provides the capability to search for specific tweets by\n",
    "using the Tweepy [`search` method][twse]. In this method, you supply a\n",
    "query string (and optional arguments) and are returned a list of Tweets.\n",
    "The query string should follow the [Twitter Search API][tsa], but\n",
    "basically you can search for specific text in a string by using the text\n",
    "of interest, you can search for a person by using the `@` character\n",
    "followed by their Twitter username, and hashtags by using the `#`\n",
    "character followed by the tag text.\n",
    "\n",
    "-----\n",
    "\n",
    "[twse]: http://docs.tweepy.org/en/stable/api.html#API.search\n",
    "[tsa]: https://dev.twitter.com/rest/public/search"
   ]
  },
  {
   "cell_type": "code",
   "execution_count": null,
   "metadata": {
    "collapsed": false
   },
   "outputs": [],
   "source": [
    "term ='UIResearchPark'\n",
    "\n",
    "messages = []\n",
    "\n",
    "current_page = 1\n",
    "max_pages = 2\n",
    "\n",
    "while(current_page <= max_pages):\n",
    "    tweets = api.search(term, rpp=5)\n",
    "    for tweet in tweets:\n",
    "        messages.append(tweet)\n",
    "    current_page += 1\n",
    "\n",
    "for message in messages:\n",
    "    print(\"Tweet ID:\", message.id)\n",
    "    print('Tweeted by ', message.user.screen_name)\n",
    "    print(\"Created at \",message.created_at)\n",
    "    print(\"Location: \",message.source)\n",
    "    print('Tweet Text: ', message.text)\n",
    "    print('-------------------------')\n",
    "\n"
   ]
  },
  {
   "cell_type": "markdown",
   "metadata": {},
   "source": [
    "-----\n",
    "\n",
    "We can view the available attributes to display by using Python `dir`\n",
    "method to perform introspection. In the following code cell we\n",
    "explicitly remove _class_ methods to minimize the display list and focus\n",
    "on the items of interest. After this, we display the Tweet in its raw\n",
    "JSON format by accessing the `_json` attribute.\n",
    "\n",
    "-----"
   ]
  },
  {
   "cell_type": "code",
   "execution_count": null,
   "metadata": {
    "collapsed": false
   },
   "outputs": [],
   "source": [
    "[att for att in dir(message) if '__' not in att]"
   ]
  },
  {
   "cell_type": "code",
   "execution_count": null,
   "metadata": {
    "collapsed": false
   },
   "outputs": [],
   "source": [
    "# We can display the message data in JSON format\n",
    "message._json"
   ]
  },
  {
   "cell_type": "code",
   "execution_count": null,
   "metadata": {
    "collapsed": true
   },
   "outputs": [],
   "source": []
  }
 ],
 "metadata": {
  "kernelspec": {
   "display_name": "Python 3",
   "language": "python",
   "name": "python3"
  },
  "language_info": {
   "codemirror_mode": {
    "name": "ipython",
    "version": 3
   },
   "file_extension": ".py",
   "mimetype": "text/x-python",
   "name": "python",
   "nbconvert_exporter": "python",
   "pygments_lexer": "ipython3",
   "version": "3.4.4"
  }
 },
 "nbformat": 4,
 "nbformat_minor": 0
}
