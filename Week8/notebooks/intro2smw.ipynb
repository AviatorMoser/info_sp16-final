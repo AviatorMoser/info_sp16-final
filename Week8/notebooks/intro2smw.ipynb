{
 "cells": [
  {
   "cell_type": "markdown",
   "metadata": {},
   "source": [
    "<DIV ALIGN=CENTER>\n",
    "\n",
    "# Introduction to Social Media: Web\n",
    "## Professor Robert J. Brunner\n",
    "  \n",
    "</DIV>  \n",
    "-----\n",
    "-----"
   ]
  },
  {
   "cell_type": "markdown",
   "metadata": {},
   "source": [
    "\n",
    "## Introduction\n",
    "\n",
    "In this IPython Notebook, we explore \n",
    "\n",
    "Use BeautifulSoup to process web page.\n",
    "\n",
    "Language classification, using Wikipedia?\n",
    "\n",
    "Process UIUC Course explorer?\n",
    "\n",
    "Newspaper?\n",
    "\n",
    "-----\n"
   ]
  },
  {
   "cell_type": "markdown",
   "metadata": {
    "collapsed": true
   },
   "source": [
    "### Structured Text Parsing\n",
    "\n",
    "To parse structured text, like an XML or an HTML document, we can use\n",
    "the Python [Beautiful Soup][bs] library. This library uses an XML/HTML\n",
    "parser to build a DOM tree, and Beautiful Soup then provides traversal\n",
    "methods to access and modify the DOM for a specific document. Beautiful\n",
    "Soup has been extremely popular for the ease with which it allows web\n",
    "scraping, for example, you can pull data out of an HTML table. But it is\n",
    "more powerful than this, as it allows you to easily parse and manipulate\n",
    "any XML document.\n",
    "\n",
    "To use Beautiful Soup, we first need to import the library, and then\n",
    "create a BeautifulSoup object that provides access to the parsed data.\n",
    "Document elements, like `body` or `table` are directly accessed from the\n",
    "parsed tree; and element attributes or data can be easily extracted,\n",
    "deleted, or replaced. If required, new data can also be added to an\n",
    "existing document, allowing for the dynamic creation of a new document.\n",
    "These capabilities are demonstrated in the following code cells.\n",
    "\n",
    "-----\n",
    "[bs]: http://www.crummy.com/software/BeautifulSoup/\n",
    "\n",
    "\n"
   ]
  },
  {
   "cell_type": "code",
   "execution_count": null,
   "metadata": {
    "collapsed": false
   },
   "outputs": [],
   "source": [
    "# Lets parse our HTML document\n",
    "\n",
    "# We use BeautofulSoup version 4\n",
    "from bs4 import BeautifulSoup\n",
    "  \n",
    "soup = BeautifulSoup(html)\n",
    "\n",
    "# Now lets print out the start of the HTMl file\n",
    "print(soup.prettify()[:134])"
   ]
  },
  {
   "cell_type": "code",
   "execution_count": null,
   "metadata": {
    "collapsed": false
   },
   "outputs": [],
   "source": [
    "# We can access document elements directly\n",
    "print('code element:= ', soup.pre)\n",
    "print('value:', soup.pre.string)\n",
    "\n",
    "# We can access parent data\n",
    "print('parent element: ', soup.pre.parent.name)"
   ]
  },
  {
   "cell_type": "code",
   "execution_count": null,
   "metadata": {
    "collapsed": false
   },
   "outputs": [],
   "source": [
    "# We can directly access elemnt attributes\n",
    "\n",
    "print('font class attribute: ', soup.font['size'])"
   ]
  },
  {
   "cell_type": "code",
   "execution_count": null,
   "metadata": {
    "collapsed": false
   },
   "outputs": [],
   "source": [
    "# We can access an entire element's content\n",
    "print(soup.b)"
   ]
  },
  {
   "cell_type": "code",
   "execution_count": null,
   "metadata": {
    "collapsed": false
   },
   "outputs": [],
   "source": [
    "# We can find all occurances of a particular element\n",
    "\n",
    "for el in soup.find_all('p'):\n",
    "    print(el)"
   ]
  },
  {
   "cell_type": "code",
   "execution_count": null,
   "metadata": {
    "collapsed": false
   },
   "outputs": [],
   "source": [
    "# We can also change data in the document\n",
    "\n",
    "soup.body['class'] = 'newClass'\n",
    "\n",
    "print(\"\\nBody class attribute = \", soup.body['class'])\n",
    "\n"
   ]
  },
  {
   "cell_type": "code",
   "execution_count": null,
   "metadata": {
    "collapsed": false
   },
   "outputs": [],
   "source": [
    "# We can delete elements\n",
    "\n",
    "myCode = soup.pre.extract()\n",
    "\n",
    "print(soup.pre)"
   ]
  },
  {
   "cell_type": "code",
   "execution_count": null,
   "metadata": {
    "collapsed": false
   },
   "outputs": [],
   "source": [
    "# We can select elements based on CSS Selectors\n",
    "target = soup.select('font[size]')\n",
    "print(target)"
   ]
  },
  {
   "cell_type": "code",
   "execution_count": null,
   "metadata": {
    "collapsed": false
   },
   "outputs": [],
   "source": [
    "# We need to pull out the first element in the list to get tag\n",
    "# Now we can insert our table back into the DOM\n",
    "\n",
    "target[0].insert_after(myCode)\n",
    "print(soup.pre)"
   ]
  },
  {
   "cell_type": "code",
   "execution_count": null,
   "metadata": {
    "collapsed": false
   },
   "outputs": [],
   "source": [
    "# We can also insert entirely new elements.\n",
    "\n",
    "# First we create a new element (tag)\n",
    "tag = soup.new_tag('h3', id='h3id')\n",
    "tag.string = 'A New Header'\n",
    "\n",
    "# Now we can append (in this case we put the new element at the end of the body)\n",
    "\n",
    "soup.body.append(tag)\n",
    "\n",
    "# Show the result\n",
    "print(soup.h3)"
   ]
  },
  {
   "cell_type": "markdown",
   "metadata": {},
   "source": [
    "-----\n",
    "\n",
    "While Beautiful Soup provides a great deal of power and simplicity in\n",
    "DOM parsing and element retrieval, the full power of parsing a document\n",
    "requires the use of regular expressions. Given a regular expression, the\n",
    "first task in Python is to compile the RE, which is done by using the\n",
    "`compile` method in the `re` module. This is demonstrated in the\n",
    "following code cell where we use a regular expression to find the\n",
    "element containing `Docker` to display HTML entities that contain the\n",
    "word _Docker_.\n",
    "\n",
    "-----\n",
    "\n"
   ]
  },
  {
   "cell_type": "code",
   "execution_count": null,
   "metadata": {
    "collapsed": false
   },
   "outputs": [],
   "source": [
    "# We need the re module\n",
    "import re \n",
    "\n",
    "# Open and parse our XML document\n",
    "soup = BeautifulSoup(html)\n",
    "\n",
    "# Findelements containing the Docker string\n",
    "for el in soup.find_all(text=re.compile('Docker')):\n",
    "    print(el.parent)"
   ]
  },
  {
   "cell_type": "markdown",
   "metadata": {},
   "source": [
    "-----\n",
    "\n",
    "## Student Activity\n",
    "\n",
    "In the preceding cells, we used . Now that you\n",
    "have run the Notebook, go back and make the following changes to see how\n",
    "the results change.\n",
    "\n",
    "1. Change the ?\n",
    "2. Change the ?\n",
    "3. Try making a ?\n",
    "\n",
    "Finally, try applying a (discuss in class forums?\n",
    "\n",
    "you should work to improve your Python text data\n",
    "processing skills. Specific problems you can attempt include the\n",
    "following:\n",
    "\n",
    "1. Modify the first String Processing code to convert all text to\n",
    "lowercase characters before accumulating the word counts.\n",
    "\n",
    "2. Use the Python set to obtain the list of unique words in the text\n",
    "message.\n",
    "\n",
    "3. Use Regular Expressions to remove the email encoding characters from\n",
    "the message text.\n",
    "\n",
    "Additional, more advanced problems:\n",
    "\n",
    "1. Save several emails from within your mail reader and modify the\n",
    "Python code to process them in bulk to extract out the sender, date\n",
    "sent, and subject.\n",
    "\n",
    "2. Save several webpages (perhaps by using wget), and modify the\n",
    "BeautifulSoup code example to parse out and display the page title, any\n",
    "Javascript code libraries, and any css style file references.\n",
    "\n",
    "-----\n"
   ]
  }
 ],
 "metadata": {
  "kernelspec": {
   "display_name": "Python 3",
   "language": "python",
   "name": "python3"
  },
  "language_info": {
   "codemirror_mode": {
    "name": "ipython",
    "version": 3
   },
   "file_extension": ".py",
   "mimetype": "text/x-python",
   "name": "python",
   "nbconvert_exporter": "python",
   "pygments_lexer": "ipython3",
   "version": "3.4.4"
  }
 },
 "nbformat": 4,
 "nbformat_minor": 0
}
